{
 "cells": [
  {
   "cell_type": "markdown",
   "metadata": {},
   "source": [
    "# Entity Resolution- Dedupe Model"
   ]
  },
  {
   "cell_type": "code",
   "execution_count": 1,
   "metadata": {
    "collapsed": true
   },
   "outputs": [],
   "source": [
    "# Import Statements\n",
    "from __future__ import print_function\n",
    "from future.builtins import next\n",
    "\n",
    "import os\n",
    "import csv\n",
    "import re\n",
    "import collections\n",
    "import numpy\n",
    "\n",
    "import dedupe\n",
    "from unidecode import unidecode"
   ]
  },
  {
   "cell_type": "markdown",
   "metadata": {},
   "source": [
    "Setup"
   ]
  },
  {
   "cell_type": "code",
   "execution_count": 2,
   "metadata": {
    "collapsed": true
   },
   "outputs": [],
   "source": [
    "# the output_file will store the results of the record linkage deduplication\n",
    "output_file = 'data_matching_output.csv'\n",
    "\n",
    "# the settings file will contain the data model and predicates\n",
    "settings_file = 'data_matching_learned_settings'\n",
    "\n",
    "# the training_file will contain the pairs of labeled examples that the model was trained on\n",
    "training_file = 'data_matching_training.json'\n"
   ]
  },
  {
   "cell_type": "code",
   "execution_count": 3,
   "metadata": {
    "collapsed": true
   },
   "outputs": [],
   "source": [
    "# method to clean the data using Unidecode and Regex\n",
    "\n",
    "def preProcess(column):\n",
    "    # convert any unicode data into ASCII characters\n",
    "    column = unidecode(column)\n",
    "    # ignore new lines\n",
    "    column = re.sub('\\n', ' ', column)\n",
    "    # ignore special characters\n",
    "    column = re.sub('-', '', column)\n",
    "    column = re.sub('/', ' ', column)\n",
    "    column = re.sub(\"'\", '', column)\n",
    "    column = re.sub(\",\", '', column)\n",
    "    column = re.sub(\":\", ' ', column)\n",
    "    # ignore extra white space\n",
    "    column = re.sub('  +', ' ', column)\n",
    "    # ignore casing\n",
    "    column = column.strip().strip('\"').strip(\"'\").lower().strip()\n",
    "    if not column :\n",
    "        column = None\n",
    "    return column\n"
   ]
  },
  {
   "cell_type": "code",
   "execution_count": 4,
   "metadata": {
    "collapsed": true
   },
   "outputs": [],
   "source": [
    "# Read the data from the CSV and create a dictionary of addresses\n",
    "\n",
    "def readData(filename):\n",
    "    \n",
    "    # initialize the dictionary\n",
    "    data_d = {}\n",
    "\n",
    "    # read each row in the CSV, clean the data, and it to a dictionary\n",
    "    with open(filename) as f:\n",
    "        reader = csv.DictReader(f)\n",
    "        for i, row in enumerate(reader):\n",
    "            clean_row = dict([(k, preProcess(v)) for (k, v) in row.items()])\n",
    "            # each address will have a unique ID consisting of the file name and a unique number\n",
    "            data_d[filename + str(i)] = dict(clean_row)\n",
    "\n",
    "    return data_d"
   ]
  },
  {
   "cell_type": "code",
   "execution_count": 5,
   "metadata": {
    "collapsed": true
   },
   "outputs": [],
   "source": [
    "# Import the data\n",
    "data_1 = readData('addresses.csv')\n",
    "data_2 = readData('user_entries.csv')"
   ]
  },
  {
   "cell_type": "markdown",
   "metadata": {},
   "source": [
    "Train the model"
   ]
  },
  {
   "cell_type": "code",
   "execution_count": null,
   "metadata": {},
   "outputs": [
    {
     "name": "stderr",
     "output_type": "stream",
     "text": [
      "title : 6350 cottage hill road\n",
      "description : mobile al 36609\n",
      "\n",
      "title : montgomery highway\n",
      "description : vestavia hills al 35216\n",
      "\n",
      "0/10 positive, 0/10 negative\n",
      "Do these records refer to the same thing?\n",
      "(y)es / (n)o / (u)nsure / (f)inished\n"
     ]
    },
    {
     "name": "stdout",
     "output_type": "stream",
     "text": [
      "starting active labeling...\n",
      "n\n"
     ]
    },
    {
     "name": "stderr",
     "output_type": "stream",
     "text": [
      "title : 2575 us hwy 43\n",
      "description : winfield al 35594\n",
      "\n",
      "title : 2575 us hwy 43\n",
      "description : winfield al 35589\n",
      "\n",
      "0/10 positive, 1/10 negative\n",
      "Do these records refer to the same thing?\n",
      "(y)es / (n)o / (u)nsure / (f)inished / (p)revious\n"
     ]
    },
    {
     "name": "stdout",
     "output_type": "stream",
     "text": [
      "y\n"
     ]
    },
    {
     "name": "stderr",
     "output_type": "stream",
     "text": [
      "title : 137 teaticket hwy\n",
      "description : east falmouth ma 2536\n",
      "\n",
      "title : 137 teaticket hwy\n",
      "description : east falmouth ma 2536\n",
      "\n",
      "1/10 positive, 1/10 negative\n",
      "Do these records refer to the same thing?\n",
      "(y)es / (n)o / (u)nsure / (f)inished / (p)revious\n"
     ]
    },
    {
     "name": "stdout",
     "output_type": "stream",
     "text": [
      "y\n"
     ]
    },
    {
     "name": "stderr",
     "output_type": "stream",
     "text": [
      "INFO:dedupe.training:Final predicate set:\n",
      "INFO:dedupe.training:(PartialPredicate: (alphaNumericPredicate, title, StreetName), SimplePredicate: (wholeFieldPredicate, title))\n",
      "title : 2400 route 9\n",
      "description : fishkill ny 12524\n",
      "\n",
      "title : 2575 us hwy 43\n",
      "description : winfld al 35594\n",
      "\n",
      "2/10 positive, 1/10 negative\n",
      "Do these records refer to the same thing?\n",
      "(y)es / (n)o / (u)nsure / (f)inished / (p)revious\n"
     ]
    },
    {
     "name": "stdout",
     "output_type": "stream",
     "text": [
      "n\n"
     ]
    },
    {
     "name": "stderr",
     "output_type": "stream",
     "text": [
      "INFO:dedupe.training:Final predicate set:\n",
      "INFO:dedupe.training:(SimplePredicate: (sameSevenCharStartPredicate, description), SimplePredicate: (wholeFieldPredicate, title))\n",
      "title : 2181 pelham pkwy\n",
      "description : pelham al 35124\n",
      "\n",
      "title : 19000 cntr point rd\n",
      "description : center pt al 35215\n",
      "\n",
      "2/10 positive, 2/10 negative\n",
      "Do these records refer to the same thing?\n",
      "(y)es / (n)o / (u)nsure / (f)inished / (p)revious\n"
     ]
    },
    {
     "name": "stdout",
     "output_type": "stream",
     "text": [
      "n\n"
     ]
    },
    {
     "name": "stderr",
     "output_type": "stream",
     "text": [
      "title : 2575 us hwy 43\n",
      "description : winfield al 35594\n",
      "\n",
      "title : 2575 us hwy 43\n",
      "description : winfld al 35594\n",
      "\n",
      "2/10 positive, 3/10 negative\n",
      "Do these records refer to the same thing?\n",
      "(y)es / (n)o / (u)nsure / (f)inished / (p)revious\n"
     ]
    },
    {
     "name": "stdout",
     "output_type": "stream",
     "text": [
      "y\n"
     ]
    },
    {
     "name": "stderr",
     "output_type": "stream",
     "text": [
      "title : 101 sanford farm shpg center\n",
      "description : amsterdam ny 12010\n",
      "\n",
      "title : 100 sanford frm shpg center\n",
      "description : ams new york 12010\n",
      "\n",
      "3/10 positive, 3/10 negative\n",
      "Do these records refer to the same thing?\n",
      "(y)es / (n)o / (u)nsure / (f)inished / (p)revious\n"
     ]
    },
    {
     "name": "stdout",
     "output_type": "stream",
     "text": [
      "y\n"
     ]
    },
    {
     "name": "stderr",
     "output_type": "stream",
     "text": [
      "INFO:dedupe.training:Final predicate set:\n",
      "INFO:dedupe.training:(SimplePredicate: (doubleMetaphone, description), SimplePredicate: (wholeFieldPredicate, title))\n",
      "title : 311 rt 9w\n",
      "description : glenmont ny 12077\n",
      "\n",
      "title : 310 route 9 west\n",
      "description : glenmont ny 12077\n",
      "\n",
      "4/10 positive, 3/10 negative\n",
      "Do these records refer to the same thing?\n",
      "(y)es / (n)o / (u)nsure / (f)inished / (p)revious\n"
     ]
    },
    {
     "name": "stdout",
     "output_type": "stream",
     "text": [
      "y\n"
     ]
    },
    {
     "name": "stderr",
     "output_type": "stream",
     "text": [
      "INFO:dedupe.training:Final predicate set:\n",
      "INFO:dedupe.training:(SimplePredicate: (doubleMetaphone, description), SimplePredicate: (wholeFieldPredicate, title))\n",
      "INFO:dedupe.training:(LevenshteinSearchPredicate: (2, title), PartialPredicate: (commonTwoTokens, title, StreetName))\n",
      "title : 901 route 110\n",
      "description : farmingdale ny 11735\n",
      "\n",
      "title : route 110 #901\n",
      "description : farmingdale ny 11735\n",
      "\n",
      "5/10 positive, 3/10 negative\n",
      "Do these records refer to the same thing?\n",
      "(y)es / (n)o / (u)nsure / (f)inished / (p)revious\n"
     ]
    },
    {
     "name": "stdout",
     "output_type": "stream",
     "text": [
      "y\n"
     ]
    },
    {
     "name": "stderr",
     "output_type": "stream",
     "text": [
      "INFO:dedupe.training:Final predicate set:\n",
      "INFO:dedupe.training:(PartialPredicate: (alphaNumericPredicate, title, StreetName), SimplePredicate: (wholeFieldPredicate, title))\n",
      "INFO:dedupe.training:(PartialIndexLevenshteinSearchPredicate: (1, title, StreetName), SimplePredicate: (fingerprint, description))\n",
      "INFO:dedupe.training:(LevenshteinSearchPredicate: (2, title), PartialPredicate: (commonTwoTokens, title, StreetName))\n",
      "title : 2055 niagara falls blvd\n",
      "description : amherst ny 14228\n",
      "\n",
      "title : 506 state road\n",
      "description : None\n",
      "\n",
      "6/10 positive, 3/10 negative\n",
      "Do these records refer to the same thing?\n",
      "(y)es / (n)o / (u)nsure / (f)inished / (p)revious\n"
     ]
    },
    {
     "name": "stdout",
     "output_type": "stream",
     "text": [
      "n\n"
     ]
    },
    {
     "name": "stderr",
     "output_type": "stream",
     "text": [
      "title : 630 coonial promenade pkwy\n",
      "description : alabaster al 35007\n",
      "\n",
      "title : lynwy\n",
      "description : lynnway ma\n",
      "\n",
      "6/10 positive, 4/10 negative\n",
      "Do these records refer to the same thing?\n",
      "(y)es / (n)o / (u)nsure / (f)inished / (p)revious\n"
     ]
    },
    {
     "name": "stdout",
     "output_type": "stream",
     "text": [
      "n\n"
     ]
    },
    {
     "name": "stderr",
     "output_type": "stream",
     "text": [
      "title : 555 hubbard avesuite 12\n",
      "description : pittsfield ma 1201\n",
      "\n",
      "title : 555 hubbard ave suite 12\n",
      "description : pittsfild massa 1201\n",
      "\n",
      "6/10 positive, 5/10 negative\n",
      "Do these records refer to the same thing?\n",
      "(y)es / (n)o / (u)nsure / (f)inished / (p)revious\n"
     ]
    },
    {
     "name": "stdout",
     "output_type": "stream",
     "text": [
      "y\n"
     ]
    },
    {
     "name": "stderr",
     "output_type": "stream",
     "text": [
      "title : 1916 center point rd\n",
      "description : center point al 35215\n",
      "\n",
      "title : 1916 centerpoint road\n",
      "description : centerpt atlanta 35215\n",
      "\n",
      "7/10 positive, 5/10 negative\n",
      "Do these records refer to the same thing?\n",
      "(y)es / (n)o / (u)nsure / (f)inished / (p)revious\n"
     ]
    },
    {
     "name": "stdout",
     "output_type": "stream",
     "text": [
      "y\n"
     ]
    },
    {
     "name": "stderr",
     "output_type": "stream",
     "text": [
      "INFO:dedupe.training:Final predicate set:\n",
      "INFO:dedupe.training:(LevenshteinSearchPredicate: (2, title), SimplePredicate: (hundredIntegerPredicate, description))\n",
      "INFO:dedupe.training:(PartialIndexLevenshteinSearchPredicate: (1, title, StreetName), SimplePredicate: (fingerprint, description))\n",
      "title : 101 sanford farm shpg center\n",
      "description : amsterdam ny 12010\n",
      "\n",
      "title : 101 stanford farm shopping center\n",
      "description : amsterdam ny 12010\n",
      "\n",
      "8/10 positive, 5/10 negative\n",
      "Do these records refer to the same thing?\n",
      "(y)es / (n)o / (u)nsure / (f)inished / (p)revious\n"
     ]
    },
    {
     "name": "stdout",
     "output_type": "stream",
     "text": [
      "y\n"
     ]
    },
    {
     "name": "stderr",
     "output_type": "stream",
     "text": [
      "INFO:dedupe.training:Final predicate set:\n",
      "INFO:dedupe.training:(LevenshteinSearchPredicate: (3, title), SimplePredicate: (hundredIntegerPredicate, description))\n",
      "INFO:dedupe.training:(PartialIndexLevenshteinSearchPredicate: (1, title, StreetName), SimplePredicate: (fingerprint, description))\n",
      "title : 470 route 211 east\n",
      "description : middletown ny 10940\n",
      "\n",
      "title : 310 route 9\n",
      "description : glen ny 12077\n",
      "\n",
      "9/10 positive, 5/10 negative\n",
      "Do these records refer to the same thing?\n",
      "(y)es / (n)o / (u)nsure / (f)inished / (p)revious\n"
     ]
    },
    {
     "name": "stdout",
     "output_type": "stream",
     "text": [
      "n\n"
     ]
    },
    {
     "name": "stderr",
     "output_type": "stream",
     "text": [
      "INFO:dedupe.training:Final predicate set:\n",
      "INFO:dedupe.training:(SimplePredicate: (suffixArray, description), TfidfNGramSearchPredicate: (0.2, title))\n",
      "INFO:dedupe.training:(PartialPredicate: (alphaNumericPredicate, title, StreetName), SimplePredicate: (wholeFieldPredicate, title))\n",
      "title : 2575 us hwy 43\n",
      "description : winfield al 35594\n",
      "\n",
      "title : 2575 us highway 43\n",
      "description : winfield al 35594\n",
      "\n",
      "9/10 positive, 6/10 negative\n",
      "Do these records refer to the same thing?\n",
      "(y)es / (n)o / (u)nsure / (f)inished / (p)revious\n"
     ]
    },
    {
     "name": "stdout",
     "output_type": "stream",
     "text": [
      "y\n"
     ]
    },
    {
     "name": "stderr",
     "output_type": "stream",
     "text": [
      "title : 555 hubbard avesuite 12\n",
      "description : pittsfield ma 1201\n",
      "\n",
      "title : 555 hubbard ave suite 12\n",
      "description : pittt massachusetts 1201\n",
      "\n",
      "10/10 positive, 6/10 negative\n",
      "Do these records refer to the same thing?\n",
      "(y)es / (n)o / (u)nsure / (f)inished / (p)revious\n"
     ]
    },
    {
     "name": "stdout",
     "output_type": "stream",
     "text": [
      "y\n"
     ]
    },
    {
     "name": "stderr",
     "output_type": "stream",
     "text": [
      "INFO:dedupe.training:Final predicate set:\n",
      "INFO:dedupe.training:(SimplePredicate: (nearIntegersPredicate, title), SimplePredicate: (suffixArray, description))\n",
      "INFO:dedupe.training:(PartialPredicate: (alphaNumericPredicate, title, StreetName), SimplePredicate: (wholeFieldPredicate, title))\n",
      "title : 1300 montgomery highway\n",
      "description : vestavia hills al 35216\n",
      "\n",
      "title : montgomery highway\n",
      "description : vestavia hills al 35216\n",
      "\n",
      "11/10 positive, 6/10 negative\n",
      "Do these records refer to the same thing?\n",
      "(y)es / (n)o / (u)nsure / (f)inished / (p)revious\n"
     ]
    },
    {
     "name": "stdout",
     "output_type": "stream",
     "text": [
      "y\n"
     ]
    },
    {
     "name": "stderr",
     "output_type": "stream",
     "text": [
      "INFO:dedupe.training:Final predicate set:\n",
      "INFO:dedupe.training:(LevenshteinSearchPredicate: (3, title), SimplePredicate: (hundredIntegerPredicate, description))\n",
      "INFO:dedupe.training:(SimplePredicate: (commonIntegerPredicate, title), SimplePredicate: (fingerprint, description))\n",
      "title : 555 hubbard avesuite 12\n",
      "description : pittsfield ma 1201\n",
      "\n",
      "title : 300 hubbrd ave12\n",
      "description : pittsfield ma 1201\n",
      "\n",
      "12/10 positive, 6/10 negative\n",
      "Do these records refer to the same thing?\n",
      "(y)es / (n)o / (u)nsure / (f)inished / (p)revious\n"
     ]
    },
    {
     "name": "stdout",
     "output_type": "stream",
     "text": [
      "y\n"
     ]
    },
    {
     "name": "stderr",
     "output_type": "stream",
     "text": [
      "INFO:dedupe.training:Final predicate set:\n",
      "INFO:dedupe.training:(PartialPredicate: (commonSixGram, title, StreetName), SimplePredicate: (doubleMetaphone, title))\n",
      "INFO:dedupe.training:(SimplePredicate: (commonIntegerPredicate, title), SimplePredicate: (fingerprint, description))\n",
      "INFO:dedupe.training:(PartialPredicate: (alphaNumericPredicate, title, StreetName), SimplePredicate: (wholeFieldPredicate, title))\n",
      "title : 101 sanford farm shpg center\n",
      "description : amsterdam ny 12010\n",
      "\n",
      "title : 101 sanfrd farm shpg cntr\n",
      "description : amstrdam ny 12010\n",
      "\n",
      "13/10 positive, 6/10 negative\n",
      "Do these records refer to the same thing?\n",
      "(y)es / (n)o / (u)nsure / (f)inished / (p)revious\n"
     ]
    },
    {
     "name": "stdout",
     "output_type": "stream",
     "text": [
      "y\n"
     ]
    },
    {
     "name": "stderr",
     "output_type": "stream",
     "text": [
      "title : 200 otis street\n",
      "description : northborough ma 1532\n",
      "\n",
      "title : 200 hynes strt\n",
      "description : talladega al\n",
      "\n",
      "14/10 positive, 6/10 negative\n",
      "Do these records refer to the same thing?\n",
      "(y)es / (n)o / (u)nsure / (f)inished / (p)revious\n"
     ]
    },
    {
     "name": "stdout",
     "output_type": "stream",
     "text": [
      "n\n"
     ]
    },
    {
     "name": "stderr",
     "output_type": "stream",
     "text": [
      "INFO:dedupe.training:Final predicate set:\n",
      "INFO:dedupe.training:(SimplePredicate: (commonIntegerPredicate, title), SimplePredicate: (doubleMetaphone, description))\n",
      "INFO:dedupe.training:(PartialPredicate: (commonSixGram, title, StreetName), SimplePredicate: (doubleMetaphone, title))\n",
      "title : 2575 us hwy 43\n",
      "description : winfield al 35594\n",
      "\n",
      "title : 2575 us hwy 43\n",
      "description : winfield atlanta 35594\n",
      "\n",
      "14/10 positive, 7/10 negative\n",
      "Do these records refer to the same thing?\n",
      "(y)es / (n)o / (u)nsure / (f)inished / (p)revious\n"
     ]
    },
    {
     "name": "stdout",
     "output_type": "stream",
     "text": [
      "y\n"
     ]
    },
    {
     "name": "stderr",
     "output_type": "stream",
     "text": [
      "title : 2400 route 9\n",
      "description : fishkill ny 12524\n",
      "\n",
      "title : 310 route 9 west\n",
      "description : glenmont ny 12077\n",
      "\n",
      "15/10 positive, 7/10 negative\n",
      "Do these records refer to the same thing?\n",
      "(y)es / (n)o / (u)nsure / (f)inished / (p)revious\n"
     ]
    },
    {
     "name": "stdout",
     "output_type": "stream",
     "text": [
      "n\n"
     ]
    },
    {
     "name": "stderr",
     "output_type": "stream",
     "text": [
      "INFO:dedupe.training:Final predicate set:\n",
      "INFO:dedupe.training:(SimplePredicate: (commonIntegerPredicate, description), TfidfNGramSearchPredicate: (0.2, title))\n",
      "INFO:dedupe.training:(PartialPredicate: (alphaNumericPredicate, title, StreetName), SimplePredicate: (sameSevenCharStartPredicate, title))\n",
      "title : 1105 boston road\n",
      "description : springfield ma 1119\n",
      "\n",
      "title : 2575 united states hwy 43\n",
      "description : winfield al 35594\n",
      "\n",
      "15/10 positive, 8/10 negative\n",
      "Do these records refer to the same thing?\n",
      "(y)es / (n)o / (u)nsure / (f)inished / (p)revious\n"
     ]
    },
    {
     "name": "stdout",
     "output_type": "stream",
     "text": [
      "n\n"
     ]
    },
    {
     "name": "stderr",
     "output_type": "stream",
     "text": [
      "title : 425 route 31\n",
      "description : macedon ny 14502\n",
      "\n",
      "title : route 9 wet\n",
      "description : glenmont ny 12077\n",
      "\n",
      "15/10 positive, 9/10 negative\n",
      "Do these records refer to the same thing?\n",
      "(y)es / (n)o / (u)nsure / (f)inished / (p)revious\n"
     ]
    },
    {
     "name": "stdout",
     "output_type": "stream",
     "text": [
      "n\n"
     ]
    },
    {
     "name": "stderr",
     "output_type": "stream",
     "text": [
      "title : 300 colony place\n",
      "description : plymouth ma 2360\n",
      "\n",
      "title : 310 r nine w\n",
      "description : glenmont ny 12077\n",
      "\n",
      "15/10 positive, 10/10 negative\n",
      "Do these records refer to the same thing?\n",
      "(y)es / (n)o / (u)nsure / (f)inished / (p)revious\n"
     ]
    },
    {
     "name": "stdout",
     "output_type": "stream",
     "text": [
      "n\n"
     ]
    },
    {
     "name": "stderr",
     "output_type": "stream",
     "text": [
      "title : 200 dutch meadows ln\n",
      "description : glenville ny 12302\n",
      "\n",
      "title : dutch meadows ln #200\n",
      "description : glenville ny 12302\n",
      "\n",
      "15/10 positive, 11/10 negative\n",
      "Do these records refer to the same thing?\n",
      "(y)es / (n)o / (u)nsure / (f)inished / (p)revious\n"
     ]
    },
    {
     "name": "stdout",
     "output_type": "stream",
     "text": [
      "y\n"
     ]
    },
    {
     "name": "stderr",
     "output_type": "stream",
     "text": [
      "title : 352 palmer road\n",
      "description : ware ma 1082\n",
      "\n",
      "title : 2 gannetttt driveeee\n",
      "description : johnson city new york! 13790\n",
      "\n",
      "16/10 positive, 11/10 negative\n",
      "Do these records refer to the same thing?\n",
      "(y)es / (n)o / (u)nsure / (f)inished / (p)revious\n"
     ]
    },
    {
     "name": "stdout",
     "output_type": "stream",
     "text": [
      "n\n"
     ]
    },
    {
     "name": "stderr",
     "output_type": "stream",
     "text": [
      "title : 200 dutch meadows ln\n",
      "description : glenville ny 12302\n",
      "\n",
      "title : 200 hynes strt\n",
      "description : talladega al\n",
      "\n",
      "16/10 positive, 12/10 negative\n",
      "Do these records refer to the same thing?\n",
      "(y)es / (n)o / (u)nsure / (f)inished / (p)revious\n"
     ]
    },
    {
     "name": "stdout",
     "output_type": "stream",
     "text": [
      "n\n"
     ]
    },
    {
     "name": "stderr",
     "output_type": "stream",
     "text": [
      "title : 656 new haven ave\n",
      "description : derby ct 6418\n",
      "\n",
      "title : fussell\n",
      "description : hadley ma\n",
      "\n",
      "16/10 positive, 13/10 negative\n",
      "Do these records refer to the same thing?\n",
      "(y)es / (n)o / (u)nsure / (f)inished / (p)revious\n"
     ]
    },
    {
     "name": "stdout",
     "output_type": "stream",
     "text": [
      "n\n"
     ]
    },
    {
     "name": "stderr",
     "output_type": "stream",
     "text": [
      "title : 1549 rt 9\n",
      "description : halfmoon ny 12065\n",
      "\n",
      "title : 310 route 9 west\n",
      "description : glenmont ny 12077\n",
      "\n",
      "16/10 positive, 14/10 negative\n",
      "Do these records refer to the same thing?\n",
      "(y)es / (n)o / (u)nsure / (f)inished / (p)revious\n"
     ]
    },
    {
     "name": "stdout",
     "output_type": "stream",
     "text": [
      "n\n"
     ]
    },
    {
     "name": "stderr",
     "output_type": "stream",
     "text": [
      "title : 1501 skyland blvd e\n",
      "description : tuscaloosa al 35405\n",
      "\n",
      "title : 1501 highway 140 e\n",
      "description : selma atlanta 36703\n",
      "\n",
      "16/10 positive, 15/10 negative\n",
      "Do these records refer to the same thing?\n",
      "(y)es / (n)o / (u)nsure / (f)inished / (p)revious\n"
     ]
    },
    {
     "name": "stdout",
     "output_type": "stream",
     "text": [
      "n\n"
     ]
    },
    {
     "name": "stderr",
     "output_type": "stream",
     "text": [
      "title : 72 main st\n",
      "description : north reading ma 1864\n",
      "\n",
      "title : 42 fairhaven commons way\n",
      "description : fairhaven ma 2719\n",
      "\n",
      "16/10 positive, 16/10 negative\n",
      "Do these records refer to the same thing?\n",
      "(y)es / (n)o / (u)nsure / (f)inished / (p)revious\n"
     ]
    },
    {
     "name": "stdout",
     "output_type": "stream",
     "text": [
      "n\n"
     ]
    },
    {
     "name": "stderr",
     "output_type": "stream",
     "text": [
      "title : 969 us hwy 80 west\n",
      "description : demopolis al 36732\n",
      "\n",
      "title : 2575 us hwy 40\n",
      "description : winfield al 35594\n",
      "\n",
      "16/10 positive, 17/10 negative\n",
      "Do these records refer to the same thing?\n",
      "(y)es / (n)o / (u)nsure / (f)inished / (p)revious\n"
     ]
    },
    {
     "name": "stdout",
     "output_type": "stream",
     "text": [
      "n\n"
     ]
    },
    {
     "name": "stderr",
     "output_type": "stream",
     "text": [
      "title : 2643 hwy 280 west\n",
      "description : alexander city al 35010\n",
      "\n",
      "title : route 110 #901\n",
      "description : farmingdale ny 11735\n",
      "\n",
      "16/10 positive, 18/10 negative\n",
      "Do these records refer to the same thing?\n",
      "(y)es / (n)o / (u)nsure / (f)inished / (p)revious\n"
     ]
    },
    {
     "name": "stdout",
     "output_type": "stream",
     "text": [
      "n\n"
     ]
    },
    {
     "name": "stderr",
     "output_type": "stream",
     "text": [
      "title : 625 school street\n",
      "description : putnam ct 6260\n",
      "\n",
      "title : 625 schooling street\n",
      "description : putnam ct 6260\n",
      "\n",
      "16/10 positive, 19/10 negative\n",
      "Do these records refer to the same thing?\n",
      "(y)es / (n)o / (u)nsure / (f)inished / (p)revious\n"
     ]
    },
    {
     "name": "stdout",
     "output_type": "stream",
     "text": [
      "y\n"
     ]
    },
    {
     "name": "stderr",
     "output_type": "stream",
     "text": [
      "title : 13675 hwy 43\n",
      "description : russellville al 35653\n",
      "\n",
      "title : 2575 us highwy 43\n",
      "description : winfield al 35594\n",
      "\n",
      "17/10 positive, 19/10 negative\n",
      "Do these records refer to the same thing?\n",
      "(y)es / (n)o / (u)nsure / (f)inished / (p)revious\n"
     ]
    },
    {
     "name": "stdout",
     "output_type": "stream",
     "text": [
      "n\n"
     ]
    },
    {
     "name": "stderr",
     "output_type": "stream",
     "text": [
      "title : 2473 hackworth road\n",
      "description : adamsville al 35005\n",
      "\n",
      "title : 1300 highway\n",
      "description : vestaviahills al 352160000\n",
      "\n",
      "17/10 positive, 20/10 negative\n",
      "Do these records refer to the same thing?\n",
      "(y)es / (n)o / (u)nsure / (f)inished / (p)revious\n"
     ]
    },
    {
     "name": "stdout",
     "output_type": "stream",
     "text": [
      "n\n"
     ]
    },
    {
     "name": "stderr",
     "output_type": "stream",
     "text": [
      "title : 297 grant avenue\n",
      "description : auburn ny 13021\n",
      "\n",
      "title : montgomery highway\n",
      "description : vestavia hills al 35216\n",
      "\n",
      "17/10 positive, 21/10 negative\n",
      "Do these records refer to the same thing?\n",
      "(y)es / (n)o / (u)nsure / (f)inished / (p)revious\n"
     ]
    },
    {
     "name": "stdout",
     "output_type": "stream",
     "text": [
      "n\n"
     ]
    },
    {
     "name": "stderr",
     "output_type": "stream",
     "text": [
      "title : 701 mcmeans ave\n",
      "description : bay minette al 36507\n",
      "\n",
      "title : quincy ma 2169\n",
      "description : 301 falls blvd\n",
      "\n",
      "17/10 positive, 22/10 negative\n",
      "Do these records refer to the same thing?\n",
      "(y)es / (n)o / (u)nsure / (f)inished / (p)revious\n"
     ]
    },
    {
     "name": "stdout",
     "output_type": "stream",
     "text": [
      "n\n"
     ]
    },
    {
     "name": "stderr",
     "output_type": "stream",
     "text": [
      "title : 7155 state rt 12 s\n",
      "description : lowville ny 13367\n",
      "\n",
      "title : 5783 south trans street\n",
      "description : lockport ny 14094\n",
      "\n",
      "17/10 positive, 23/10 negative\n",
      "Do these records refer to the same thing?\n",
      "(y)es / (n)o / (u)nsure / (f)inished / (p)revious\n"
     ]
    },
    {
     "name": "stdout",
     "output_type": "stream",
     "text": [
      "n\n"
     ]
    },
    {
     "name": "stderr",
     "output_type": "stream",
     "text": [
      "title : 55 brooksby village way\n",
      "description : danvers ma 1923\n",
      "\n",
      "title : 55 brooksby village way\n",
      "description : danvers ma 1923\n",
      "\n",
      "17/10 positive, 24/10 negative\n",
      "Do these records refer to the same thing?\n",
      "(y)es / (n)o / (u)nsure / (f)inished / (p)revious\n"
     ]
    },
    {
     "name": "stdout",
     "output_type": "stream",
     "text": [
      "y\n"
     ]
    },
    {
     "name": "stderr",
     "output_type": "stream",
     "text": [
      "title : 250 hartford avenue\n",
      "description : bellingham ma 2019\n",
      "\n",
      "title : 250 hartford avenue\n",
      "description : bellingham ma 2019\n",
      "\n",
      "18/10 positive, 24/10 negative\n",
      "Do these records refer to the same thing?\n",
      "(y)es / (n)o / (u)nsure / (f)inished / (p)revious\n"
     ]
    },
    {
     "name": "stdout",
     "output_type": "stream",
     "text": [
      "y\n"
     ]
    },
    {
     "name": "stderr",
     "output_type": "stream",
     "text": [
      "title : 374 william s canning blvd\n",
      "description : fall river ma 2721\n",
      "\n",
      "title : 374 william s canning blvd\n",
      "description : fall river ma 2721\n",
      "\n",
      "19/10 positive, 24/10 negative\n",
      "Do these records refer to the same thing?\n",
      "(y)es / (n)o / (u)nsure / (f)inished / (p)revious\n"
     ]
    },
    {
     "name": "stdout",
     "output_type": "stream",
     "text": [
      "y\n"
     ]
    },
    {
     "name": "stderr",
     "output_type": "stream",
     "text": [
      "title : 591 memorial dr\n",
      "description : chicopee ma 1020\n",
      "\n",
      "title : 591 memorial dr\n",
      "description : chicopee ma 1020\n",
      "\n",
      "20/10 positive, 24/10 negative\n",
      "Do these records refer to the same thing?\n",
      "(y)es / (n)o / (u)nsure / (f)inished / (p)revious\n"
     ]
    },
    {
     "name": "stdout",
     "output_type": "stream",
     "text": [
      "y\n"
     ]
    },
    {
     "name": "stderr",
     "output_type": "stream",
     "text": [
      "title : 2041 douglas avenue\n",
      "description : brewton al 36426\n",
      "\n",
      "title : 4260 north college avenue\n",
      "description : jackson atlanta 36545\n",
      "\n",
      "21/10 positive, 24/10 negative\n",
      "Do these records refer to the same thing?\n",
      "(y)es / (n)o / (u)nsure / (f)inished / (p)revious\n"
     ]
    },
    {
     "name": "stdout",
     "output_type": "stream",
     "text": [
      "n\n"
     ]
    },
    {
     "name": "stderr",
     "output_type": "stream",
     "text": [
      "title : 3501 20th av\n",
      "description : valley al 36854\n",
      "\n",
      "title : 310 r nine w\n",
      "description : glenmont ny 12077\n",
      "\n",
      "21/10 positive, 25/10 negative\n",
      "Do these records refer to the same thing?\n",
      "(y)es / (n)o / (u)nsure / (f)inished / (p)revious\n"
     ]
    },
    {
     "name": "stdout",
     "output_type": "stream",
     "text": [
      "n\n"
     ]
    },
    {
     "name": "stderr",
     "output_type": "stream",
     "text": [
      "title : 10040 county road 48\n",
      "description : fairhope al 36533\n",
      "\n",
      "title : 310 route 9\n",
      "description : glen ny 12077\n",
      "\n",
      "21/10 positive, 26/10 negative\n",
      "Do these records refer to the same thing?\n",
      "(y)es / (n)o / (u)nsure / (f)inished / (p)revious\n"
     ]
    },
    {
     "name": "stdout",
     "output_type": "stream",
     "text": [
      "n\n"
     ]
    },
    {
     "name": "stderr",
     "output_type": "stream",
     "text": [
      "title : 2800 spring avn sw\n",
      "description : decatur al 35603\n",
      "\n",
      "title : 2575 us hwy 43\n",
      "description : winfield al 35589\n",
      "\n",
      "21/10 positive, 27/10 negative\n",
      "Do these records refer to the same thing?\n",
      "(y)es / (n)o / (u)nsure / (f)inished / (p)revious\n"
     ]
    }
   ],
   "source": [
    "# if there already exists a settings_file (with the data model),\n",
    "# create a Dedupe object (linker) that will load the saved settings\n",
    "if os.path.exists(settings_file):\n",
    "    print('reading from', settings_file)\n",
    "    with open(settings_file, 'rb') as sf :\n",
    "        linker = dedupe.StaticRecordLink(sf)\n",
    "\n",
    "# if there is no previously saved settings data, create it\n",
    "else:\n",
    "    # Define the fields the linker will pay attention to\n",
    "    # Specifying fields refines the comparison methods so not each part of the record are compared equally\n",
    "    # for example, dedupe will learn which of these fields have higher weights (more important in determining matches) by using regularized logistic regression\n",
    "    # String types compared using affine gap string distance\n",
    "    # Note- the address field is only for US addresses (uses usaddress package to split into components)\n",
    "        # must have dedupe-variable-address installed to use this\n",
    "    fields = [\n",
    "        {'field' : 'title', 'type': 'String'},\n",
    "        {'field' : 'title', 'type': 'Address'},\n",
    "        {'field' : 'description', 'type': 'String'},\n",
    "        {'field' : 'description', 'type': 'Address'}]\n",
    "    \n",
    "    # Create a new linker object and pass the data model to it.\n",
    "    linker = dedupe.RecordLink(fields)\n",
    "    # To train the linker, feed it a sample of records.\n",
    "    linker.sample(data_1, data_2, 70)\n",
    "\n",
    "    \n",
    "    # If we have training data saved from a previous run of linker,\n",
    "    # look for it and load it in.\n",
    "    if os.path.exists(training_file):\n",
    "        print('reading labeled examples from ', training_file)\n",
    "        with open(training_file) as tf :\n",
    "            linker.readTraining(tf)\n",
    "\n",
    "    # ## Active learning\n",
    "    # Dedupe will find the next pair of records\n",
    "    # it is least certain about and ask for them to be labelled as matches\n",
    "    # or not.\n",
    "    print('starting active labeling...')\n",
    "\n",
    "    # Label examples, add them to the training data, and update the mathcing model\n",
    "    dedupe.consoleLabel(linker)\n",
    "\n",
    "    linker.train()\n",
    "\n",
    "    # When finished, save training data as labeled examples in the training_file\n",
    "    with open(training_file, 'w') as tf :\n",
    "        linker.writeTraining(tf)\n",
    "\n",
    "    # Save weights and predicates.  If the settings file\n",
    "    # exists, skip all the training and learning next time we run\n",
    "    # this file.\n",
    "    with open(settings_file, 'wb') as sf :\n",
    "        linker.writeSettings(sf)"
   ]
  },
  {
   "cell_type": "markdown",
   "metadata": {},
   "source": [
    "Blocking"
   ]
  },
  {
   "cell_type": "code",
   "execution_count": 7,
   "metadata": {
    "collapsed": true
   },
   "outputs": [],
   "source": [
    "import itertools\n",
    "\n",
    "# Split the data up into groups of records with some feature in common\n",
    "# Only comparing the entries in these blocks reduces number of comparisons\n",
    "# This is more useful with larger datasets- where we would use a representative sample rather than all the data\n",
    "# 2 blocking methods- predicate blocks and index\n",
    "blocks = linker._blockData(data_1,data_2)"
   ]
  },
  {
   "cell_type": "markdown",
   "metadata": {},
   "source": [
    "Calculate precision, recall, threshold"
   ]
  },
  {
   "cell_type": "code",
   "execution_count": 8,
   "metadata": {},
   "outputs": [
    {
     "name": "stderr",
     "output_type": "stream",
     "text": [
      "INFO:dedupe.api:0 records\n",
      "/anaconda/lib/python3.6/site-packages/dedupe/backport.py:20: UserWarning: NumPy linked against 'Accelerate.framework'. Multiprocessing will be disabled. http://mail.scipy.org/pipermail/numpy-discussion/2012-August/063589.html\n",
      "  warnings.warn(\"NumPy linked against 'Accelerate.framework'. \"\n",
      "INFO:dedupe.api:100 records\n",
      "INFO:dedupe.api:200 records\n"
     ]
    }
   ],
   "source": [
    "# that the records will be duplicates\n",
    "candidate_records = itertools.chain.from_iterable(linker._blockedPairs(blocks))\n",
    "\n",
    "# Calculate the probability that pair of records are duplicates\n",
    "probability = dedupe.core.scoreDuplicates(candidate_records,\n",
    "                                           linker.data_model,\n",
    "                                           linker.classifier,\n",
    "                                           linker.num_cores)['score']\n",
    "\n",
    "probability = probability.copy()\n",
    "probability.sort()\n",
    "probability = probability[::-1]\n",
    "\n",
    "expected_dupes = numpy.cumsum(probability)\n",
    "\n",
    "# Recall- TP/(TP + FN) - ability to find all interesting data points\n",
    "recall = expected_dupes / expected_dupes[-1]\n",
    "# Precision- TP/(TP + FP) - take the probability that the pairs are duplicates divided by the total number of duplicates\n",
    "precision = expected_dupes / numpy.arange(1, len(expected_dupes) + 1)"
   ]
  },
  {
   "cell_type": "code",
   "execution_count": 9,
   "metadata": {},
   "outputs": [
    {
     "name": "stdout",
     "output_type": "stream",
     "text": [
      "probability: [1.0000000e+00 1.0000000e+00 1.0000000e+00 1.0000000e+00 1.0000000e+00\n",
      " 1.0000000e+00 1.0000000e+00 1.0000000e+00 1.0000000e+00 1.0000000e+00\n",
      " 1.0000000e+00 1.0000000e+00 1.0000000e+00 1.0000000e+00 1.0000000e+00\n",
      " 1.0000000e+00 1.0000000e+00 1.0000000e+00 1.0000000e+00 1.0000000e+00\n",
      " 1.0000000e+00 1.0000000e+00 1.0000000e+00 1.0000000e+00 1.0000000e+00\n",
      " 1.0000000e+00 1.0000000e+00 1.0000000e+00 1.0000000e+00 1.0000000e+00\n",
      " 1.0000000e+00 1.0000000e+00 1.0000000e+00 1.0000000e+00 1.0000000e+00\n",
      " 1.0000000e+00 1.0000000e+00 1.0000000e+00 1.0000000e+00 1.0000000e+00\n",
      " 1.0000000e+00 1.0000000e+00 1.0000000e+00 1.0000000e+00 1.0000000e+00\n",
      " 1.0000000e+00 1.0000000e+00 1.0000000e+00 1.0000000e+00 1.0000000e+00\n",
      " 1.0000000e+00 1.0000000e+00 1.0000000e+00 1.0000000e+00 1.0000000e+00\n",
      " 1.0000000e+00 1.0000000e+00 1.0000000e+00 1.0000000e+00 1.0000000e+00\n",
      " 1.0000000e+00 9.9999994e-01 9.9999994e-01 9.9998826e-01 9.9997818e-01\n",
      " 9.9996954e-01 9.9985516e-01 9.3817776e-01 2.6264051e-09 4.2047262e-11\n",
      " 2.3684003e-11 1.2936613e-20 5.7934460e-31]\n",
      "expected duplicates: [ 1.        2.        3.        4.        5.        6.        7.\n",
      "  8.        9.       10.       11.       12.       13.       14.\n",
      " 15.       16.       17.       18.       19.       20.       21.\n",
      " 22.       23.       24.       25.       26.       27.       28.\n",
      " 29.       30.       31.       32.       33.       34.       35.\n",
      " 36.       37.       38.       39.       40.       41.       42.\n",
      " 43.       44.       45.       46.       47.       48.       49.\n",
      " 50.       51.       52.       53.       54.       55.       56.\n",
      " 57.       58.       59.       60.       61.       62.       63.\n",
      " 63.99999  64.99997  65.99994  66.999794 67.93797  67.93797  67.93797\n",
      " 67.93797  67.93797  67.93797 ]\n",
      "recall: [0.01471931 0.02943862 0.04415793 0.05887723 0.07359654 0.08831585\n",
      " 0.10303516 0.11775447 0.13247378 0.14719309 0.1619124  0.1766317\n",
      " 0.19135101 0.20607032 0.22078963 0.23550893 0.25022826 0.26494756\n",
      " 0.27966687 0.29438618 0.3091055  0.3238248  0.3385441  0.3532634\n",
      " 0.36798272 0.38270202 0.39742133 0.41214064 0.42685995 0.44157925\n",
      " 0.45629856 0.47101787 0.48573717 0.5004565  0.5151758  0.5298951\n",
      " 0.54461443 0.55933374 0.57405305 0.58877236 0.60349166 0.618211\n",
      " 0.6329303  0.6476496  0.6623689  0.6770882  0.6918075  0.7065268\n",
      " 0.7212461  0.73596543 0.75068474 0.76540405 0.78012335 0.79484266\n",
      " 0.80956197 0.8242813  0.8390006  0.8537199  0.8684392  0.8831585\n",
      " 0.8978778  0.9125971  0.9273164  0.9420356  0.9567546  0.97147346\n",
      " 0.9861907  1.         1.         1.         1.         1.\n",
      " 1.        ]\n",
      "precision: [1.         1.         1.         1.         1.         1.\n",
      " 1.         1.         1.         1.         1.         1.\n",
      " 1.         1.         1.         1.         1.         1.\n",
      " 1.         1.         1.         1.         1.         1.\n",
      " 1.         1.         1.         1.         1.         1.\n",
      " 1.         1.         1.         1.         1.         1.\n",
      " 1.         1.         1.         1.         1.         1.\n",
      " 1.         1.         1.         1.         1.         1.\n",
      " 1.         1.         1.         1.         1.         1.\n",
      " 1.         1.         1.         1.         1.         1.\n",
      " 1.         1.         1.         0.99999982 0.99999953 0.99999908\n",
      " 0.99999693 0.99908784 0.9846083  0.97054247 0.95687286 0.94358296\n",
      " 0.93065716]\n"
     ]
    }
   ],
   "source": [
    "print(\"probability:\", probability)\n",
    "print(\"expected duplicates:\", expected_dupes)\n",
    "print(\"recall:\",recall)\n",
    "print(\"precision:\",precision)"
   ]
  },
  {
   "cell_type": "code",
   "execution_count": 10,
   "metadata": {},
   "outputs": [
    {
     "data": {
      "image/png": "[encoded data removed]",
      "text/plain": [
       "<matplotlib.figure.Figure at 0x1071c8c18>"
      ]
     },
     "metadata": {},
     "output_type": "display_data"
    }
   ],
   "source": [
    "# Display the predicted precision-recall plot\n",
    "\n",
    "from sklearn.metrics import precision_recall_curve\n",
    "import matplotlib.pyplot as plt\n",
    "\n",
    "\n",
    "plt.step(recall, precision, color='b', alpha=.2, where='post')\n",
    "plt.fill_between(recall, precision, step='post', alpha=0.2,\n",
    "                 color='b')\n",
    "\n",
    "plt.xlabel('Recall')\n",
    "plt.ylabel('Precision')\n",
    "plt.ylim([0.0, 1.05])\n",
    "plt.xlim([0.0, 1.0])\n",
    "plt.title('Precision-Recall curve')\n",
    "plt.show()"
   ]
  },
  {
   "cell_type": "markdown",
   "metadata": {},
   "source": [
    "Clustering"
   ]
  },
  {
   "cell_type": "code",
   "execution_count": 11,
   "metadata": {},
   "outputs": [
    {
     "name": "stderr",
     "output_type": "stream",
     "text": [
      "INFO:dedupe.api:0 records\n",
      "INFO:dedupe.api:100 records\n",
      "INFO:dedupe.api:200 records\n"
     ]
    },
    {
     "name": "stdout",
     "output_type": "stream",
     "text": [
      "Maximum expected recall and precision\n",
      "recall: %2.3f 1.0\n",
      "precision: %2.3f 0.999087838565602\n",
      "With threshold: %2.3f 0.93817776\n",
      "Threshold to maximize expected F score = 0.93817776\n",
      "clustering...\n"
     ]
    }
   ],
   "source": [
    "# Find the threshold that will maximize a weighted average of our\n",
    "# precision and recall (F Score) for a sample of data.  When we set the recall weight to 2, we are\n",
    "# saying we care twice as much about recall as we do precision.\n",
    "#\n",
    "# The weighted avg, or F-score = 2tp/(2tp + fp + fn)\n",
    "# \n",
    "# In this case, set the recall_weight to .5- saying we care twice as much about precision\n",
    "# as we do recall. When matching the data, set the threshold closer to 1 to raise precision\n",
    "# \n",
    "# This is called hierarchical clustering with centroid linkage\n",
    "# Example- A is related to B, C is related to B, so those would all be clustered with B as centroid\n",
    "# The threshold determine the minimum probability for a record to be related to the centroid\n",
    "\n",
    "recall_weight = .5\n",
    "\n",
    "score = recall * precision / (recall + recall_weight ** 2 * precision)\n",
    "\n",
    "i = numpy.argmax(score)\n",
    "\n",
    "print('Maximum expected recall and precision')\n",
    "print('recall: %2.3f', recall[i])\n",
    "print('precision: %2.3f', precision[i])\n",
    "print('With threshold: %2.3f', probability[i])\n",
    "\n",
    "calcThreshold= probability[i]\n",
    "\n",
    "print(\"Threshold to maximize expected F score =\", calcThreshold )\n",
    "\n",
    "\n",
    "print('clustering...')\n",
    "linked_records = linker.match(data_1, data_2, threshold=calcThreshold)"
   ]
  },
  {
   "cell_type": "code",
   "execution_count": 12,
   "metadata": {},
   "outputs": [
    {
     "name": "stdout",
     "output_type": "stream",
     "text": [
      "# duplicate sets 35\n"
     ]
    }
   ],
   "source": [
    "print('# duplicate sets', len(linked_records))"
   ]
  },
  {
   "cell_type": "markdown",
   "metadata": {},
   "source": [
    "Write results"
   ]
  },
  {
   "cell_type": "code",
   "execution_count": 13,
   "metadata": {
    "collapsed": true
   },
   "outputs": [],
   "source": [
    "# Write our original data back out to a CSV with a new column called \n",
    "# 'Cluster ID' which indicates which records refer to each other.\n",
    "\n",
    "cluster_membership = {}\n",
    "cluster_id = None\n",
    "for cluster_id, (cluster, score) in enumerate(linked_records):\n",
    "    for record_id in cluster:\n",
    "        cluster_membership[record_id] = (cluster_id, score)\n",
    "\n",
    "if cluster_id :\n",
    "    unique_id = cluster_id + 1\n",
    "else :\n",
    "    unique_id =0"
   ]
  },
  {
   "cell_type": "code",
   "execution_count": 14,
   "metadata": {
    "collapsed": true
   },
   "outputs": [],
   "source": [
    "with open(output_file, 'w') as f:\n",
    "    writer = csv.writer(f)\n",
    "    \n",
    "    header_unwritten = True\n",
    "\n",
    "    for fileno, filename in enumerate(('addresses.csv', 'user_entries.csv')) :\n",
    "        with open(filename) as f_input :\n",
    "            reader = csv.reader(f_input)\n",
    "\n",
    "            if header_unwritten :\n",
    "                heading_row = next(reader)\n",
    "                heading_row.insert(0, 'source file')\n",
    "                heading_row.insert(0, 'Link Score')\n",
    "                heading_row.insert(0, 'Cluster ID')\n",
    "                writer.writerow(heading_row)\n",
    "                header_unwritten = False\n",
    "            else :\n",
    "                next(reader)\n",
    "\n",
    "            for row_id, row in enumerate(reader):\n",
    "                cluster_details = cluster_membership.get(filename + str(row_id))\n",
    "                if cluster_details is None :\n",
    "                    cluster_id = unique_id\n",
    "                    unique_id += 1\n",
    "                    score = None\n",
    "                else :\n",
    "                    cluster_id, score = cluster_details\n",
    "                row.insert(0, fileno)\n",
    "                row.insert(0, score)\n",
    "                row.insert(0, cluster_id)\n",
    "                writer.writerow(row)"
   ]
  },
  {
   "cell_type": "code",
   "execution_count": 15,
   "metadata": {},
   "outputs": [
    {
     "name": "stdout",
     "output_type": "stream",
     "text": [
      "Enter the street address: 7000 Plsnt Vally St\n",
      "Enter the city: Methuen\n",
      "Enter the state: Massachusetts\n",
      "Enter the zip code: 1840\n"
     ]
    }
   ],
   "source": [
    "addr = input('Enter the street address: ')\n",
    "city = input('Enter the city: ')\n",
    "state = input('Enter the state: ')\n",
    "zip_code = input('Enter the zip code: ')\n",
    "\n",
    "# create a new file that will contain the user's entry\n",
    "user_input_file = 'user_input_file.csv'\n",
    "with open (user_input_file, 'w', newline='') as csvfile:\n",
    "    fieldnames = ['title', 'description']\n",
    "    writer = csv.DictWriter(csvfile, fieldnames=fieldnames)\n",
    "    writer.writeheader()\n",
    "    writer.writerow({'title': addr, 'description': city +\" \" + state + \" \" + \" \" + zip_code})"
   ]
  },
  {
   "cell_type": "code",
   "execution_count": null,
   "metadata": {
    "collapsed": true
   },
   "outputs": [],
   "source": []
  },
  {
   "cell_type": "code",
   "execution_count": 16,
   "metadata": {
    "collapsed": true
   },
   "outputs": [],
   "source": [
    "fields = [{'field' : 'title', 'type': 'String'},\n",
    "        {'field' : 'title', 'type': 'Address'},{'field':'description', 'type':'String'},{'field':'description', 'type':'Address'}]\n",
    "    \n",
    "duper = dedupe.RecordLink(fields)"
   ]
  },
  {
   "cell_type": "code",
   "execution_count": 17,
   "metadata": {
    "collapsed": true
   },
   "outputs": [],
   "source": [
    "data_entry = readData('user_input_file.csv')"
   ]
  },
  {
   "cell_type": "code",
   "execution_count": 18,
   "metadata": {
    "collapsed": true
   },
   "outputs": [],
   "source": [
    "duper.sample(data_1,data_entry)"
   ]
  },
  {
   "cell_type": "code",
   "execution_count": null,
   "metadata": {},
   "outputs": [
    {
     "name": "stderr",
     "output_type": "stream",
     "text": [
      "title : 70 pleasant valley street\n",
      "description : methuen ma 1844\n",
      "\n",
      "title : 7000 plsnt vally st\n",
      "description : methuen massachusetts 1840\n",
      "\n",
      "0/10 positive, 0/10 negative\n",
      "Do these records refer to the same thing?\n",
      "(y)es / (n)o / (u)nsure / (f)inished\n"
     ]
    },
    {
     "name": "stdout",
     "output_type": "stream",
     "text": [
      "y\n"
     ]
    },
    {
     "name": "stderr",
     "output_type": "stream",
     "text": [
      "title : 700 oak street\n",
      "description : brockton ma 2301\n",
      "\n",
      "title : 7000 plsnt vally st\n",
      "description : methuen massachusetts 1840\n",
      "\n",
      "1/10 positive, 0/10 negative\n",
      "Do these records refer to the same thing?\n",
      "(y)es / (n)o / (u)nsure / (f)inished / (p)revious\n"
     ]
    }
   ],
   "source": [
    "dedupe.consoleLabel(duper)"
   ]
  },
  {
   "cell_type": "code",
   "execution_count": null,
   "metadata": {
    "collapsed": true
   },
   "outputs": [],
   "source": [
    "# now, need to update the settings file and training file\n",
    "# stop the previous section when user enters y"
   ]
  }
 ],
 "metadata": {
  "kernelspec": {
   "display_name": "Python 3",
   "language": "python",
   "name": "python3"
  },
  "language_info": {
   "codemirror_mode": {
    "name": "ipython",
    "version": 3
   },
   "file_extension": ".py",
   "mimetype": "text/x-python",
   "name": "python",
   "nbconvert_exporter": "python",
   "pygments_lexer": "ipython3",
   "version": "3.6.1"
  }
 },
 "nbformat": 4,
 "nbformat_minor": 2
}
