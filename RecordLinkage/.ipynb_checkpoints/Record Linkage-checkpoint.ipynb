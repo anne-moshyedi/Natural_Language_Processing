{
 "cells": [
  {
   "cell_type": "markdown",
   "metadata": {},
   "source": [
    "## 1. Import the Libraries"
   ]
  },
  {
   "cell_type": "code",
   "execution_count": 4,
   "metadata": {
    "collapsed": true
   },
   "outputs": [],
   "source": [
    "import pandas as pd\n",
    "import numpy as np\n",
    "\n",
    "import recordlinkage"
   ]
  },
  {
   "cell_type": "markdown",
   "metadata": {},
   "source": [
    "## 2. Load the datasets for dictionary and the user search"
   ]
  },
  {
   "cell_type": "code",
   "execution_count": 5,
   "metadata": {
    "collapsed": true
   },
   "outputs": [],
   "source": [
    "df_dictionary = pd.read_csv(\"dictionary_companies.csv\")\n",
    "df_search_entries = pd.read_csv(\"search_entry.csv\")\n",
    "dfD = pd.read_csv(\"companies_dict.csv\")\n",
    "\n",
    "# Using dfA and dfB for easy reference\n",
    "dfA = df_dictionary\n",
    "dfB = df_search_entries"
   ]
  },
  {
   "cell_type": "code",
   "execution_count": 9,
   "metadata": {
    "scrolled": true
   },
   "outputs": [
    {
     "ename": "TypeError",
     "evalue": "drop() got an unexpected keyword argument 'columns'",
     "output_type": "error",
     "traceback": [
      "\u001b[0;31m---------------------------------------------------------------------------\u001b[0m",
      "\u001b[0;31mTypeError\u001b[0m                                 Traceback (most recent call last)",
      "\u001b[0;32m<ipython-input-9-0a55a7cd84e2>\u001b[0m in \u001b[0;36m<module>\u001b[0;34m()\u001b[0m\n\u001b[0;32m----> 1\u001b[0;31m \u001b[0mdfA\u001b[0m\u001b[0;34m.\u001b[0m\u001b[0mdrop\u001b[0m\u001b[0;34m(\u001b[0m\u001b[0mcolumns\u001b[0m\u001b[0;34m=\u001b[0m\u001b[0;34m'id'\u001b[0m\u001b[0;34m)\u001b[0m\u001b[0;34m\u001b[0m\u001b[0m\n\u001b[0m",
      "\u001b[0;31mTypeError\u001b[0m: drop() got an unexpected keyword argument 'columns'"
     ]
    }
   ],
   "source": [
    "dfA.drop(columns ='id')"
   ]
  },
  {
   "cell_type": "code",
   "execution_count": 12,
   "metadata": {
    "scrolled": false
   },
   "outputs": [
    {
     "ename": "TypeError",
     "evalue": "drop() got an unexpected keyword argument 'columns'",
     "output_type": "error",
     "traceback": [
      "\u001b[0;31m---------------------------------------------------------------------------\u001b[0m",
      "\u001b[0;31mTypeError\u001b[0m                                 Traceback (most recent call last)",
      "\u001b[0;32m<ipython-input-12-373222cc1559>\u001b[0m in \u001b[0;36m<module>\u001b[0;34m()\u001b[0m\n\u001b[0;32m----> 1\u001b[0;31m \u001b[0mdfB\u001b[0m\u001b[0;34m.\u001b[0m\u001b[0mdrop\u001b[0m\u001b[0;34m(\u001b[0m\u001b[0mcolumns\u001b[0m \u001b[0;34m=\u001b[0m\u001b[0;34m'id'\u001b[0m\u001b[0;34m)\u001b[0m\u001b[0;34m\u001b[0m\u001b[0m\n\u001b[0m",
      "\u001b[0;31mTypeError\u001b[0m: drop() got an unexpected keyword argument 'columns'"
     ]
    }
   ],
   "source": [
    "dfB.drop(columns ='id')"
   ]
  },
  {
   "cell_type": "markdown",
   "metadata": {},
   "source": [
    "## 3. Make Record Pairs"
   ]
  },
  {
   "cell_type": "markdown",
   "metadata": {},
   "source": [
    "### 3.1 Block Indexing for Record Pairs"
   ]
  },
  {
   "cell_type": "code",
   "execution_count": 5,
   "metadata": {
    "collapsed": true
   },
   "outputs": [],
   "source": [
    "#############   BLOCK INDEXING\n",
    "def runBlock():  \n",
    "    block = 0\n",
    "    both = 0\n",
    "    \n",
    "    #Next, check for exact match in name\n",
    "    blockName = recordlinkage.BlockIndex(on=['name'])\n",
    "    blockNamePairs = blockName.index(dfA, dfB)\n",
    "    if len(blockNamePairs) > 0:\n",
    "         block += 1\n",
    "    \n",
    "    #Next, check for exact match in addr    \n",
    "    blockAddr = recordlinkage.BlockIndex(on=['addr'])\n",
    "    blockAddrPairs = blockAddr.index(dfA, dfB)\n",
    "    if len(blockAddrPairs) > 0:\n",
    "        block += 2\n",
    "        \n",
    "    #Next, check for exact match in name AND addr    \n",
    "    blockNA = recordlinkage.BlockIndex(on=['name','addr'])\n",
    "    blockNAPairs = blockNA.index(dfA, dfB)\n",
    "    if len(blockNAPairs) > 0:\n",
    "        both = 1 \n",
    "        print(\"they match\")\n",
    "    \n",
    "    if both == 1:\n",
    "    #grab the id and contents of addr match\n",
    "        print(\"block name and addr match\")\n",
    "        return(returnResultsMI(blockNAPairs))\n",
    "    else:\n",
    "        \n",
    "        if block == 0:\n",
    "        #run sorted neighborhood both\n",
    "            print(\"no exact matches\")\n",
    "            runSort()\n",
    "        if block == 1:\n",
    "        #grab the id and contents of name match\n",
    "            print(\"block name match\")\n",
    "            if len(blockNamePairs) > 1:\n",
    "                runCompName(blockNamePairs)\n",
    "            else:\n",
    "                return(returnResultsMI(blockNamePairs))        \n",
    "        if block == 2:\n",
    "            #grab the id and contents of addr match\n",
    "            print(\"block addr match\")\n",
    "            if len(blockAddrPairs) > 1:\n",
    "                runCompAddr(blockAddrPairs)\n",
    "            else:\n",
    "                return(returnResultsMI(blockAddrPairs))\n",
    "        if block == 3:\n",
    "            #matches both, inconclusive\n",
    "            print(\"block different name and addr match\")\n",
    "            runSort()\n",
    "        \n",
    "\n",
    "###############"
   ]
  },
  {
   "cell_type": "markdown",
   "metadata": {},
   "source": [
    "### 3.2 Sorted Neighborhood Indexing"
   ]
  },
  {
   "cell_type": "code",
   "execution_count": 6,
   "metadata": {
    "collapsed": true
   },
   "outputs": [],
   "source": [
    "#############   SORTED NEIGHBORHOOD INDEXING\n",
    "def runSort():\n",
    "    sort = 0\n",
    "\n",
    "    sortedNameIndexer = recordlinkage.SortedNeighbourhoodIndex(on='name')\n",
    "    sortedNamePairs = sortedNameIndexer.index(dfA, dfB)\n",
    "    if len(sortedNamePairs) > 0:\n",
    "        sort += 1\n",
    "\n",
    "    sortedAddrIndexer = recordlinkage.SortedNeighbourhoodIndex(on='addr')\n",
    "    sortedAddrPairs = sortedAddrIndexer.index(dfA, dfB)\n",
    "    if len(sortedAddrPairs) > 0:\n",
    "        sort += 2\n",
    "\n",
    "    if sort == 0:\n",
    "        #run sorted neighborhood both\n",
    "        print(\"full index NEXT\")\n",
    "        runFull()\n",
    "        print(\"sort is \"+ sort)\n",
    "    if sort == 1:\n",
    "        #compare with name pairs\n",
    "        print(\"sort name match\")\n",
    "        runCompName(sortedNamePairs)\n",
    "    if sort == 2:\n",
    "        #compare with addr pairs\n",
    "        print(\"sort addr match\")\n",
    "        runCompAddr(sortedAddrPairs)\n",
    "    if sort == 3:\n",
    "        #compare with both pairs?\n",
    "        print(\"sort both match\")\n",
    "        runCompBoth(sortedNamePairs, sortedAddrPairs)"
   ]
  },
  {
   "cell_type": "markdown",
   "metadata": {},
   "source": [
    "### 4. Compare Record Pairs"
   ]
  },
  {
   "cell_type": "code",
   "execution_count": 7,
   "metadata": {
    "collapsed": true
   },
   "outputs": [],
   "source": [
    "def runCompBoth(name_pairs,addr_pairs):\n",
    "    compare = recordlinkage.Compare()\n",
    "\n",
    "    compare.string('name', 'name', method='jarowinkler', threshold=0.95)\n",
    "    compare.string('addr', 'addr', method='jarowinkler', threshold=0.95)\n",
    "    compare.exact('city', 'city')\n",
    "    compare.exact('ctry', 'ctry')\n",
    "    compare.string('code', 'code', method='jarowinkler', threshold=0.90)\n",
    "    \n",
    "    nameMatch = False\n",
    "    addrMatch = False\n",
    "    # The comparison vectors for name\n",
    "    featuresName = compare.compute(name_pairs, dfA, dfB)\n",
    "    \n",
    "    # The comparison vectors for addr\n",
    "    featuresAddr = compare.compute(addr_pairs, dfA, dfB)\n",
    "\n",
    "    ########## Classification\n",
    "\n",
    "    featuresName.sum(axis=1).value_counts().sort_index(ascending=False)\n",
    "    \n",
    "    matchesNameAll = featuresName[featuresName.sum(axis=1) > 4]\n",
    "    if len(matchesNameAll) > 0:\n",
    "        nameMatch = True \n",
    "        matchesName = matchesNameAll #overwriting the larger set of results\n",
    "    else:\n",
    "        matchesName = featuresName[featuresName.sum(axis=1) > 3]\n",
    "        if len(matchesName) > 0:\n",
    "            nameMatch = True\n",
    "    print(len(matchesName))\n",
    "\n",
    "\n",
    "    featuresAddr.sum(axis=1).value_counts().sort_index(ascending=False)\n",
    "    \n",
    "    matchesAddrAll = featuresAddr[featuresAddr.sum(axis=1) > 4]\n",
    "    if len(matchesAddrAll) > 0:\n",
    "        addrMatch = True \n",
    "        matchesAddr = matchesAddrAll #overwriting the larger set of results\n",
    "    else:\n",
    "        matchesAddr = featuresAddr[featuresAddr.sum(axis=1) > 3]\n",
    "        if len(matchesAddr) > 0:\n",
    "            addrMatch = True\n",
    "    print(len(matchesAddr))    \n",
    "    \n",
    "########## FSM\n",
    "\n",
    "    print(\"let's check \" + str(nameMatch) + str(addrMatch))\n",
    "    if (not nameMatch):\n",
    "        if (not addrMatch):\n",
    "            #run sorted neighborhood both\n",
    "            print(\"cb Full Index NEXT\")\n",
    "            runFull()\n",
    "        elif (addrMatch):\n",
    "            #grab the id and contents of addr match, 11 = preference towards addr\n",
    "            print(\"cb sort addr match\")\n",
    "            print(matchesAddr)\n",
    "            if len(matchesAddr) > 2:\n",
    "                runFull()\n",
    "            else:\n",
    "                return(returnResultsDF(matchesAddr))\n",
    "    if (nameMatch):\n",
    "        if(not addrMatch):\n",
    "            #grab the id and contents of name match\n",
    "            print(\"cb sort name match\")\n",
    "            if len(matchesName) > 2:\n",
    "                runFull()\n",
    "            else:            \n",
    "                return(returnResultsDF(matchesName))\n",
    "        elif(addrMatch): \n",
    "            print(len(matchesName) + len(matchesAddr))\n",
    "            if len(matchesName) == 1:\n",
    "                return(returnResultsDF(matchesName))\n",
    "            elif len(matchesAddr) == 1:\n",
    "                return(returnResultsDF(matchesAddr))\n",
    "                print(\"cb sort addr and sort name\")\n",
    "            else:\n",
    "                runFull()"
   ]
  },
  {
   "cell_type": "code",
   "execution_count": 8,
   "metadata": {
    "collapsed": true
   },
   "outputs": [],
   "source": [
    "######### Specify to neighborhood & Compare\n",
    "def runCompName(name_pairs):\n",
    "    \n",
    "    compare = recordlinkage.Compare()\n",
    "\n",
    "    compare.string('name', 'name', method='jarowinkler', threshold=0.95)\n",
    "    compare.string('addr', 'addr', method='jarowinkler', threshold=0.95)\n",
    "    compare.exact('city', 'city')\n",
    "    compare.exact('ctry', 'ctry')\n",
    "    compare.string('code', 'code', method='jarowinkler', threshold=0.90)\n",
    "    \n",
    "    nameMatch = False\n",
    "    addrMatch = False\n",
    "    # The comparison vectors for name\n",
    "    featuresName = compare.compute(name_pairs, dfA, dfB)\n",
    "\n",
    "    ########## Classification\n",
    "\n",
    "    featuresName.sum(axis=1).value_counts().sort_index(ascending=False)\n",
    "    \n",
    "    matchesNameAll = featuresName[featuresName.sum(axis=1) > 4]\n",
    "    if len(matchesNameAll) > 0:\n",
    "        nameMatch = True \n",
    "        matchesName = matchesNameAll #overwriting the larger set of results\n",
    "    else:\n",
    "        matchesName = featuresName[featuresName.sum(axis=1) > 3]\n",
    "        if len(matchesName) > 0:\n",
    "            nameMatch = True\n",
    "    print(len(matchesName))\n",
    "\n",
    "########## FSM\n",
    "\n",
    "    print(\"let's check \" + str(nameMatch) + str(addrMatch))\n",
    "    if (not nameMatch):\n",
    "        if (not addrMatch):\n",
    "            #run sorted neighborhood both\n",
    "            print(\"cn Full Index NEXT\")\n",
    "            runFull()\n",
    "        elif (addrMatch):\n",
    "            #grab the id and contents of addr match, 11 = preference towards addr\n",
    "            print(\"cn sort addr match\")\n",
    "            print(matchesAddr)\n",
    "            if len(matchesAddr) > 2:\n",
    "                runFull()\n",
    "            else:\n",
    "                return(returnResultsDF(matchesAddr))\n",
    "    if (nameMatch):\n",
    "        if(not addrMatch):\n",
    "            #grab the id and contents of name match\n",
    "            print(\"cn sort name match\")\n",
    "            if len(matchesName) > 2:\n",
    "                runFull()\n",
    "            else:            \n",
    "                return(returnResultsDF(matchesName))\n",
    "        elif(addrMatch): \n",
    "            #grab the id and contents of addr match, 11 = preference towards addr\n",
    "            print(\"cn sort addr and sort name\")\n",
    "            runFull()"
   ]
  },
  {
   "cell_type": "code",
   "execution_count": 9,
   "metadata": {
    "collapsed": true
   },
   "outputs": [],
   "source": [
    "######### Specify to neighborhood & Compare\n",
    "def runCompAddr(addr_pairs):\n",
    "    \n",
    "    compare = recordlinkage.Compare()\n",
    "\n",
    "    compare.string('name', 'name', method='jarowinkler', threshold=0.95)\n",
    "    compare.string('addr', 'addr', method='jarowinkler', threshold=0.95)\n",
    "    compare.exact('city', 'city')\n",
    "    compare.exact('ctry', 'ctry')\n",
    "    compare.string('code', 'code', method='jarowinkler', threshold=0.90)\n",
    "    \n",
    "    nameMatch = False\n",
    "    addrMatch = False\n",
    "    # The comparison vectors for addr\n",
    "    featuresAddr = compare.compute(addr_pairs, dfA, dfB)\n",
    "\n",
    "    ########## Classification\n",
    "\n",
    "    featuresAddr.sum(axis=1).value_counts().sort_index(ascending=False)\n",
    "    \n",
    "    matchesAddrAll = featuresAddr[featuresAddr.sum(axis=1) > 4]\n",
    "    if len(matchesAddrAll) > 0:\n",
    "        addrMatch = True \n",
    "        matchesAddr = matchesAddrAll #overwriting the larger set of results\n",
    "    else:\n",
    "        matchesAddr = featuresAddr[featuresAddr.sum(axis=1) > 3]\n",
    "        if len(matchesAddr) > 0:\n",
    "            addrMatch = True\n",
    "    print(len(matchesAddr))    \n",
    "    \n",
    "########## FSM\n",
    "    print(\"let's check \" + str(nameMatch) + str(addrMatch))\n",
    "    if (not nameMatch):\n",
    "        if (not addrMatch):\n",
    "            #run sorted neighborhood both\n",
    "            print(\"ca Full Index NEXT\")\n",
    "            runFull()\n",
    "        elif (addrMatch):\n",
    "            #grab the id and contents of addr match, 11 = preference towards addr\n",
    "            print(\"ca sort addr match\")\n",
    "            print(matchesAddr)\n",
    "            if len(matchesAddr) > 2:\n",
    "                runFull()\n",
    "            else:\n",
    "                return(returnResultsDF(matchesAddr))\n",
    "    if (nameMatch):\n",
    "        if(not addrMatch):\n",
    "            #grab the id and contents of name match\n",
    "            print(\"ca sort name match\")\n",
    "            if len(matchesName) > 2:\n",
    "                runFull()\n",
    "            else:            \n",
    "                return(returnResultsDF(matchesName))\n",
    "        elif(addrMatch): \n",
    "            #grab the id and contents of addr match, 11 = preference towards addr\n",
    "            print(\"ca sort addr and sort name\")\n",
    "            runFull()"
   ]
  },
  {
   "cell_type": "markdown",
   "metadata": {},
   "source": [
    "### 5. Classification and Matching"
   ]
  },
  {
   "cell_type": "markdown",
   "metadata": {},
   "source": [
    "### 6. Full Index Pairs and Classification"
   ]
  },
  {
   "cell_type": "code",
   "execution_count": 10,
   "metadata": {
    "collapsed": true
   },
   "outputs": [],
   "source": [
    "####### If nothing else finds matches, run FULL INDEX\n",
    "def runFull():\n",
    "    compare = recordlinkage.Compare()\n",
    "\n",
    "    compare.string('name', 'name', method='jarowinkler', threshold=0.90)\n",
    "    compare.string('addr', 'addr', method='jarowinkler', threshold=0.95)\n",
    "    compare.exact('city', 'city')\n",
    "    compare.exact('ctry', 'ctry')\n",
    "    compare.string('code', 'code', method='jarowinkler', threshold=0.90)\n",
    "    \n",
    "    fullIndexer = recordlinkage.FullIndex()\n",
    "    fullIndexPairs = fullIndexer.index(dfA, dfB)\n",
    "\n",
    "    featuresFull = compare.compute(fullIndexPairs, dfA, dfB)\n",
    "\n",
    "    matchesFullAll = featuresFull[featuresFull.sum(axis=1) > 4]\n",
    "    if len(matchesFullAll) > 0:\n",
    "        print(\"full match all\")\n",
    "        return(returnResultsDF(matchesFullAll))\n",
    "    else:\n",
    "        matchesFull = featuresFull[featuresFull.sum(axis=1) > 3]\n",
    "        if len(matchesFull) >0:\n",
    "            print(\"full match\")\n",
    "            #print(type(matchesFull))\n",
    "            print(matchesFull)\n",
    "            return(returnResultsDF(matchesFull))\n",
    "    #return the match/matches with highest sum. Maybe try >4 first then >3. for row in frame, \n",
    "    #grab id then return the full dict entry of the id\n",
    "    "
   ]
  },
  {
   "cell_type": "markdown",
   "metadata": {},
   "source": [
    "### 7. Return Results"
   ]
  },
  {
   "cell_type": "code",
   "execution_count": 11,
   "metadata": {
    "collapsed": true
   },
   "outputs": [],
   "source": [
    "######## RETURN FROM MULTIINDEX\n",
    "\n",
    "def returnResultsMI(pairs):\n",
    "    data = pairs.to_frame(index = False)[0]\n",
    "    i = 0\n",
    "    grab_ids = []\n",
    "    print(data)\n",
    "    while i < len(data):\n",
    "        grab_ids.append(data[i])\n",
    "        i+=1 \n",
    "    for grab_id in grab_ids:\n",
    "        result = dfD.loc[grab_id].to_string(header = False, index = False)\n",
    "        results.append(result)\n",
    "        print(result)\n",
    "    print(grab_ids)\n",
    "    return results\n",
    "\n",
    "def returnResultsDF(pairs):\n",
    "    pairs2 = pairs.index\n",
    "    print(type(pairs))\n",
    "    print(pairs2)\n",
    "    data = pairs2.to_frame(index = False)[0]\n",
    "    i = 0\n",
    "    grab_ids = []\n",
    "    while i < len(data):\n",
    "        grab_ids.append(data[i])\n",
    "        i+=1   \n",
    "    for grab_id in grab_ids:\n",
    "        result = dfD.loc[grab_id].to_string(header = False, index = False)\n",
    "        results.append(result)\n",
    "    print(grab_ids)\n",
    "    return results"
   ]
  },
  {
   "cell_type": "markdown",
   "metadata": {},
   "source": [
    "### 8. Main Method to Run"
   ]
  },
  {
   "cell_type": "code",
   "execution_count": 12,
   "metadata": {
    "scrolled": true
   },
   "outputs": [
    {
     "name": "stdout",
     "output_type": "stream",
     "text": [
      "no exact matches\n",
      "sort both match\n",
      "0\n",
      "0\n",
      "let's check FalseFalse\n",
      "cb Full Index NEXT\n",
      "full match\n",
      "         0    1  2  3    4\n",
      "342 0  1.0  0.0  1  1  1.0\n",
      "<class 'pandas.core.frame.DataFrame'>\n",
      "MultiIndex(levels=[[0, 1, 2, 3, 4, 5, 6, 7, 8, 9, 10, 11, 12, 13, 14, 15, 16, 17, 18, 19, 20, 21, 22, 23, 24, 25, 26, 27, 28, 29, 30, 31, 32, 33, 34, 35, 36, 37, 38, 39, 40, 41, 42, 43, 44, 45, 46, 47, 48, 49, 50, 51, 52, 53, 54, 55, 56, 57, 58, 59, 60, 61, 62, 63, 64, 65, 66, 67, 68, 69, 70, 71, 72, 73, 74, 75, 76, 77, 78, 79, 80, 81, 82, 83, 84, 85, 86, 87, 88, 89, 90, 91, 92, 93, 94, 95, 96, 97, 98, 99, 100, 101, 102, 103, 104, 105, 106, 107, 108, 109, 110, 111, 112, 113, 114, 115, 116, 117, 118, 119, 120, 121, 122, 123, 124, 125, 126, 127, 128, 129, 130, 131, 132, 133, 134, 135, 136, 137, 138, 139, 140, 141, 142, 143, 144, 145, 146, 147, 148, 149, 150, 151, 152, 153, 154, 155, 156, 157, 158, 159, 160, 161, 162, 163, 164, 165, 166, 167, 168, 169, 170, 171, 172, 173, 174, 175, 176, 177, 178, 179, 180, 181, 182, 183, 184, 185, 186, 187, 188, 189, 190, 191, 192, 193, 194, 195, 196, 197, 198, 199, 200, 201, 202, 203, 204, 205, 206, 207, 208, 209, 210, 211, 212, 213, 214, 215, 216, 217, 218, 219, 220, 221, 222, 223, 224, 225, 226, 227, 228, 229, 230, 231, 232, 233, 234, 235, 236, 237, 238, 239, 240, 241, 242, 243, 244, 245, 246, 247, 248, 249, 250, 251, 252, 253, 254, 255, 256, 257, 258, 259, 260, 261, 262, 263, 264, 265, 266, 267, 268, 269, 270, 271, 272, 273, 274, 275, 276, 277, 278, 279, 280, 281, 282, 283, 284, 285, 286, 287, 288, 289, 290, 291, 292, 293, 294, 295, 296, 297, 298, 299, 300, 301, 302, 303, 304, 305, 306, 307, 308, 309, 310, 311, 312, 313, 314, 315, 316, 317, 318, 319, 320, 321, 322, 323, 324, 325, 326, 327, 328, 329, 330, 331, 332, 333, 334, 335, 336, 337, 338, 339, 340, 341, 342, 343, 344, 345, 346, 347, 348, 349, 350, 351, 352, 353, 354, 355, 356, 357, 358, 359, 360, 361, 362, 363, 364, 365, 366, 367, 368, 369, 370, 371, 372, 373, 374, 375, 376, 377, 378, 379, 380, 381, 382, 383, 384, 385, 386, 387, 388, 389, 390, 391, 392, 393, 394, 395, 396, 397, 398, 399, 400, 401, 402, 403, 404, 405, 406, 407, 408, 409, 410, 411, 412, 413, 414, 415, 416, 417, 418, 419, 420, 421, 422, 423, 424, 425, 426, 427, 428, 429, 430, 431, 432, 433, 434, 435, 436, 437, 438, 439, 440, 441, 442, 443, 444, 445, 446, 447, 448, 449, 450, 451, 452, 453, 454, 455, 456, 457, 458, 459, 460, 461, 462, 463, 464, 465, 466, 467, 468, 469, 470, 471, 472, 473, 474, 475, 476, 477, 478, 479, 480, 481, 482, 483, 484, 485, 486, 487, 488, 489, 490, 491, 492, 493, 494, 495, 496, 497, 498, 499, 500, 501, 502, 503, 504, 505, 506, 507, 508, 509, 510, 511, 512, 513, 514, 515, 516, 517, 518, 519, 520, 521, 522, 523, 524, 525, 526, 527, 528, 529, 530, 531, 532, 533, 534, 535, 536, 537, 538, 539, 540, 541, 542, 543, 544, 545, 546, 547, 548, 549, 550, 551, 552, 553, 554, 555, 556, 557, 558, 559, 560, 561, 562, 563, 564, 565, 566, 567, 568, 569, 570, 571, 572, 573, 574, 575, 576, 577, 578, 579, 580, 581, 582, 583, 584, 585, 586, 587, 588, 589, 590, 591, 592, 593, 594, 595, 596, 597, 598, 599, 600, 601, 602, 603, 604, 605, 606, 607, 608, 609, 610, 611, 612, 613, 614, 615, 616, 617, 618, 619, 620, 621, 622, 623, 624, 625, 626, 627, 628, 629, 630, 631, 632, 633, 634, 635, 636, 637, 638, 639, 640, 641, 642, 643, 644, 645, 646, 647, 648, 649, 650, 651, 652, 653, 654, 655, 656, 657, 658, 659, 660, 661, 662, 663, 664, 665, 666, 667, 668, 669, 670, 671, 672, 673, 674, 675, 676, 677, 678, 679, 680, 681, 682, 683, 684, 685, 686, 687, 688, 689, 690, 691, 692, 693, 694, 695, 696, 697, 698, 699, 700, 701, 702, 703, 704, 705, 706, 707, 708, 709, 710, 711, 712, 713, 714, 715, 716, 717, 718, 719, 720, 721, 722, 723, 724, 725, 726, 727, 728, 729, 730, 731, 732, 733, 734, 735, 736, 737, 738, 739, 740, 741, 742, 743, 744, 745, 746, 747, 748, 749, 750, 751, 752, 753, 754, 755, 756, 757, 758, 759, 760, 761, 762, 763, 764, 765, 766, 767, 768, 769, 770, 771, 772, 773, 774, 775, 776, 777, 778, 779, 780, 781, 782, 783, 784, 785, 786, 787, 788, 789, 790, 791, 792, 793, 794, 795, 796, 797, 798, 799, 800, 801, 802, 803, 804, 805, 806, 807, 808, 809, 810, 811, 812, 813, 814, 815, 816, 817, 818, 819, 820, 821, 822, 823, 824, 825, 826, 827, 828, 829, 830, 831, 832, 833, 834, 835, 836, 837, 838, 839, 840, 841, 842, 843, 844, 845, 846, 847, 848, 849, 850, 851, 852, 853, 854, 855, 856, 857, 858, 859, 860, 861, 862, 863, 864, 865, 866, 867, 868, 869, 870, 871, 872, 873, 874, 875, 876, 877, 878, 879, 880, 881, 882, 883, 884, 885, 886, 887, 888, 889, 890, 891, 892, 893, 894, 895, 896, 897, 898, 899, 900, 901, 902, 903, 904, 905, 906, 907, 908, 909, 910, 911, 912, 913, 914, 915, 916, 917, 918, 919, 920, 921, 922, 923, 924, 925, 926, 927, 928, 929, 930, 931, 932, 933, 934, 935, 936, 937, 938, 939, 940, 941, 942, 943, 944, 945, 946, 947, 948, 949, 950, 951, 952, 953, 954, 955, 956, 957, 958, 959, 960, 961, 962, 963, 964, 965, 966, 967, 968, 969, 970, 971, 972, 973, 974, 975, 976, 977, 978, 979, 980, 981, 982, 983, 984, 985, 986, 987, 988, 989, 990, 991, 992, 993, 994, 995, 996, 997, 998, 999], [0]],\n",
      "           labels=[[342], [0]])\n",
      "[342]\n",
      "['IQ PROFESSIONAL LIMITED 88-90 HATTON GARDEN LO...']\n"
     ]
    }
   ],
   "source": [
    "### MAIN METHOD\n",
    "# First, check for exact match overall FULL\n",
    "results = []\n",
    "blockIndexer = recordlinkage.BlockIndex(on=['name', 'addr', 'city', 'ctry', 'code'])\n",
    "blockIndexPairs = blockIndexer.index(dfA, dfB)\n",
    "if len(blockIndexPairs) > 0:\n",
    "    #continue\n",
    "    print(blockIndexPairs)\n",
    "    print(returnResultsMI(blockIndexPairs))\n",
    "else:\n",
    "    runBlock()\n",
    "\n",
    "print(results)"
   ]
  },
  {
   "cell_type": "markdown",
   "metadata": {},
   "source": [
    "### 9. Output to the UI, Variable outputRL, Based on Result Length"
   ]
  },
  {
   "cell_type": "code",
   "execution_count": 13,
   "metadata": {},
   "outputs": [
    {
     "name": "stdout",
     "output_type": "stream",
     "text": [
      "Did you mean: IQ PROFESSIONAL LIMITED 88-90 HATTON GARDEN LO... ?\n"
     ]
    }
   ],
   "source": [
    "## OUTPUT TO UI\n",
    "outputRL = \"\"\n",
    "\n",
    "if len(results) == 0:\n",
    "    outputRL = \"No results were found using Record Linkage\"\n",
    "if len(results) == 1:\n",
    "    outputRL = \"Did you mean: \" + results[0] + \" ?\"\n",
    "if len(results) == 2:\n",
    "    outputRL = \"Did you mean: \" + results[0] + \" ?\" + \"\\n\" + \"Or possibly: \" + results[1] + \" ?\"    \n",
    "if len(results) == 3:\n",
    "    outputRL = \"Did you mean: \" + results[0] + \" ?\" + \"\\n\" + \"Or possibly: \" + results[1] + \" ?\" + \"\\n\" + \"Or possibly this: \" + results[2] + \" ?\"    \n",
    "if len(results) > 3:\n",
    "    outputRL = \"Number of results: \" + str(len(results)) + \". Too many match results found. Please enter new data.\"\n",
    "\n",
    "print(outputRL)"
   ]
  },
  {
   "cell_type": "code",
   "execution_count": null,
   "metadata": {
    "collapsed": true
   },
   "outputs": [],
   "source": []
  }
 ],
 "metadata": {
  "kernelspec": {
   "display_name": "Python 3",
   "language": "python",
   "name": "python3"
  },
  "language_info": {
   "codemirror_mode": {
    "name": "ipython",
    "version": 3
   },
   "file_extension": ".py",
   "mimetype": "text/x-python",
   "name": "python",
   "nbconvert_exporter": "python",
   "pygments_lexer": "ipython3",
   "version": "3.6.1"
  }
 },
 "nbformat": 4,
 "nbformat_minor": 2
}
