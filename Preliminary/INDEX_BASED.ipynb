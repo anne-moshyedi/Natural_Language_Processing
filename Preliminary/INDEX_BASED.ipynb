{
 "cells": [
  {
   "cell_type": "markdown",
   "metadata": {},
   "source": [
    "# Entity Resolution- Preliminary Modeling with PySolr"
   ]
  },
  {
   "cell_type": "markdown",
   "metadata": {},
   "source": [
    "Import Statements"
   ]
  },
  {
   "cell_type": "code",
   "execution_count": 1,
   "metadata": {
    "collapsed": true
   },
   "outputs": [],
   "source": [
    "# Make sure all the necessary packages have been installed, and that Solr is running on port 8984\n",
    "import numpy as np\n",
    "import pandas as pd\n",
    "import pysolr\n",
    "import csv\n",
    "import operator"
   ]
  },
  {
   "cell_type": "markdown",
   "metadata": {},
   "source": [
    "Import the data and configure a dictionary of address fields"
   ]
  },
  {
   "cell_type": "code",
   "execution_count": 2,
   "metadata": {
    "collapsed": true
   },
   "outputs": [],
   "source": [
    "dict_list = []\n",
    "fields = ['id', 'name', 'addr', 'city', 'ctry', 'code']\n",
    "with open('companies_final.csv', mode='r') as infile:\n",
    "    reader = csv.reader(infile)\n",
    "    next(reader)\n",
    "    for rows in reader:\n",
    "        dictionary = {}\n",
    "        for i in range(6):\n",
    "            dictionary[fields[i]] = rows[i]\n",
    "        dict_list.append(dictionary)"
   ]
  },
  {
   "cell_type": "markdown",
   "metadata": {},
   "source": [
    "Establishing Solr Connection and Indexing"
   ]
  },
  {
   "cell_type": "code",
   "execution_count": 3,
   "metadata": {},
   "outputs": [
    {
     "data": {
      "text/plain": [
       "'<?xml version=\"1.0\" encoding=\"UTF-8\"?>\\n<response>\\n\\n<lst name=\"responseHeader\">\\n  <int name=\"status\">0</int>\\n  <int name=\"QTime\">29</int>\\n</lst>\\n</response>\\n'"
      ]
     },
     "execution_count": 3,
     "metadata": {},
     "output_type": "execute_result"
    }
   ],
   "source": [
    "solr = pysolr.Solr\n",
    "conn = solr('http://localhost:8984/solr/new_core')\n",
    "# Clear what is currently in the index and add the dictionary of addresses\n",
    "conn.delete(q=\"*:*\")\n",
    "conn.add(dict_list)"
   ]
  },
  {
   "cell_type": "markdown",
   "metadata": {},
   "source": [
    "# User Queries"
   ]
  },
  {
   "cell_type": "markdown",
   "metadata": {},
   "source": [
    "### Exact Search"
   ]
  },
  {
   "cell_type": "code",
   "execution_count": 7,
   "metadata": {},
   "outputs": [
    {
     "name": "stdout",
     "output_type": "stream",
     "text": [
      "User entry: 1 MOBILE LIMITED 30 CITY ROAD\n",
      "Response: 1 MOBILE LIMITED 30 CITY ROAD LONDON UK EC1Y 2AB\n"
     ]
    }
   ],
   "source": [
    "# Results is a list of all the potential matches, the closest match being the first in the list\n",
    "results = conn.search('name:\"1 MOBILE LIMITED\" addr:\"30 CITY ROAD\"')\n",
    "\n",
    "i = 1\n",
    "for result in results:\n",
    "    if i == 1:\n",
    "        suggestion = (\" \".join(result['name'] + result['addr'] + result['city'] + result['ctry'] + result['code']))\n",
    "    i += 1\n",
    "    \n",
    "print(\"User entry: 1 MOBILE LIMITED 30 CITY ROAD\")\n",
    "print(\"Response:\", suggestion)"
   ]
  },
  {
   "cell_type": "markdown",
   "metadata": {},
   "source": [
    "### Insensitive to Capitalization"
   ]
  },
  {
   "cell_type": "code",
   "execution_count": 8,
   "metadata": {},
   "outputs": [
    {
     "name": "stdout",
     "output_type": "stream",
     "text": [
      "User entry: 1 MobILE LimITED 30 CITY ROAD\n",
      "Response: 1 MOBILE LIMITED 30 CITY ROAD LONDON UK EC1Y 2AB\n"
     ]
    }
   ],
   "source": [
    "results = conn.search('name:\"1 MobILE LimITED\" addr:\"30 CITY ROAD\"')\n",
    "\n",
    "i = 1\n",
    "for result in results:\n",
    "    if i == 1:\n",
    "        suggestion = (\" \".join(result['name'] + result['addr'] + result['city'] + result['ctry'] + result['code']))\n",
    "    i += 1\n",
    "    \n",
    "print(\"User entry: 1 MobILE LimITED 30 CITY ROAD\")\n",
    "print(\"Response:\", suggestion)"
   ]
  },
  {
   "cell_type": "markdown",
   "metadata": {},
   "source": [
    "### Insensitive to Excessive White Space"
   ]
  },
  {
   "cell_type": "code",
   "execution_count": 9,
   "metadata": {},
   "outputs": [
    {
     "name": "stdout",
     "output_type": "stream",
     "text": [
      "User entry: 1 MOBILE            LIMITED 30 CITY ROAD\n",
      "Response: 1 MOBILE LIMITED 30 CITY ROAD LONDON UK EC1Y 2AB\n"
     ]
    }
   ],
   "source": [
    "results = conn.search('name:\"1 MOBILE            LIMITED\" addr:\"30 CITY ROAD\"')\n",
    "\n",
    "i = 1\n",
    "for result in results:\n",
    "    if i == 1:\n",
    "        suggestion = (\" \".join(result['name'] + result['addr'] + result['city'] + result['ctry'] + result['code']))\n",
    "    i += 1\n",
    "    \n",
    "print(\"User entry: 1 MOBILE            LIMITED 30 CITY ROAD\")\n",
    "print(\"Response:\", suggestion)"
   ]
  },
  {
   "cell_type": "markdown",
   "metadata": {},
   "source": [
    "### Substrings"
   ]
  },
  {
   "cell_type": "code",
   "execution_count": 10,
   "metadata": {},
   "outputs": [
    {
     "name": "stdout",
     "output_type": "stream",
     "text": [
      "User entry: MOBILE 30 CITY ROAD\n",
      "Response: 1 MOBILE LIMITED 30 CITY ROAD LONDON UK EC1Y 2AB\n"
     ]
    }
   ],
   "source": [
    "results = conn.search('name:\"MOBILE\" addr:\"30 CITY ROAD\"')\n",
    "\n",
    "i = 1\n",
    "for result in results:\n",
    "    if i == 1:\n",
    "        suggestion = (\" \".join(result['name'] + result['addr'] + result['city'] + result['ctry'] + result['code']))\n",
    "    i += 1\n",
    "    \n",
    "print(\"User entry: MOBILE 30 CITY ROAD\")\n",
    "print(\"Response:\", suggestion)"
   ]
  },
  {
   "cell_type": "markdown",
   "metadata": {},
   "source": [
    "### Special Characters"
   ]
  },
  {
   "cell_type": "code",
   "execution_count": 11,
   "metadata": {},
   "outputs": [
    {
     "name": "stdout",
     "output_type": "stream",
     "text": [
      "User entry: #1 MOBILE LIMITED 30 CITY ROAD\n",
      "Response: 1 MOBILE LIMITED 30 CITY ROAD LONDON UK EC1Y 2AB\n"
     ]
    }
   ],
   "source": [
    "results = conn.search('name:\"#1 MOBILE LIMITED\" addr:\"30 CITY ROAD\"')\n",
    "\n",
    "i = 1\n",
    "for result in results:\n",
    "    if i == 1:\n",
    "        suggestion = (\" \".join(result['name'] + result['addr'] + result['city'] + result['ctry'] + result['code']))\n",
    "    i += 1\n",
    "    \n",
    "print(\"User entry: #1 MOBILE LIMITED 30 CITY ROAD\")\n",
    "print(\"Response:\", suggestion)"
   ]
  },
  {
   "cell_type": "markdown",
   "metadata": {},
   "source": [
    "### Extra wording, prefixes, suffixes"
   ]
  },
  {
   "cell_type": "code",
   "execution_count": 12,
   "metadata": {},
   "outputs": [
    {
     "name": "stdout",
     "output_type": "stream",
     "text": [
      "User entry: 1 AMOBILE LIMITED Company 30 CITY ROADS\n",
      "Response: 1 MOBILE LIMITED 30 CITY ROAD LONDON UK EC1Y 2AB\n"
     ]
    }
   ],
   "source": [
    "results = conn.search('name:\"1 AMOBILE LIMITEDs Company\" addr:\"30 CITY RD\"')\n",
    "\n",
    "i = 1\n",
    "for result in results:\n",
    "    if i == 1:\n",
    "        suggestion = (\" \".join(result['name'] + result['addr'] + result['city'] + result['ctry'] + result['code']))\n",
    "    i += 1\n",
    "    \n",
    "print(\"User entry: 1 AMOBILE LIMITED Company 30 CITY ROADS\")\n",
    "print(\"Response:\", suggestion)"
   ]
  },
  {
   "cell_type": "markdown",
   "metadata": {},
   "source": [
    "### Exact, Unique Addresses"
   ]
  },
  {
   "cell_type": "code",
   "execution_count": 13,
   "metadata": {},
   "outputs": [
    {
     "name": "stdout",
     "output_type": "stream",
     "text": [
      "User entry: COURTYARD SUITE 100 HATTON GARDEN\n",
      "Response: ACTURIS LIMITED COURTYARD SUITE 100 HATTON GARDEN LONDON UK EC1N 8NX\n"
     ]
    }
   ],
   "source": [
    "results = conn.search('name:\"\" addr:\"COURTYARD SUITE 100 HATTON GARDEN\"')\n",
    "\n",
    "i = 1\n",
    "for result in results:\n",
    "    if i == 1:\n",
    "        suggestion = (\" \".join(result['name'] + result['addr'] + result['city'] + result['ctry'] + result['code']))\n",
    "    i += 1\n",
    "    \n",
    "print(\"User entry: COURTYARD SUITE 100 HATTON GARDEN\")\n",
    "print(\"Response:\", suggestion)"
   ]
  },
  {
   "cell_type": "markdown",
   "metadata": {
    "collapsed": true
   },
   "source": [
    "# Time Operations"
   ]
  },
  {
   "cell_type": "code",
   "execution_count": 5,
   "metadata": {
    "collapsed": true
   },
   "outputs": [],
   "source": [
    "import time"
   ]
  },
  {
   "cell_type": "code",
   "execution_count": 8,
   "metadata": {},
   "outputs": [
    {
     "name": "stdout",
     "output_type": "stream",
     "text": [
      "User entry: 1 MOBILE LIMITED 30 CITY ROAD\n",
      "Response: 1 MOBILE LIMITED 30 CITY ROAD LONDON UK EC1Y 2AB\n",
      "3.7238597869873047\n"
     ]
    }
   ],
   "source": [
    "start = time.time()\n",
    "results = conn.search('name:\"1 MOBILE LIMITED\" addr:\"30 CITY ROAD\" city:LONDON')\n",
    "\n",
    "i = 1\n",
    "for result in results:\n",
    "    if i == 1:\n",
    "        suggestion = (\" \".join(result['name'] + result['addr'] + result['city'] + result['ctry'] + result['code']))\n",
    "    i += 1\n",
    "    \n",
    "print(\"User entry: 1 MOBILE LIMITED 30 CITY ROAD\")\n",
    "print(\"Response:\", suggestion)\n",
    "end = time.time()\n",
    "print((end - start)*1000)"
   ]
  },
  {
   "cell_type": "code",
   "execution_count": 20,
   "metadata": {},
   "outputs": [
    {
     "name": "stdout",
     "output_type": "stream",
     "text": [
      "User entry: 1 MOBILE LIMITED 30 CITY ROAD\n",
      "Response: DIGITAL HUB MEDIA PRIVATE LIMITED KEMP HOUSE 160 CITY ROAD LONDON|LONDON UK EC1V 2NX\n",
      "0.0035712718963623047\n"
     ]
    }
   ],
   "source": [
    "start = time.time()\n",
    "results = conn.search('name:\"1 MOBILE LIMTED\" addr:\"30 CITY STREET\" city:\"LONDON\"')\n",
    "\n",
    "i = 1\n",
    "for result in results:\n",
    "    if i == 1:\n",
    "        suggestion = (\" \".join(result['name'] + result['addr'] + result['city'] + result['ctry'] + result['code']))\n",
    "    i += 1\n",
    "    \n",
    "print(\"User entry: 1 MOBILE LIMITED 30 CITY ROAD\")\n",
    "print(\"Response:\", suggestion)\n",
    "end = time.time()\n",
    "print(end - start)"
   ]
  },
  {
   "cell_type": "code",
   "execution_count": 21,
   "metadata": {},
   "outputs": [
    {
     "name": "stdout",
     "output_type": "stream",
     "text": [
      "User entry: 1 MOBILE LIMITED 30 CITY ROAD\n",
      "Response: DIGITAL HUB MEDIA PRIVATE LIMITED KEMP HOUSE 160 CITY ROAD LONDON|LONDON UK EC1V 2NX\n",
      "0.004781246185302734\n"
     ]
    }
   ],
   "source": [
    "start = time.time()\n",
    "results = conn.search('name:\"1 mobil lim\" addr:\"300 city rd\" city:london ctry:\"uk\"')\n",
    "\n",
    "i = 1\n",
    "for result in results:\n",
    "    if i == 1:\n",
    "        suggestion = (\" \".join(result['name'] + result['addr'] + result['city'] + result['ctry'] + result['code']))\n",
    "    i += 1\n",
    "    \n",
    "print(\"User entry: 1 MOBILE LIMITED 30 CITY ROAD\")\n",
    "print(\"Response:\", suggestion)\n",
    "end = time.time()\n",
    "print(end - start)"
   ]
  },
  {
   "cell_type": "code",
   "execution_count": null,
   "metadata": {
    "collapsed": true
   },
   "outputs": [],
   "source": []
  }
 ],
 "metadata": {
  "kernelspec": {
   "display_name": "Python 3",
   "language": "python",
   "name": "python3"
  },
  "language_info": {
   "codemirror_mode": {
    "name": "ipython",
    "version": 3
   },
   "file_extension": ".py",
   "mimetype": "text/x-python",
   "name": "python",
   "nbconvert_exporter": "python",
   "pygments_lexer": "ipython3",
   "version": "3.6.1"
  }
 },
 "nbformat": 4,
 "nbformat_minor": 2
}
