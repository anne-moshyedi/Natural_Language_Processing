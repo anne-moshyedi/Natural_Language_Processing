{
 "cells": [
  {
   "cell_type": "markdown",
   "metadata": {},
   "source": [
    "# Entity Resolution- Preliminary Modeling with PySolr"
   ]
  },
  {
   "cell_type": "markdown",
   "metadata": {},
   "source": [
    "Import Statements"
   ]
  },
  {
   "cell_type": "code",
   "execution_count": 2,
   "metadata": {
    "collapsed": true
   },
   "outputs": [],
   "source": [
    "import numpy as np\n",
    "import pandas as pd\n",
    "import pysolr\n",
    "import csv\n",
    "import operator"
   ]
  },
  {
   "cell_type": "markdown",
   "metadata": {},
   "source": [
    "Import the data and configure a dictionary of address fields"
   ]
  },
  {
   "cell_type": "code",
   "execution_count": 3,
   "metadata": {
    "collapsed": true
   },
   "outputs": [],
   "source": [
    "dict_list = []\n",
    "fields = ['id', 'name', 'addr', 'city', 'ctry', 'code']\n",
    "with open('companies_final.csv', mode='r') as infile:\n",
    "    reader = csv.reader(infile)\n",
    "    next(reader)\n",
    "    for rows in reader:\n",
    "        dictionary = {}\n",
    "        for i in range(6):\n",
    "            dictionary[fields[i]] = rows[i]\n",
    "        dict_list.append(dictionary)"
   ]
  },
  {
   "cell_type": "markdown",
   "metadata": {},
   "source": [
    "Establishing Solr Connection and Indexing"
   ]
  },
  {
   "cell_type": "code",
   "execution_count": 4,
   "metadata": {},
   "outputs": [
    {
     "data": {
      "text/plain": [
       "'<?xml version=\"1.0\" encoding=\"UTF-8\"?>\\n<response>\\n\\n<lst name=\"responseHeader\">\\n  <int name=\"status\">0</int>\\n  <int name=\"QTime\">96</int>\\n</lst>\\n</response>\\n'"
      ]
     },
     "execution_count": 4,
     "metadata": {},
     "output_type": "execute_result"
    }
   ],
   "source": [
    "solr = pysolr.Solr\n",
    "conn = solr('http://localhost:8984/solr/new_core')\n",
    "# Clear what is currently in the index and add the dictionary of addresses\n",
    "conn.delete(q=\"*:*\")\n",
    "conn.add(dict_list)"
   ]
  },
  {
   "cell_type": "markdown",
   "metadata": {},
   "source": [
    "# User Queries"
   ]
  },
  {
   "cell_type": "markdown",
   "metadata": {},
   "source": [
    "Exact Search"
   ]
  },
  {
   "cell_type": "code",
   "execution_count": 15,
   "metadata": {},
   "outputs": [
    {
     "name": "stdout",
     "output_type": "stream",
     "text": [
      "User entry: 1 MOBILE LIMITED 30 CITY ROAD\n",
      "Response: 1 MOBILE LIMITED 30 CITY ROAD LONDON UK EC1Y 2AB\n"
     ]
    }
   ],
   "source": [
    "# Results is a list of all the potential matches, the closest match being the first in the list\n",
    "results = conn.search('name:\"1 MOBILE LIMITED\" addr:\"30 CITY ROAD\"')\n",
    "\n",
    "i = 1\n",
    "for result in results:\n",
    "    if i == 1:\n",
    "        suggestion = (\" \".join(result['name'] + result['addr'] + result['city'] + result['ctry'] + result['code']))\n",
    "    i += 1\n",
    "    \n",
    "print(\"User entry: 1 MOBILE LIMITED 30 CITY ROAD\")\n",
    "print(\"Response:\", suggestion)"
   ]
  },
  {
   "cell_type": "markdown",
   "metadata": {},
   "source": [
    "Insensitive to Capitalization"
   ]
  },
  {
   "cell_type": "code",
   "execution_count": 18,
   "metadata": {},
   "outputs": [
    {
     "name": "stdout",
     "output_type": "stream",
     "text": [
      "User entry: 1 MobILE LimITED 30 CITY ROAD\n",
      "Response: 1 MOBILE LIMITED 30 CITY ROAD LONDON UK EC1Y 2AB\n"
     ]
    }
   ],
   "source": [
    "results = conn.search('name:\"1 MobILE LimITED\" addr:\"30 CITY ROAD\"')\n",
    "\n",
    "i = 1\n",
    "for result in results:\n",
    "    if i == 1:\n",
    "        suggestion = (\" \".join(result['name'] + result['addr'] + result['city'] + result['ctry'] + result['code']))\n",
    "    i += 1\n",
    "    \n",
    "print(\"User entry: 1 MobILE LimITED 30 CITY ROAD\")\n",
    "print(\"Response:\", suggestion)"
   ]
  },
  {
   "cell_type": "markdown",
   "metadata": {},
   "source": [
    "Insensitive to Excessive White Space"
   ]
  },
  {
   "cell_type": "code",
   "execution_count": 20,
   "metadata": {},
   "outputs": [
    {
     "name": "stdout",
     "output_type": "stream",
     "text": [
      "User entry: 1 MOBILE            LIMITED 30 CITY ROAD\n",
      "Response: 1 MOBILE LIMITED 30 CITY ROAD LONDON UK EC1Y 2AB\n"
     ]
    }
   ],
   "source": [
    "results = conn.search('name:\"1 MOBILE            LIMITED\" addr:\"30 CITY ROAD\"')\n",
    "\n",
    "i = 1\n",
    "for result in results:\n",
    "    if i == 1:\n",
    "        suggestion = (\" \".join(result['name'] + result['addr'] + result['city'] + result['ctry'] + result['code']))\n",
    "    i += 1\n",
    "    \n",
    "print(\"User entry: 1 MOBILE            LIMITED 30 CITY ROAD\")\n",
    "print(\"Response:\", suggestion)"
   ]
  },
  {
   "cell_type": "markdown",
   "metadata": {},
   "source": [
    "Substrings"
   ]
  },
  {
   "cell_type": "code",
   "execution_count": 21,
   "metadata": {},
   "outputs": [
    {
     "name": "stdout",
     "output_type": "stream",
     "text": [
      "User entry: 1 MOBILE 30 CITY ROAD\n",
      "Response: 1 MOBILE LIMITED 30 CITY ROAD LONDON UK EC1Y 2AB\n"
     ]
    }
   ],
   "source": [
    "results = conn.search('name:\"MOBILE\" addr:\"30 CITY ROAD\"')\n",
    "\n",
    "i = 1\n",
    "for result in results:\n",
    "    if i == 1:\n",
    "        suggestion = (\" \".join(result['name'] + result['addr'] + result['city'] + result['ctry'] + result['code']))\n",
    "    i += 1\n",
    "    \n",
    "print(\"User entry: 1 MOBILE 30 CITY ROAD\")\n",
    "print(\"Response:\", suggestion)"
   ]
  },
  {
   "cell_type": "markdown",
   "metadata": {},
   "source": [
    "Special Characters"
   ]
  },
  {
   "cell_type": "code",
   "execution_count": 24,
   "metadata": {},
   "outputs": [
    {
     "name": "stdout",
     "output_type": "stream",
     "text": [
      "User entry: #1 MOBILE LIMITED 30 CITY ROAD\n",
      "Response: 1 MOBILE LIMITED 30 CITY ROAD LONDON UK EC1Y 2AB\n"
     ]
    }
   ],
   "source": [
    "results = conn.search('name:\"#1 MOBILE LIMITED\" addr:\"30 CITY ROAD\"')\n",
    "\n",
    "i = 1\n",
    "for result in results:\n",
    "    if i == 1:\n",
    "        suggestion = (\" \".join(result['name'] + result['addr'] + result['city'] + result['ctry'] + result['code']))\n",
    "    i += 1\n",
    "    \n",
    "print(\"User entry: #1 MOBILE LIMITED 30 CITY ROAD\")\n",
    "print(\"Response:\", suggestion)"
   ]
  },
  {
   "cell_type": "code",
   "execution_count": null,
   "metadata": {
    "collapsed": true
   },
   "outputs": [],
   "source": []
  }
 ],
 "metadata": {
  "kernelspec": {
   "display_name": "Python 3",
   "language": "python",
   "name": "python3"
  },
  "language_info": {
   "codemirror_mode": {
    "name": "ipython",
    "version": 3
   },
   "file_extension": ".py",
   "mimetype": "text/x-python",
   "name": "python",
   "nbconvert_exporter": "python",
   "pygments_lexer": "ipython3",
   "version": "3.6.1"
  }
 },
 "nbformat": 4,
 "nbformat_minor": 2
}
