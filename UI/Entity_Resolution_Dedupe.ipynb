{
 "cells": [
  {
   "cell_type": "markdown",
   "metadata": {},
   "source": [
    "# Entity Resolution- Dedupe Model"
   ]
  },
  {
   "cell_type": "code",
   "execution_count": 37,
   "metadata": {
    "collapsed": true
   },
   "outputs": [],
   "source": [
    "# Import Statements\n",
    "from __future__ import print_function\n",
    "from future.builtins import next\n",
    "\n",
    "import os\n",
    "import csv\n",
    "import re\n",
    "import collections\n",
    "import numpy\n",
    "\n",
    "import dedupe\n",
    "from unidecode import unidecode"
   ]
  },
  {
   "cell_type": "markdown",
   "metadata": {},
   "source": [
    "Setup"
   ]
  },
  {
   "cell_type": "code",
   "execution_count": 38,
   "metadata": {
    "collapsed": true
   },
   "outputs": [],
   "source": [
    "# the output_file will store the results of the record linkage deduplication\n",
    "output_file = 'data_matching_output.csv'\n",
    "\n",
    "# the settings file will contain the data model and predicates that determine matches\n",
    "settings_file = 'data_matching_learned_settings'\n",
    "\n",
    "# the training_file will contain the pairs of labeled examples that the model was trained on\n",
    "training_file = 'data_matching_training.json'\n"
   ]
  },
  {
   "cell_type": "code",
   "execution_count": 39,
   "metadata": {
    "collapsed": true
   },
   "outputs": [],
   "source": [
    "# method to clean the data using Unidecode and Regex\n",
    "\n",
    "def preProcess(column):\n",
    "    # convert any unicode data into ASCII characters\n",
    "    column = unidecode(column)\n",
    "    # ignore new lines\n",
    "    column = re.sub('\\n', ' ', column)\n",
    "    # ignore special characters\n",
    "    column = re.sub('-', '', column)\n",
    "    column = re.sub('/', ' ', column)\n",
    "    column = re.sub(\"'\", '', column)\n",
    "    column = re.sub(\",\", '', column)\n",
    "    column = re.sub(\":\", ' ', column)\n",
    "    # ignore extra white space\n",
    "    column = re.sub('  +', ' ', column)\n",
    "    # ignore casing\n",
    "    column = column.strip().strip('\"').strip(\"'\").lower().strip()\n",
    "    if not column :\n",
    "        column = None\n",
    "    return column\n"
   ]
  },
  {
   "cell_type": "code",
   "execution_count": 40,
   "metadata": {
    "collapsed": true
   },
   "outputs": [],
   "source": [
    "# Read the data from the CSV and create a dictionary of addresses\n",
    "\n",
    "def readData(filename):\n",
    "    \n",
    "    # initialize the dictionary\n",
    "    data_d = {}\n",
    "\n",
    "    # read each row in the CSV, clean the data, and it to a dictionary\n",
    "    with open(filename) as f:\n",
    "        reader = csv.DictReader(f)\n",
    "        for i, row in enumerate(reader):\n",
    "            clean_row = dict([(k, preProcess(v)) for (k, v) in row.items()])\n",
    "            # each address will have a unique ID consisting of the file name and a unique number\n",
    "            data_d[filename + str(i)] = dict(clean_row)\n",
    "\n",
    "    return data_d"
   ]
  },
  {
   "cell_type": "code",
   "execution_count": 41,
   "metadata": {
    "collapsed": true
   },
   "outputs": [],
   "source": [
    "# Import the data\n",
    "data_1 = readData('companies_final.csv')\n",
    "data_2 = readData('companies_final_users.csv')"
   ]
  },
  {
   "cell_type": "markdown",
   "metadata": {},
   "source": [
    "Train the model"
   ]
  },
  {
   "cell_type": "code",
   "execution_count": 42,
   "metadata": {},
   "outputs": [
    {
     "name": "stderr",
     "output_type": "stream",
     "text": [
      "name : european centre for research & consultancy ltd\n",
      "addr : 24 holborn viaduct\n",
      "city : london\n",
      "ctry : uk\n",
      "code : ec1a 2bn\n",
      "\n",
      "name : asity ltd.\n",
      "addr : national house holborn viaduct\n",
      "city : london\n",
      "ctry : uk\n",
      "code : ec1a 2bn\n",
      "\n",
      "0/10 positive, 0/10 negative\n",
      "Do these records refer to the same thing?\n",
      "(y)es / (n)o / (u)nsure / (f)inished\n"
     ]
    },
    {
     "name": "stdout",
     "output_type": "stream",
     "text": [
      "starting active labeling...\n",
      "n\n"
     ]
    },
    {
     "name": "stderr",
     "output_type": "stream",
     "text": [
      "name : digital inclusion technology group (iap) limited\n",
      "addr : 30 city road\n",
      "city : london\n",
      "ctry : uk\n",
      "code : ec1y 2ab\n",
      "\n",
      "name : 6 mobile limited\n",
      "addr : 30 city road\n",
      "city : london\n",
      "ctry : uk\n",
      "code : None\n",
      "\n",
      "0/10 positive, 1/10 negative\n",
      "Do these records refer to the same thing?\n",
      "(y)es / (n)o / (u)nsure / (f)inished / (p)revious\n"
     ]
    },
    {
     "name": "stdout",
     "output_type": "stream",
     "text": [
      "n\n"
     ]
    },
    {
     "name": "stderr",
     "output_type": "stream",
     "text": [
      "name : inku consultants limited\n",
      "addr : ground floor 1 bakers row\n",
      "city : london\n",
      "ctry : uk\n",
      "code : ec1r 3db\n",
      "\n",
      "name : archon development uk ltd\n",
      "addr : suite a 6 honduras street\n",
      "city : None\n",
      "ctry : None\n",
      "code : None\n",
      "\n",
      "0/10 positive, 2/10 negative\n",
      "Do these records refer to the same thing?\n",
      "(y)es / (n)o / (u)nsure / (f)inished / (p)revious\n"
     ]
    },
    {
     "name": "stdout",
     "output_type": "stream",
     "text": [
      "n\n"
     ]
    },
    {
     "name": "stderr",
     "output_type": "stream",
     "text": [
      "name : arctree consulting limited\n",
      "addr : ground floor 1 bakers row\n",
      "city : london\n",
      "ctry : uk\n",
      "code : ec1r 3db\n",
      "\n",
      "name : arctous limited\n",
      "addr : kemp house 152 city road\n",
      "city : None\n",
      "ctry : None\n",
      "code : None\n",
      "\n",
      "0/10 positive, 3/10 negative\n",
      "Do these records refer to the same thing?\n",
      "(y)es / (n)o / (u)nsure / (f)inished / (p)revious\n"
     ]
    },
    {
     "name": "stdout",
     "output_type": "stream",
     "text": [
      "n\n"
     ]
    },
    {
     "name": "stderr",
     "output_type": "stream",
     "text": [
      "name : 1 tech ltd\n",
      "addr : 57 charterhouse street\n",
      "city : london\n",
      "ctry : uk\n",
      "code : ec1m 6ha\n",
      "\n",
      "name : 1 tech ltd\n",
      "addr : 57 charterhouse street\n",
      "city : london\n",
      "ctry : united kingdom\n",
      "code : ec1m a\n",
      "\n",
      "0/10 positive, 4/10 negative\n",
      "Do these records refer to the same thing?\n",
      "(y)es / (n)o / (u)nsure / (f)inished / (p)revious\n"
     ]
    },
    {
     "name": "stdout",
     "output_type": "stream",
     "text": [
      "y\n"
     ]
    },
    {
     "name": "stderr",
     "output_type": "stream",
     "text": [
      "name : infodocs limited\n",
      "addr : kemp house 152160 city road\n",
      "city : london\n",
      "ctry : uk\n",
      "code : ec1v 2nx\n",
      "\n",
      "name : atri services ltd\n",
      "addr : kemp house 152\n",
      "city : london\n",
      "ctry : None\n",
      "code : None\n",
      "\n",
      "1/10 positive, 4/10 negative\n",
      "Do these records refer to the same thing?\n",
      "(y)es / (n)o / (u)nsure / (f)inished / (p)revious\n"
     ]
    },
    {
     "name": "stdout",
     "output_type": "stream",
     "text": [
      "n\n"
     ]
    },
    {
     "name": "stderr",
     "output_type": "stream",
     "text": [
      "INFO:dedupe.training:Final predicate set:\n",
      "INFO:dedupe.training:(SimplePredicate: (firstIntegerPredicate, name), TfidfTextSearchPredicate: (0.8, name))\n",
      "name : 1 minus 1 limited\n",
      "addr : molex house the millennium centre crosby way\n",
      "city : farnham|surrey\n",
      "ctry : uk\n",
      "code : gu9 7xx\n",
      "\n",
      "name : amission ltd\n",
      "addr : None\n",
      "city : london\n",
      "ctry : uk\n",
      "code : ec1v 1lj\n",
      "\n",
      "1/10 positive, 5/10 negative\n",
      "Do these records refer to the same thing?\n",
      "(y)es / (n)o / (u)nsure / (f)inished / (p)revious\n"
     ]
    },
    {
     "name": "stdout",
     "output_type": "stream",
     "text": [
      "n\n"
     ]
    },
    {
     "name": "stderr",
     "output_type": "stream",
     "text": [
      "name : 40 50 media ltd\n",
      "addr : 145157 st john street\n",
      "city : london\n",
      "ctry : uk\n",
      "code : ec1v 4pw\n",
      "\n",
      "name : 40 50 media inc\n",
      "addr : 145157 st john street\n",
      "city : london\n",
      "ctry : uk\n",
      "code : ec1v 4pw\n",
      "\n",
      "1/10 positive, 6/10 negative\n",
      "Do these records refer to the same thing?\n",
      "(y)es / (n)o / (u)nsure / (f)inished / (p)revious\n"
     ]
    },
    {
     "name": "stdout",
     "output_type": "stream",
     "text": [
      "y\n"
     ]
    },
    {
     "name": "stderr",
     "output_type": "stream",
     "text": [
      "name : 1 tech ltd\n",
      "addr : 57 charterhouse street\n",
      "city : london\n",
      "ctry : uk\n",
      "code : ec1m 6ha\n",
      "\n",
      "name : 1 tech ltd\n",
      "addr : 5723 charterhouse st\n",
      "city : london\n",
      "ctry : uk\n",
      "code : ec1m 6ha\n",
      "\n",
      "2/10 positive, 6/10 negative\n",
      "Do these records refer to the same thing?\n",
      "(y)es / (n)o / (u)nsure / (f)inished / (p)revious\n"
     ]
    },
    {
     "name": "stdout",
     "output_type": "stream",
     "text": [
      "y\n"
     ]
    },
    {
     "name": "stderr",
     "output_type": "stream",
     "text": [
      "name : argus intelligence limited\n",
      "addr : 152 kemp house city road\n",
      "city : london\n",
      "ctry : uk\n",
      "code : ec1v 2nx\n",
      "\n",
      "name : argus intelligence limited\n",
      "addr : 152 kemp house city road\n",
      "city : london\n",
      "ctry : america\n",
      "code : ec1v 2nx\n",
      "\n",
      "3/10 positive, 6/10 negative\n",
      "Do these records refer to the same thing?\n",
      "(y)es / (n)o / (u)nsure / (f)inished / (p)revious\n"
     ]
    },
    {
     "name": "stdout",
     "output_type": "stream",
     "text": [
      "y\n"
     ]
    },
    {
     "name": "stderr",
     "output_type": "stream",
     "text": [
      "name : 4d data centres limited\n",
      "addr : 30 city road\n",
      "city : london\n",
      "ctry : uk\n",
      "code : ec1 2ab\n",
      "\n",
      "name : data centres limited\n",
      "addr : 30 city road\n",
      "city : london\n",
      "ctry : uk\n",
      "code : ec1 2ab\n",
      "\n",
      "4/10 positive, 6/10 negative\n",
      "Do these records refer to the same thing?\n",
      "(y)es / (n)o / (u)nsure / (f)inished / (p)revious\n"
     ]
    },
    {
     "name": "stdout",
     "output_type": "stream",
     "text": [
      "y\n"
     ]
    },
    {
     "name": "stderr",
     "output_type": "stream",
     "text": [
      "INFO:dedupe.training:Final predicate set:\n",
      "INFO:dedupe.training:(SimplePredicate: (firstIntegerPredicate, name), TfidfTextSearchPredicate: (0.8, name))\n",
      "INFO:dedupe.training:(SimplePredicate: (firstIntegerPredicate, addr), SimplePredicate: (wholeFieldPredicate, name))\n",
      "name : 1 tech ltd\n",
      "addr : 57 charterhouse street\n",
      "city : london\n",
      "ctry : uk\n",
      "code : ec1m 6ha\n",
      "\n",
      "name : 1 tech limited\n",
      "addr : 57 charterhse street\n",
      "city : london\n",
      "ctry : u kingdom\n",
      "code : ec1m 6ha\n",
      "\n",
      "5/10 positive, 6/10 negative\n",
      "Do these records refer to the same thing?\n",
      "(y)es / (n)o / (u)nsure / (f)inished / (p)revious\n"
     ]
    },
    {
     "name": "stdout",
     "output_type": "stream",
     "text": [
      "y\n"
     ]
    },
    {
     "name": "stderr",
     "output_type": "stream",
     "text": [
      "INFO:dedupe.training:Final predicate set:\n",
      "INFO:dedupe.training:(SimplePredicate: (commonThreeTokens, name), SimplePredicate: (sortedAcronym, addr))\n",
      "name : audeza ltd\n",
      "addr : kemp house 152 city road\n",
      "city : london\n",
      "ctry : uk\n",
      "code : ec1v 2nx\n",
      "\n",
      "name : aud eza ltd\n",
      "addr : kemp house 15 2 city road\n",
      "city : lon don\n",
      "ctry : uk\n",
      "code : ec1v 2nx\n",
      "\n",
      "6/10 positive, 6/10 negative\n",
      "Do these records refer to the same thing?\n",
      "(y)es / (n)o / (u)nsure / (f)inished / (p)revious\n"
     ]
    },
    {
     "name": "stdout",
     "output_type": "stream",
     "text": [
      "y\n"
     ]
    },
    {
     "name": "stderr",
     "output_type": "stream",
     "text": [
      "INFO:dedupe.training:Final predicate set:\n",
      "INFO:dedupe.training:(SimplePredicate: (alphaNumericPredicate, name), SimplePredicate: (commonTwoTokens, name))\n",
      "INFO:dedupe.training:(SimplePredicate: (firstIntegerPredicate, addr), TfidfTextSearchPredicate: (0.8, name))\n",
      "name : mar it services ltd\n",
      "addr : kemp house 160 city road\n",
      "city : london\n",
      "ctry : uk\n",
      "code : ec1v 2nx\n",
      "\n",
      "name : atri services ltd\n",
      "addr : kemp house 152\n",
      "city : london\n",
      "ctry : None\n",
      "code : None\n",
      "\n",
      "7/10 positive, 6/10 negative\n",
      "Do these records refer to the same thing?\n",
      "(y)es / (n)o / (u)nsure / (f)inished / (p)revious\n"
     ]
    },
    {
     "name": "stdout",
     "output_type": "stream",
     "text": [
      "y\n"
     ]
    },
    {
     "name": "stderr",
     "output_type": "stream",
     "text": [
      "INFO:dedupe.training:Final predicate set:\n",
      "INFO:dedupe.training:(LevenshteinSearchPredicate: (3, name), SimplePredicate: (twoGramFingerprint, addr))\n",
      "INFO:dedupe.training:(SimplePredicate: (alphaNumericPredicate, name), SimplePredicate: (commonTwoTokens, name))\n",
      "name : adcompass ltd.\n",
      "addr : 68 sycamore street\n",
      "city : london\n",
      "ctry : uk\n",
      "code : ec1y 0sw\n",
      "\n",
      "name : adcompass ltd.\n",
      "addr : 7 sycamore street\n",
      "city : london\n",
      "ctry : uk\n",
      "code : None\n",
      "\n",
      "8/10 positive, 6/10 negative\n",
      "Do these records refer to the same thing?\n",
      "(y)es / (n)o / (u)nsure / (f)inished / (p)revious\n"
     ]
    },
    {
     "name": "stdout",
     "output_type": "stream",
     "text": [
      "y\n"
     ]
    },
    {
     "name": "stderr",
     "output_type": "stream",
     "text": [
      "INFO:dedupe.training:Final predicate set:\n",
      "INFO:dedupe.training:(LevenshteinSearchPredicate: (4, name), SimplePredicate: (firstTokenPredicate, addr))\n",
      "INFO:dedupe.training:(SimplePredicate: (alphaNumericPredicate, name), SimplePredicate: (commonTwoTokens, name))\n",
      "name : maxhill consulting ltd\n",
      "addr : 145157 st john street\n",
      "city : london\n",
      "ctry : uk\n",
      "code : ec1v 4pw\n",
      "\n",
      "name : aaa consult ltd\n",
      "addr : 145157 st. john street\n",
      "city : london\n",
      "ctry : uk\n",
      "code : ec1v 4py\n",
      "\n",
      "9/10 positive, 6/10 negative\n",
      "Do these records refer to the same thing?\n",
      "(y)es / (n)o / (u)nsure / (f)inished / (p)revious\n"
     ]
    },
    {
     "name": "stdout",
     "output_type": "stream",
     "text": [
      "n\n"
     ]
    },
    {
     "name": "stderr",
     "output_type": "stream",
     "text": [
      "INFO:dedupe.training:Final predicate set:\n",
      "INFO:dedupe.training:(LevenshteinSearchPredicate: (4, name), SimplePredicate: (firstTokenPredicate, addr))\n",
      "INFO:dedupe.training:(SimplePredicate: (alphaNumericPredicate, name), SimplePredicate: (commonTwoTokens, name))\n",
      "INFO:dedupe.training:(LevenshteinSearchPredicate: (2, addr), SimplePredicate: (twoGramFingerprint, name))\n",
      "name : 23 snaps limited\n",
      "addr : 16 bowling green lane\n",
      "city : london\n",
      "ctry : uk\n",
      "code : ec1r 0bd\n",
      "\n",
      "name : 23 snapshot limited\n",
      "addr : 16 bowling green lane\n",
      "city : london\n",
      "ctry : uk\n",
      "code : ec1r 0bd\n",
      "\n",
      "9/10 positive, 7/10 negative\n",
      "Do these records refer to the same thing?\n",
      "(y)es / (n)o / (u)nsure / (f)inished / (p)revious\n"
     ]
    },
    {
     "name": "stdout",
     "output_type": "stream",
     "text": [
      "y\n"
     ]
    },
    {
     "name": "stderr",
     "output_type": "stream",
     "text": [
      "name : fenergo uk limited\n",
      "addr : 200 aldersgate\n",
      "city : london\n",
      "ctry : uk\n",
      "code : ec1a 4hd\n",
      "\n",
      "name : 2e2 uk limited\n",
      "addr : 200 aldersgate aldersgate street\n",
      "city : london\n",
      "ctry : uk\n",
      "code : ec1a 4hd\n",
      "\n",
      "10/10 positive, 7/10 negative\n",
      "Do these records refer to the same thing?\n",
      "(y)es / (n)o / (u)nsure / (f)inished / (p)revious\n"
     ]
    },
    {
     "name": "stdout",
     "output_type": "stream",
     "text": [
      "n\n"
     ]
    },
    {
     "name": "stderr",
     "output_type": "stream",
     "text": [
      "INFO:dedupe.training:Final predicate set:\n",
      "INFO:dedupe.training:(LevenshteinSearchPredicate: (4, name), SimplePredicate: (firstTokenPredicate, addr))\n",
      "INFO:dedupe.training:(SimplePredicate: (firstIntegerPredicate, name), SimplePredicate: (sameSevenCharStartPredicate, addr))\n",
      "INFO:dedupe.training:(SimplePredicate: (tokenFieldPredicate, ctry), SimplePredicate: (twoGramFingerprint, name))\n",
      "name : 1 mobile limited\n",
      "addr : 30 city road\n",
      "city : london\n",
      "ctry : uk\n",
      "code : ec1y 2ab\n",
      "\n",
      "name : 1 mob lim\n",
      "addr : 30 cty road\n",
      "city : london\n",
      "ctry : None\n",
      "code : ec1y 2ab\n",
      "\n",
      "10/10 positive, 8/10 negative\n",
      "Do these records refer to the same thing?\n",
      "(y)es / (n)o / (u)nsure / (f)inished / (p)revious\n"
     ]
    },
    {
     "name": "stdout",
     "output_type": "stream",
     "text": [
      "y\n"
     ]
    },
    {
     "name": "stderr",
     "output_type": "stream",
     "text": [
      "name : 2e2 uk limited\n",
      "addr : 200 aldersgate aldersgate street\n",
      "city : london\n",
      "ctry : uk\n",
      "code : ec1a 4hd\n",
      "\n",
      "name : 2e2 services limited\n",
      "addr : 200 aldersgate aldersgate street\n",
      "city : london\n",
      "ctry : None\n",
      "code : ec1a 4hd\n",
      "\n",
      "11/10 positive, 8/10 negative\n",
      "Do these records refer to the same thing?\n",
      "(y)es / (n)o / (u)nsure / (f)inished / (p)revious\n"
     ]
    },
    {
     "name": "stdout",
     "output_type": "stream",
     "text": [
      "y\n"
     ]
    },
    {
     "name": "stderr",
     "output_type": "stream",
     "text": [
      "INFO:dedupe.training:Final predicate set:\n",
      "INFO:dedupe.training:(LevenshteinSearchPredicate: (4, name), SimplePredicate: (firstTokenPredicate, addr))\n",
      "INFO:dedupe.training:(SimplePredicate: (alphaNumericPredicate, name), SimplePredicate: (sameThreeCharStartPredicate, addr))\n",
      "INFO:dedupe.training:(SimplePredicate: (tokenFieldPredicate, ctry), SimplePredicate: (twoGramFingerprint, name))\n",
      "name : 4getmobile limited\n",
      "addr : 152 kemp house city road\n",
      "city : london\n",
      "ctry : uk\n",
      "code : ec1v 2nx\n",
      "\n",
      "name : 4 get mobile lim\n",
      "addr : 152 kemp house city road\n",
      "city : london\n",
      "ctry : uk\n",
      "code : ec1v 2nx\n",
      "\n",
      "12/10 positive, 8/10 negative\n",
      "Do these records refer to the same thing?\n",
      "(y)es / (n)o / (u)nsure / (f)inished / (p)revious\n"
     ]
    },
    {
     "name": "stdout",
     "output_type": "stream",
     "text": [
      "y\n"
     ]
    },
    {
     "name": "stderr",
     "output_type": "stream",
     "text": [
      "name : after the flood limited\n",
      "addr : 140142 st. john street\n",
      "city : london\n",
      "ctry : uk\n",
      "code : ec1v 4ub\n",
      "\n",
      "name : after flood limited\n",
      "addr : 141 st. john st.\n",
      "city : london\n",
      "ctry : uk\n",
      "code : ec1v 4ub\n",
      "\n",
      "13/10 positive, 8/10 negative\n",
      "Do these records refer to the same thing?\n",
      "(y)es / (n)o / (u)nsure / (f)inished / (p)revious\n"
     ]
    },
    {
     "name": "stdout",
     "output_type": "stream",
     "text": [
      "y\n"
     ]
    },
    {
     "name": "stderr",
     "output_type": "stream",
     "text": [
      "INFO:dedupe.training:Final predicate set:\n",
      "INFO:dedupe.training:(SimplePredicate: (firstIntegerPredicate, name), SimplePredicate: (sameThreeCharStartPredicate, addr))\n",
      "INFO:dedupe.training:(LevenshteinSearchPredicate: (4, name), SimplePredicate: (firstTokenPredicate, addr))\n",
      "INFO:dedupe.training:(SimplePredicate: (tokenFieldPredicate, ctry), SimplePredicate: (twoGramFingerprint, name))\n",
      "name : asity ltd\n",
      "addr : international house holborn viaduct\n",
      "city : london\n",
      "ctry : uk\n",
      "code : ec1a 2bn\n",
      "\n",
      "name : assert media solutios ltd\n",
      "addr : international house holborn viaduct\n",
      "city : london\n",
      "ctry : uk\n",
      "code : ec1a 2bn\n",
      "\n",
      "14/10 positive, 8/10 negative\n",
      "Do these records refer to the same thing?\n",
      "(y)es / (n)o / (u)nsure / (f)inished / (p)revious\n"
     ]
    },
    {
     "name": "stdout",
     "output_type": "stream",
     "text": [
      "n\n"
     ]
    },
    {
     "name": "stderr",
     "output_type": "stream",
     "text": [
      "INFO:dedupe.training:Final predicate set:\n",
      "INFO:dedupe.training:(LevenshteinSearchPredicate: (4, name), SimplePredicate: (commonTwoTokens, addr))\n",
      "INFO:dedupe.training:(SimplePredicate: (commonTwoTokens, code), SimplePredicate: (firstIntegerPredicate, name))\n",
      "name : unyfy consulting limited\n",
      "addr : c o golder baqa ground floor 1 bakers row\n",
      "city : london\n",
      "ctry : uk\n",
      "code : ec1r 3db\n",
      "\n",
      "name : 4 consulting limited\n",
      "addr : 4 snow\n",
      "city : london\n",
      "ctry : uk\n",
      "code : None\n",
      "\n",
      "14/10 positive, 9/10 negative\n",
      "Do these records refer to the same thing?\n",
      "(y)es / (n)o / (u)nsure / (f)inished / (p)revious\n"
     ]
    },
    {
     "name": "stdout",
     "output_type": "stream",
     "text": [
      "n\n"
     ]
    },
    {
     "name": "stderr",
     "output_type": "stream",
     "text": [
      "name : dc intelligence limited\n",
      "addr : kemp house 160 city road\n",
      "city : london\n",
      "ctry : uk\n",
      "code : ec1v 2nx\n",
      "\n",
      "name : argus intelligence limited\n",
      "addr : 152 kemp house city road\n",
      "city : london\n",
      "ctry : america\n",
      "code : ec1v 2nx\n",
      "\n",
      "14/10 positive, 10/10 negative\n",
      "Do these records refer to the same thing?\n",
      "(y)es / (n)o / (u)nsure / (f)inished / (p)revious\n"
     ]
    },
    {
     "name": "stdout",
     "output_type": "stream",
     "text": [
      "n\n"
     ]
    },
    {
     "name": "stderr",
     "output_type": "stream",
     "text": [
      "name : 4d data centres limited\n",
      "addr : 30 city road\n",
      "city : london\n",
      "ctry : uk\n",
      "code : ec1 2ab\n",
      "\n",
      "name : data centres limited\n",
      "addr : None\n",
      "city : london\n",
      "ctry : uk\n",
      "code : ec1 2ab\n",
      "\n",
      "14/10 positive, 11/10 negative\n",
      "Do these records refer to the same thing?\n",
      "(y)es / (n)o / (u)nsure / (f)inished / (p)revious\n"
     ]
    },
    {
     "name": "stdout",
     "output_type": "stream",
     "text": [
      "y\n"
     ]
    },
    {
     "name": "stderr",
     "output_type": "stream",
     "text": [
      "name : better web solutions limited\n",
      "addr : kemp house 160 city road\n",
      "city : london\n",
      "ctry : uk\n",
      "code : ec1v 2nx\n",
      "\n",
      "name : a tech solutions limited\n",
      "addr : kemp house 152160 city road\n",
      "city : london\n",
      "ctry : uk\n",
      "code : ec1v 2nx\n",
      "\n",
      "15/10 positive, 11/10 negative\n",
      "Do these records refer to the same thing?\n",
      "(y)es / (n)o / (u)nsure / (f)inished / (p)revious\n"
     ]
    },
    {
     "name": "stdout",
     "output_type": "stream",
     "text": [
      "n\n"
     ]
    },
    {
     "name": "stderr",
     "output_type": "stream",
     "text": [
      "INFO:dedupe.training:Final predicate set:\n",
      "INFO:dedupe.training:(LevenshteinSearchPredicate: (4, name), TfidfNGramSearchPredicate: (0.6, name))\n",
      "INFO:dedupe.training:(SimplePredicate: (firstIntegerPredicate, name), SimplePredicate: (sameThreeCharStartPredicate, addr))\n",
      "name : csvconsult ltd\n",
      "addr : kemp house 160 city road\n",
      "city : london\n",
      "ctry : uk\n",
      "code : ec1v 2nx\n",
      "\n",
      "name : a consult ltd\n",
      "addr : 2nd floor 145157 saint john st\n",
      "city : london\n",
      "ctry : uk\n",
      "code : ec1v 4py\n",
      "\n",
      "15/10 positive, 12/10 negative\n",
      "Do these records refer to the same thing?\n",
      "(y)es / (n)o / (u)nsure / (f)inished / (p)revious\n"
     ]
    },
    {
     "name": "stdout",
     "output_type": "stream",
     "text": [
      "n\n"
     ]
    },
    {
     "name": "stderr",
     "output_type": "stream",
     "text": [
      "name : 1 mobile limited\n",
      "addr : 30 city road\n",
      "city : london\n",
      "ctry : uk\n",
      "code : ec1y 2ab\n",
      "\n",
      "name : 6 mobile limited\n",
      "addr : 30 city road\n",
      "city : london\n",
      "ctry : uk\n",
      "code : None\n",
      "\n",
      "15/10 positive, 13/10 negative\n",
      "Do these records refer to the same thing?\n",
      "(y)es / (n)o / (u)nsure / (f)inished / (p)revious\n"
     ]
    },
    {
     "name": "stdout",
     "output_type": "stream",
     "text": [
      "y\n"
     ]
    },
    {
     "name": "stderr",
     "output_type": "stream",
     "text": [
      "name : real datacentres (emea) limited\n",
      "addr : kemp house 160 city road\n",
      "city : london\n",
      "ctry : uk\n",
      "code : ec1v 2nx\n",
      "\n",
      "name : data centres limited\n",
      "addr : None\n",
      "city : london\n",
      "ctry : uk\n",
      "code : ec1 2ab\n",
      "\n",
      "16/10 positive, 13/10 negative\n",
      "Do these records refer to the same thing?\n",
      "(y)es / (n)o / (u)nsure / (f)inished / (p)revious\n"
     ]
    },
    {
     "name": "stdout",
     "output_type": "stream",
     "text": [
      "n\n"
     ]
    },
    {
     "name": "stderr",
     "output_type": "stream",
     "text": [
      "INFO:dedupe.training:Final predicate set:\n",
      "INFO:dedupe.training:(LevenshteinSearchPredicate: (4, name), TfidfNGramSearchPredicate: (0.6, name))\n",
      "INFO:dedupe.training:(SimplePredicate: (firstTokenPredicate, addr), SimplePredicate: (hundredIntegerPredicate, name))\n",
      "name : adform london limited\n",
      "addr : gate house 1 st johns square\n",
      "city : london\n",
      "ctry : uk\n",
      "code : ec1m 4dh\n",
      "\n",
      "name : adfor london ltd\n",
      "addr : gate hous 2 st john square\n",
      "city : london\n",
      "ctry : uk\n",
      "code : ec1m 4dh\n",
      "\n",
      "16/10 positive, 14/10 negative\n",
      "Do these records refer to the same thing?\n",
      "(y)es / (n)o / (u)nsure / (f)inished / (p)revious\n"
     ]
    },
    {
     "name": "stdout",
     "output_type": "stream",
     "text": [
      "y\n"
     ]
    },
    {
     "name": "stderr",
     "output_type": "stream",
     "text": [
      "name : rank1 (south) limited\n",
      "addr : 30 city road\n",
      "city : london\n",
      "ctry : uk\n",
      "code : ec1y 2ab\n",
      "\n",
      "name : 1 mobile limited\n",
      "addr : 30 city road\n",
      "city : london\n",
      "ctry : uk\n",
      "code : ec1y 2ab\n",
      "\n",
      "17/10 positive, 14/10 negative\n",
      "Do these records refer to the same thing?\n",
      "(y)es / (n)o / (u)nsure / (f)inished / (p)revious\n"
     ]
    },
    {
     "name": "stdout",
     "output_type": "stream",
     "text": [
      "n\n"
     ]
    },
    {
     "name": "stderr",
     "output_type": "stream",
     "text": [
      "INFO:dedupe.training:Final predicate set:\n",
      "INFO:dedupe.training:(SimplePredicate: (firstTokenPredicate, addr), SimplePredicate: (hundredIntegerPredicate, name))\n",
      "INFO:dedupe.training:(LevenshteinSearchPredicate: (4, name), SimplePredicate: (firstTokenPredicate, addr))\n",
      "INFO:dedupe.training:(SimplePredicate: (sameFiveCharStartPredicate, name), TfidfTextSearchPredicate: (0.4, addr))\n",
      "INFO:dedupe.training:(SimplePredicate: (commonThreeTokens, name), SimplePredicate: (tokenFieldPredicate, ctry))\n",
      "name : 4d data centres limited\n",
      "addr : 30 city road\n",
      "city : london\n",
      "ctry : uk\n",
      "code : ec1 2ab\n",
      "\n",
      "name : 1 mob lim\n",
      "addr : 30 cty road\n",
      "city : london\n",
      "ctry : None\n",
      "code : ec1y 2ab\n",
      "\n",
      "17/10 positive, 15/10 negative\n",
      "Do these records refer to the same thing?\n",
      "(y)es / (n)o / (u)nsure / (f)inished / (p)revious\n"
     ]
    },
    {
     "name": "stdout",
     "output_type": "stream",
     "text": [
      "n\n"
     ]
    },
    {
     "name": "stderr",
     "output_type": "stream",
     "text": [
      "name : acturis limited\n",
      "addr : courtyard suite 100 hatton garden\n",
      "city : london\n",
      "ctry : uk\n",
      "code : ec1n 8nx\n",
      "\n",
      "name : acturis corp.\n",
      "addr : courtyard suite 100 hatton garden\n",
      "city : london\n",
      "ctry : uk\n",
      "code : ec1n 8nx\n",
      "\n",
      "17/10 positive, 16/10 negative\n",
      "Do these records refer to the same thing?\n",
      "(y)es / (n)o / (u)nsure / (f)inished / (p)revious\n"
     ]
    },
    {
     "name": "stdout",
     "output_type": "stream",
     "text": [
      "y\n"
     ]
    },
    {
     "name": "stderr",
     "output_type": "stream",
     "text": [
      "name : asity ltd\n",
      "addr : international house holborn viaduct\n",
      "city : london\n",
      "ctry : uk\n",
      "code : ec1a 2bn\n",
      "\n",
      "name : asity ltd.\n",
      "addr : national house holborn viaduct\n",
      "city : london\n",
      "ctry : uk\n",
      "code : ec1a 2bn\n",
      "\n",
      "18/10 positive, 16/10 negative\n",
      "Do these records refer to the same thing?\n",
      "(y)es / (n)o / (u)nsure / (f)inished / (p)revious\n"
     ]
    },
    {
     "name": "stdout",
     "output_type": "stream",
     "text": [
      "y\n"
     ]
    },
    {
     "name": "stderr",
     "output_type": "stream",
     "text": [
      "name : absu limited\n",
      "addr : third floor 111 charterhouse street\n",
      "city : london\n",
      "ctry : uk\n",
      "code : ec1m 6aw\n",
      "\n",
      "name : absu ltd.\n",
      "addr : 111 charterhouse street\n",
      "city : london\n",
      "ctry : uk\n",
      "code : ec1m 6aw\n",
      "\n",
      "19/10 positive, 16/10 negative\n",
      "Do these records refer to the same thing?\n",
      "(y)es / (n)o / (u)nsure / (f)inished / (p)revious\n"
     ]
    },
    {
     "name": "stdout",
     "output_type": "stream",
     "text": [
      "y\n"
     ]
    },
    {
     "name": "stderr",
     "output_type": "stream",
     "text": [
      "INFO:dedupe.training:Final predicate set:\n",
      "INFO:dedupe.training:(LevenshteinSearchPredicate: (4, name), SimplePredicate: (commonTwoTokens, name))\n",
      "INFO:dedupe.training:(SimplePredicate: (firstTokenPredicate, addr), SimplePredicate: (hundredIntegerPredicate, name))\n",
      "INFO:dedupe.training:(SimplePredicate: (firstTokenPredicate, addr), SimplePredicate: (sameFiveCharStartPredicate, name))\n",
      "name : baby beauty group ltd.\n",
      "addr : kemp house 160 city road\n",
      "city : london\n",
      "ctry : uk\n",
      "code : ec1v 2nx\n",
      "\n",
      "name : baby beaut grp limited\n",
      "addr : kemp house 160 city road\n",
      "city : london\n",
      "ctry : uk\n",
      "code : ec1v 2nx\n",
      "\n",
      "20/10 positive, 16/10 negative\n",
      "Do these records refer to the same thing?\n",
      "(y)es / (n)o / (u)nsure / (f)inished / (p)revious\n"
     ]
    },
    {
     "name": "stdout",
     "output_type": "stream",
     "text": [
      "y\n"
     ]
    },
    {
     "name": "stderr",
     "output_type": "stream",
     "text": [
      "INFO:dedupe.training:Final predicate set:\n",
      "INFO:dedupe.training:(SimplePredicate: (alphaNumericPredicate, addr), SimplePredicate: (sameFiveCharStartPredicate, name))\n",
      "INFO:dedupe.training:(LevenshteinSearchPredicate: (4, name), SimplePredicate: (commonTwoTokens, name))\n",
      "INFO:dedupe.training:(SimplePredicate: (firstTokenPredicate, addr), SimplePredicate: (hundredIntegerPredicate, name))\n",
      "name : alchera technologies limited\n",
      "addr : international house 24 holborn viaduct city of london\n",
      "city : london\n",
      "ctry : uk\n",
      "code : ec1a 2bn\n",
      "\n",
      "name : alchera tech limited\n",
      "addr : 24 holborn viaduct\n",
      "city : london\n",
      "ctry : uk\n",
      "code : ec1a 2bn\n",
      "\n",
      "21/10 positive, 16/10 negative\n",
      "Do these records refer to the same thing?\n",
      "(y)es / (n)o / (u)nsure / (f)inished / (p)revious\n"
     ]
    },
    {
     "name": "stdout",
     "output_type": "stream",
     "text": [
      "y\n"
     ]
    },
    {
     "name": "stderr",
     "output_type": "stream",
     "text": [
      "name : artaneon ltd\n",
      "addr : artaneon ltd unit 36 8890 hatton garden\n",
      "city : london\n",
      "ctry : uk\n",
      "code : ec1n 8pg\n",
      "\n",
      "name : artaneon limited\n",
      "addr : 98 hatton garden\n",
      "city : london\n",
      "ctry : uk\n",
      "code : ec1n 8pg\n",
      "\n",
      "22/10 positive, 16/10 negative\n",
      "Do these records refer to the same thing?\n",
      "(y)es / (n)o / (u)nsure / (f)inished / (p)revious\n"
     ]
    },
    {
     "name": "stdout",
     "output_type": "stream",
     "text": [
      "y\n"
     ]
    },
    {
     "name": "stderr",
     "output_type": "stream",
     "text": [
      "name : digital inclusion technology group (iap) limited\n",
      "addr : 30 city road\n",
      "city : london\n",
      "ctry : uk\n",
      "code : ec1y 2ab\n",
      "\n",
      "name : 1 mob lim\n",
      "addr : 30 cty road\n",
      "city : london\n",
      "ctry : None\n",
      "code : ec1y 2ab\n",
      "\n",
      "23/10 positive, 16/10 negative\n",
      "Do these records refer to the same thing?\n",
      "(y)es / (n)o / (u)nsure / (f)inished / (p)revious\n"
     ]
    },
    {
     "name": "stdout",
     "output_type": "stream",
     "text": [
      "n\n"
     ]
    },
    {
     "name": "stderr",
     "output_type": "stream",
     "text": [
      "INFO:dedupe.training:Final predicate set:\n",
      "INFO:dedupe.training:(SimplePredicate: (sameFiveCharStartPredicate, name), SimplePredicate: (tokenFieldPredicate, ctry))\n",
      "INFO:dedupe.training:(SimplePredicate: (firstTokenPredicate, addr), SimplePredicate: (hundredIntegerPredicate, name))\n",
      "INFO:dedupe.training:(LevenshteinSearchPredicate: (4, name), SimplePredicate: (alphaNumericPredicate, addr))\n",
      "INFO:dedupe.training:(SimplePredicate: (commonThreeTokens, name), SimplePredicate: (tokenFieldPredicate, ctry))\n",
      "name : universal research & consulting limited\n",
      "addr : 145157 st. john street\n",
      "city : london\n",
      "ctry : uk\n",
      "code : ec1v 4pw\n",
      "\n",
      "name : almara ltd\n",
      "addr : 145157 st john street\n",
      "city : london\n",
      "ctry : uk\n",
      "code : ec1v 4pw\n",
      "\n",
      "23/10 positive, 17/10 negative\n",
      "Do these records refer to the same thing?\n",
      "(y)es / (n)o / (u)nsure / (f)inished / (p)revious\n"
     ]
    },
    {
     "name": "stdout",
     "output_type": "stream",
     "text": [
      "n\n"
     ]
    },
    {
     "name": "stderr",
     "output_type": "stream",
     "text": [
      "name : business centric services group limited\n",
      "addr : 130 old street\n",
      "city : london\n",
      "ctry : uk\n",
      "code : ec1v 9bd\n",
      "\n",
      "name : bcsg ltd\n",
      "addr : 130 old street\n",
      "city : london\n",
      "ctry : uk\n",
      "code : ec1v 9bd\n",
      "\n",
      "23/10 positive, 18/10 negative\n",
      "Do these records refer to the same thing?\n",
      "(y)es / (n)o / (u)nsure / (f)inished / (p)revious\n"
     ]
    },
    {
     "name": "stdout",
     "output_type": "stream",
     "text": [
      "n\n"
     ]
    },
    {
     "name": "stderr",
     "output_type": "stream",
     "text": [
      "name : alchemyworks ltd\n",
      "addr : kemp house 160 city road\n",
      "city : london\n",
      "ctry : uk\n",
      "code : ec1v 2nx\n",
      "\n",
      "name : alchera tech limited\n",
      "addr : 24 holborn viaduct\n",
      "city : london\n",
      "ctry : uk\n",
      "code : ec1a 2bn\n",
      "\n",
      "23/10 positive, 19/10 negative\n",
      "Do these records refer to the same thing?\n",
      "(y)es / (n)o / (u)nsure / (f)inished / (p)revious\n"
     ]
    },
    {
     "name": "stdout",
     "output_type": "stream",
     "text": [
      "p\n"
     ]
    },
    {
     "name": "stderr",
     "output_type": "stream",
     "text": [
      "name : business centric services group limited\n",
      "addr : 130 old street\n",
      "city : london\n",
      "ctry : uk\n",
      "code : ec1v 9bd\n",
      "\n",
      "name : bcsg ltd\n",
      "addr : 130 old street\n",
      "city : london\n",
      "ctry : uk\n",
      "code : ec1v 9bd\n",
      "\n",
      "23/10 positive, 18/10 negative\n",
      "Do these records refer to the same thing?\n",
      "(y)es / (n)o / (u)nsure / (f)inished\n"
     ]
    },
    {
     "name": "stdout",
     "output_type": "stream",
     "text": [
      "y\n"
     ]
    },
    {
     "name": "stderr",
     "output_type": "stream",
     "text": [
      "name : alchemyworks ltd\n",
      "addr : kemp house 160 city road\n",
      "city : london\n",
      "ctry : uk\n",
      "code : ec1v 2nx\n",
      "\n",
      "name : alchera tech limited\n",
      "addr : 24 holborn viaduct\n",
      "city : london\n",
      "ctry : uk\n",
      "code : ec1a 2bn\n",
      "\n",
      "24/10 positive, 18/10 negative\n",
      "Do these records refer to the same thing?\n",
      "(y)es / (n)o / (u)nsure / (f)inished / (p)revious\n"
     ]
    },
    {
     "name": "stdout",
     "output_type": "stream",
     "text": [
      "n\n"
     ]
    },
    {
     "name": "stderr",
     "output_type": "stream",
     "text": [
      "INFO:dedupe.training:Final predicate set:\n",
      "INFO:dedupe.training:(SimplePredicate: (sameFiveCharStartPredicate, name), SimplePredicate: (tokenFieldPredicate, ctry))\n",
      "INFO:dedupe.training:(SimplePredicate: (commonTwoTokens, code), SimplePredicate: (firstIntegerPredicate, addr))\n",
      "INFO:dedupe.training:(SimplePredicate: (hundredIntegerPredicate, name), SimplePredicate: (wholeFieldPredicate, addr))\n",
      "INFO:dedupe.training:(SimplePredicate: (commonThreeTokens, name), SimplePredicate: (tokenFieldPredicate, ctry))\n",
      "INFO:dedupe.training:(LevenshteinSearchPredicate: (4, name), SimplePredicate: (alphaNumericPredicate, addr))\n",
      "name : glopay limited\n",
      "addr : 145157 st john street\n",
      "city : london\n",
      "ctry : uk\n",
      "code : ec1v 4pw\n",
      "\n",
      "name : almara ltd\n",
      "addr : 145157 st john street\n",
      "city : london\n",
      "ctry : uk\n",
      "code : ec1v 4pw\n",
      "\n",
      "24/10 positive, 19/10 negative\n",
      "Do these records refer to the same thing?\n",
      "(y)es / (n)o / (u)nsure / (f)inished / (p)revious\n"
     ]
    },
    {
     "name": "stdout",
     "output_type": "stream",
     "text": [
      "n\n"
     ]
    },
    {
     "name": "stderr",
     "output_type": "stream",
     "text": [
      "name : oricle designs ltd\n",
      "addr : 24 holborn viaduct\n",
      "city : london\n",
      "ctry : uk\n",
      "code : ec1a 2bn\n",
      "\n",
      "name : areza limited\n",
      "addr : 24 holborn viaduct\n",
      "city : london\n",
      "ctry : usa\n",
      "code : ec1a 2bn\n",
      "\n",
      "24/10 positive, 20/10 negative\n",
      "Do these records refer to the same thing?\n",
      "(y)es / (n)o / (u)nsure / (f)inished / (p)revious\n"
     ]
    },
    {
     "name": "stdout",
     "output_type": "stream",
     "text": [
      "n\n"
     ]
    },
    {
     "name": "stderr",
     "output_type": "stream",
     "text": [
      "name : riverside computing solutions ltd\n",
      "addr : 145157 st john street\n",
      "city : london\n",
      "ctry : uk\n",
      "code : ec1v 4pw\n",
      "\n",
      "name : 40 50 media inc\n",
      "addr : 145157 st john street\n",
      "city : london\n",
      "ctry : uk\n",
      "code : ec1v 4pw\n",
      "\n",
      "24/10 positive, 21/10 negative\n",
      "Do these records refer to the same thing?\n",
      "(y)es / (n)o / (u)nsure / (f)inished / (p)revious\n"
     ]
    },
    {
     "name": "stdout",
     "output_type": "stream",
     "text": [
      "n\n"
     ]
    },
    {
     "name": "stderr",
     "output_type": "stream",
     "text": [
      "name : fenergo uk limited\n",
      "addr : 200 aldersgate\n",
      "city : london\n",
      "ctry : uk\n",
      "code : ec1a 4hd\n",
      "\n",
      "name : 2e2 limited\n",
      "addr : 200 200 aldersgate aldersgate street\n",
      "city : london\n",
      "ctry : uk\n",
      "code : ec1a 4hd\n",
      "\n",
      "24/10 positive, 22/10 negative\n",
      "Do these records refer to the same thing?\n",
      "(y)es / (n)o / (u)nsure / (f)inished / (p)revious\n"
     ]
    },
    {
     "name": "stdout",
     "output_type": "stream",
     "text": [
      "n\n"
     ]
    },
    {
     "name": "stderr",
     "output_type": "stream",
     "text": [
      "name : universal research & consulting limited\n",
      "addr : 145157 st. john street\n",
      "city : london\n",
      "ctry : uk\n",
      "code : ec1v 4pw\n",
      "\n",
      "name : 40 50 media inc\n",
      "addr : 145157 st john street\n",
      "city : london\n",
      "ctry : uk\n",
      "code : ec1v 4pw\n",
      "\n",
      "24/10 positive, 23/10 negative\n",
      "Do these records refer to the same thing?\n",
      "(y)es / (n)o / (u)nsure / (f)inished / (p)revious\n"
     ]
    },
    {
     "name": "stdout",
     "output_type": "stream",
     "text": [
      "n\n"
     ]
    },
    {
     "name": "stderr",
     "output_type": "stream",
     "text": [
      "name : china great fire wall network limited\n",
      "addr : 160 kemp house city road\n",
      "city : london\n",
      "ctry : uk\n",
      "code : ec1v 2nx\n",
      "\n",
      "name : agoc digi prvt limited\n",
      "addr : 160 city road\n",
      "city : london\n",
      "ctry : uk\n",
      "code : ec1v 2nx\n",
      "\n",
      "24/10 positive, 24/10 negative\n",
      "Do these records refer to the same thing?\n",
      "(y)es / (n)o / (u)nsure / (f)inished / (p)revious\n"
     ]
    },
    {
     "name": "stdout",
     "output_type": "stream",
     "text": [
      "n\n"
     ]
    },
    {
     "name": "stderr",
     "output_type": "stream",
     "text": [
      "name : studiof creative ltd\n",
      "addr : 1 charterhouse mews\n",
      "city : london\n",
      "ctry : uk\n",
      "code : ec1m 6bb\n",
      "\n",
      "name : bedbug studio ltd\n",
      "addr : 1 charterhouse mews\n",
      "city : london\n",
      "ctry : uk\n",
      "code : ec1m 6bb\n",
      "\n",
      "24/10 positive, 25/10 negative\n",
      "Do these records refer to the same thing?\n",
      "(y)es / (n)o / (u)nsure / (f)inished / (p)revious\n"
     ]
    },
    {
     "name": "stdout",
     "output_type": "stream",
     "text": [
      "n\n"
     ]
    },
    {
     "name": "stderr",
     "output_type": "stream",
     "text": [
      "name : decode digital ltd\n",
      "addr : 145157 st. john street\n",
      "city : london\n",
      "ctry : uk\n",
      "code : ec1v 4pw\n",
      "\n",
      "name : almara ltd\n",
      "addr : 145157 st john street\n",
      "city : london\n",
      "ctry : uk\n",
      "code : ec1v 4pw\n",
      "\n",
      "24/10 positive, 26/10 negative\n",
      "Do these records refer to the same thing?\n",
      "(y)es / (n)o / (u)nsure / (f)inished / (p)revious\n"
     ]
    },
    {
     "name": "stdout",
     "output_type": "stream",
     "text": [
      "n\n"
     ]
    },
    {
     "name": "stderr",
     "output_type": "stream",
     "text": [
      "name : mcleod enterprises ltd\n",
      "addr : 145157 st. john street\n",
      "city : london\n",
      "ctry : uk\n",
      "code : ec1v 4pw\n",
      "\n",
      "name : almara ltd\n",
      "addr : 145157 st john street\n",
      "city : london\n",
      "ctry : uk\n",
      "code : ec1v 4pw\n",
      "\n",
      "24/10 positive, 27/10 negative\n",
      "Do these records refer to the same thing?\n",
      "(y)es / (n)o / (u)nsure / (f)inished / (p)revious\n"
     ]
    },
    {
     "name": "stdout",
     "output_type": "stream",
     "text": [
      "n\n"
     ]
    },
    {
     "name": "stderr",
     "output_type": "stream",
     "text": [
      "name : nk it solutions limited\n",
      "addr : 145157 st. john street\n",
      "city : london\n",
      "ctry : uk\n",
      "code : ec1v 4pw\n",
      "\n",
      "name : almara ltd\n",
      "addr : 145157 st john street\n",
      "city : london\n",
      "ctry : uk\n",
      "code : ec1v 4pw\n",
      "\n",
      "24/10 positive, 28/10 negative\n",
      "Do these records refer to the same thing?\n",
      "(y)es / (n)o / (u)nsure / (f)inished / (p)revious\n"
     ]
    },
    {
     "name": "stdout",
     "output_type": "stream",
     "text": [
      "n\n"
     ]
    },
    {
     "name": "stderr",
     "output_type": "stream",
     "text": [
      "name : bradlink ltd\n",
      "addr : 145157 st. john street\n",
      "city : london|england\n",
      "ctry : uk\n",
      "code : ec1v 4pw\n",
      "\n",
      "name : almara ltd\n",
      "addr : 145157 st john street\n",
      "city : london\n",
      "ctry : uk\n",
      "code : ec1v 4pw\n",
      "\n",
      "24/10 positive, 29/10 negative\n",
      "Do these records refer to the same thing?\n",
      "(y)es / (n)o / (u)nsure / (f)inished / (p)revious\n"
     ]
    },
    {
     "name": "stdout",
     "output_type": "stream",
     "text": [
      "n\n"
     ]
    },
    {
     "name": "stderr",
     "output_type": "stream",
     "text": [
      "name : vce solutions limited\n",
      "addr : bentima house 4th floor 168172 old street\n",
      "city : london\n",
      "ctry : uk\n",
      "code : ec1v 9bp\n",
      "\n",
      "name : agm solutions limited\n",
      "addr : 152 kemp house cty rd\n",
      "city : londn\n",
      "ctry : uk\n",
      "code : ec1v\n",
      "\n",
      "24/10 positive, 30/10 negative\n",
      "Do these records refer to the same thing?\n",
      "(y)es / (n)o / (u)nsure / (f)inished / (p)revious\n"
     ]
    },
    {
     "name": "stdout",
     "output_type": "stream",
     "text": [
      "n\n"
     ]
    },
    {
     "name": "stderr",
     "output_type": "stream",
     "text": [
      "name : lemon yeti media ltd\n",
      "addr : 145157 st john street\n",
      "city : london\n",
      "ctry : uk\n",
      "code : ec1v 4pw\n",
      "\n",
      "name : 40 50 media inc\n",
      "addr : 145157 st john street\n",
      "city : london\n",
      "ctry : uk\n",
      "code : ec1v 4pw\n",
      "\n",
      "24/10 positive, 31/10 negative\n",
      "Do these records refer to the same thing?\n",
      "(y)es / (n)o / (u)nsure / (f)inished / (p)revious\n"
     ]
    },
    {
     "name": "stdout",
     "output_type": "stream",
     "text": [
      "n\n"
     ]
    },
    {
     "name": "stderr",
     "output_type": "stream",
     "text": [
      "name : meganetwork ltd\n",
      "addr : 145157 st john street\n",
      "city : london\n",
      "ctry : uk\n",
      "code : ec1v 4pw\n",
      "\n",
      "name : 40 50 media inc\n",
      "addr : 145157 st john street\n",
      "city : london\n",
      "ctry : uk\n",
      "code : ec1v 4pw\n",
      "\n",
      "24/10 positive, 32/10 negative\n",
      "Do these records refer to the same thing?\n",
      "(y)es / (n)o / (u)nsure / (f)inished / (p)revious\n"
     ]
    },
    {
     "name": "stdout",
     "output_type": "stream",
     "text": [
      "n\n"
     ]
    },
    {
     "name": "stderr",
     "output_type": "stream",
     "text": [
      "name : streamess limited\n",
      "addr : 160 city road kemp house\n",
      "city : london\n",
      "ctry : uk\n",
      "code : ec1v 2nx\n",
      "\n",
      "name : agoc digi prvt limited\n",
      "addr : 160 city road\n",
      "city : london\n",
      "ctry : uk\n",
      "code : ec1v 2nx\n",
      "\n",
      "24/10 positive, 33/10 negative\n",
      "Do these records refer to the same thing?\n",
      "(y)es / (n)o / (u)nsure / (f)inished / (p)revious\n"
     ]
    },
    {
     "name": "stdout",
     "output_type": "stream",
     "text": [
      "n\n"
     ]
    },
    {
     "name": "stderr",
     "output_type": "stream",
     "text": [
      "name : agile alliance limited\n",
      "addr : 24 international house holborn viaduct\n",
      "city : london\n",
      "ctry : uk\n",
      "code : ec1a 2bn\n",
      "\n",
      "name : agile methods alliance ltd\n",
      "addr : 24 international house holborn viaduct\n",
      "city : london\n",
      "ctry : uk\n",
      "code : ec1a 2bn\n",
      "\n",
      "24/10 positive, 34/10 negative\n",
      "Do these records refer to the same thing?\n",
      "(y)es / (n)o / (u)nsure / (f)inished / (p)revious\n"
     ]
    },
    {
     "name": "stdout",
     "output_type": "stream",
     "text": [
      "y\n"
     ]
    },
    {
     "name": "stderr",
     "output_type": "stream",
     "text": [
      "name : kemling ltd\n",
      "addr : 145157 st john street\n",
      "city : london\n",
      "ctry : uk\n",
      "code : ec1v 4pw\n",
      "\n",
      "name : 40 50 media inc\n",
      "addr : 145157 st john street\n",
      "city : london\n",
      "ctry : uk\n",
      "code : ec1v 4pw\n",
      "\n",
      "25/10 positive, 34/10 negative\n",
      "Do these records refer to the same thing?\n",
      "(y)es / (n)o / (u)nsure / (f)inished / (p)revious\n"
     ]
    },
    {
     "name": "stdout",
     "output_type": "stream",
     "text": [
      "n\n"
     ]
    },
    {
     "name": "stderr",
     "output_type": "stream",
     "text": [
      "name : friendshipuk ltd\n",
      "addr : 145157 st. john street\n",
      "city : london\n",
      "ctry : uk\n",
      "code : ec1v 4pw\n",
      "\n",
      "name : 40 50 media inc\n",
      "addr : 145157 st john street\n",
      "city : london\n",
      "ctry : uk\n",
      "code : ec1v 4pw\n",
      "\n",
      "25/10 positive, 35/10 negative\n",
      "Do these records refer to the same thing?\n",
      "(y)es / (n)o / (u)nsure / (f)inished / (p)revious\n"
     ]
    },
    {
     "name": "stdout",
     "output_type": "stream",
     "text": [
      "n\n"
     ]
    },
    {
     "name": "stderr",
     "output_type": "stream",
     "text": [
      "name : infoseco ltd\n",
      "addr : 152 kemp house city road\n",
      "city : london\n",
      "ctry : uk\n",
      "code : ec1v 2nx\n",
      "\n",
      "name : 4 get mobile lim\n",
      "addr : 152 kemp house city road\n",
      "city : london\n",
      "ctry : uk\n",
      "code : ec1v 2nx\n",
      "\n",
      "25/10 positive, 36/10 negative\n",
      "Do these records refer to the same thing?\n",
      "(y)es / (n)o / (u)nsure / (f)inished / (p)revious\n"
     ]
    },
    {
     "name": "stdout",
     "output_type": "stream",
     "text": [
      "n\n"
     ]
    },
    {
     "name": "stderr",
     "output_type": "stream",
     "text": [
      "name : arka associates limited\n",
      "addr : 24 international house holborn viaduct\n",
      "city : london\n",
      "ctry : uk\n",
      "code : ec1a 2bn\n",
      "\n",
      "name : alchera tech limited\n",
      "addr : 24 holborn viaduct\n",
      "city : london\n",
      "ctry : uk\n",
      "code : ec1a 2bn\n",
      "\n",
      "25/10 positive, 37/10 negative\n",
      "Do these records refer to the same thing?\n",
      "(y)es / (n)o / (u)nsure / (f)inished / (p)revious\n"
     ]
    },
    {
     "name": "stdout",
     "output_type": "stream",
     "text": [
      "n\n"
     ]
    },
    {
     "name": "stderr",
     "output_type": "stream",
     "text": [
      "name : fenergo uk limited\n",
      "addr : 200 aldersgate\n",
      "city : london\n",
      "ctry : uk\n",
      "code : ec1a 4hd\n",
      "\n",
      "name : 2e2 services ltd\n",
      "addr : 200 200 aldersgate aldersgate street\n",
      "city : london\n",
      "ctry : uk\n",
      "code : ec1a 4hd\n",
      "\n",
      "25/10 positive, 38/10 negative\n",
      "Do these records refer to the same thing?\n",
      "(y)es / (n)o / (u)nsure / (f)inished / (p)revious\n"
     ]
    },
    {
     "name": "stdout",
     "output_type": "stream",
     "text": [
      "n\n"
     ]
    },
    {
     "name": "stderr",
     "output_type": "stream",
     "text": [
      "name : online secure ltd\n",
      "addr : 145157 st john street\n",
      "city : london\n",
      "ctry : uk\n",
      "code : ec1v 4pw\n",
      "\n",
      "name : almara ltd\n",
      "addr : 145157 st john street\n",
      "city : london\n",
      "ctry : uk\n",
      "code : ec1v 4pw\n",
      "\n",
      "25/10 positive, 39/10 negative\n",
      "Do these records refer to the same thing?\n",
      "(y)es / (n)o / (u)nsure / (f)inished / (p)revious\n"
     ]
    },
    {
     "name": "stdout",
     "output_type": "stream",
     "text": [
      "n\n"
     ]
    },
    {
     "name": "stderr",
     "output_type": "stream",
     "text": [
      "name : lenderwize limited\n",
      "addr : 1 charterhouse mews\n",
      "city : london\n",
      "ctry : uk\n",
      "code : ec1m 6bb\n",
      "\n",
      "name : amleu software development uk limited\n",
      "addr : 1 charterhouse mew\n",
      "city : london\n",
      "ctry : uk\n",
      "code : ec1m 6bb\n",
      "\n",
      "25/10 positive, 40/10 negative\n",
      "Do these records refer to the same thing?\n",
      "(y)es / (n)o / (u)nsure / (f)inished / (p)revious\n"
     ]
    },
    {
     "name": "stdout",
     "output_type": "stream",
     "text": [
      "n\n"
     ]
    },
    {
     "name": "stderr",
     "output_type": "stream",
     "text": [
      "name : newgen technologies ltd\n",
      "addr : 145157 st john street\n",
      "city : london\n",
      "ctry : uk\n",
      "code : ec1v 4pw\n",
      "\n",
      "name : 40 50 media inc\n",
      "addr : 145157 st john street\n",
      "city : london\n",
      "ctry : uk\n",
      "code : ec1v 4pw\n",
      "\n",
      "25/10 positive, 41/10 negative\n",
      "Do these records refer to the same thing?\n",
      "(y)es / (n)o / (u)nsure / (f)inished / (p)revious\n"
     ]
    },
    {
     "name": "stdout",
     "output_type": "stream",
     "text": [
      "n\n"
     ]
    },
    {
     "name": "stderr",
     "output_type": "stream",
     "text": [
      "name : legalsure ltd\n",
      "addr : 145157 st john street\n",
      "city : london\n",
      "ctry : uk\n",
      "code : ec1v 4pw\n",
      "\n",
      "name : 40 50 media inc\n",
      "addr : 145157 st john street\n",
      "city : london\n",
      "ctry : uk\n",
      "code : ec1v 4pw\n",
      "\n",
      "25/10 positive, 42/10 negative\n",
      "Do these records refer to the same thing?\n",
      "(y)es / (n)o / (u)nsure / (f)inished / (p)revious\n"
     ]
    },
    {
     "name": "stdout",
     "output_type": "stream",
     "text": [
      "n\n"
     ]
    },
    {
     "name": "stderr",
     "output_type": "stream",
     "text": [
      "name : warwick computer repairs ltd\n",
      "addr : 145157 st john street\n",
      "city : london\n",
      "ctry : uk\n",
      "code : ec1v 4pw\n",
      "\n",
      "name : almara ltd\n",
      "addr : 145157 st john street\n",
      "city : london\n",
      "ctry : uk\n",
      "code : ec1v 4pw\n",
      "\n",
      "25/10 positive, 43/10 negative\n",
      "Do these records refer to the same thing?\n",
      "(y)es / (n)o / (u)nsure / (f)inished / (p)revious\n"
     ]
    },
    {
     "name": "stdout",
     "output_type": "stream",
     "text": [
      "n\n"
     ]
    },
    {
     "name": "stderr",
     "output_type": "stream",
     "text": [
      "name : huba digital limited\n",
      "addr : 30 city road\n",
      "city : london\n",
      "ctry : uk\n",
      "code : ec1y 2ab\n",
      "\n",
      "name : 1 mobile limited\n",
      "addr : 30 city road\n",
      "city : london\n",
      "ctry : uk\n",
      "code : ec1y 2ab\n",
      "\n",
      "25/10 positive, 44/10 negative\n",
      "Do these records refer to the same thing?\n",
      "(y)es / (n)o / (u)nsure / (f)inished / (p)revious\n"
     ]
    },
    {
     "name": "stdout",
     "output_type": "stream",
     "text": [
      "n\n"
     ]
    },
    {
     "name": "stderr",
     "output_type": "stream",
     "text": [
      "name : ab techsys ltd\n",
      "addr : international house 24 holborn viaduct\n",
      "city : london\n",
      "ctry : uk\n",
      "code : ec1a 2bn\n",
      "\n",
      "name : abs tech ltd\n",
      "addr : international hse 24 holborn viaduct\n",
      "city : london\n",
      "ctry : uk\n",
      "code : ec1a 2bn\n",
      "\n",
      "25/10 positive, 45/10 negative\n",
      "Do these records refer to the same thing?\n",
      "(y)es / (n)o / (u)nsure / (f)inished / (p)revious\n"
     ]
    },
    {
     "name": "stdout",
     "output_type": "stream",
     "text": [
      "y\n"
     ]
    },
    {
     "name": "stderr",
     "output_type": "stream",
     "text": [
      "name : anytime around ltd\n",
      "addr : 145157 st john street\n",
      "city : london\n",
      "ctry : uk\n",
      "code : ec1v 4pw\n",
      "\n",
      "name : 40 50 media inc\n",
      "addr : 145157 st john street\n",
      "city : london\n",
      "ctry : uk\n",
      "code : ec1v 4pw\n",
      "\n",
      "26/10 positive, 45/10 negative\n",
      "Do these records refer to the same thing?\n",
      "(y)es / (n)o / (u)nsure / (f)inished / (p)revious\n"
     ]
    },
    {
     "name": "stdout",
     "output_type": "stream",
     "text": [
      "n\n"
     ]
    },
    {
     "name": "stderr",
     "output_type": "stream",
     "text": [
      "name : metaluxo it security ltd\n",
      "addr : 24 holborn viaduct\n",
      "city : london\n",
      "ctry : uk\n",
      "code : ec1a 2bn\n",
      "\n",
      "name : arka associates limited\n",
      "addr : 24 international house holborn viaduct\n",
      "city : london\n",
      "ctry : africa\n",
      "code : ec1a 2bn\n",
      "\n",
      "26/10 positive, 46/10 negative\n",
      "Do these records refer to the same thing?\n",
      "(y)es / (n)o / (u)nsure / (f)inished / (p)revious\n"
     ]
    },
    {
     "name": "stdout",
     "output_type": "stream",
     "text": [
      "\n"
     ]
    },
    {
     "name": "stderr",
     "output_type": "stream",
     "text": [
      "(y)es / (n)o / (u)nsure / (f)inished / (p)revious\n"
     ]
    },
    {
     "name": "stdout",
     "output_type": "stream",
     "text": [
      "p\n"
     ]
    },
    {
     "name": "stderr",
     "output_type": "stream",
     "text": [
      "name : anytime around ltd\n",
      "addr : 145157 st john street\n",
      "city : london\n",
      "ctry : uk\n",
      "code : ec1v 4pw\n",
      "\n",
      "name : 40 50 media inc\n",
      "addr : 145157 st john street\n",
      "city : london\n",
      "ctry : uk\n",
      "code : ec1v 4pw\n",
      "\n",
      "26/10 positive, 45/10 negative\n",
      "Do these records refer to the same thing?\n",
      "(y)es / (n)o / (u)nsure / (f)inished\n"
     ]
    },
    {
     "name": "stdout",
     "output_type": "stream",
     "text": [
      "n\n"
     ]
    },
    {
     "name": "stderr",
     "output_type": "stream",
     "text": [
      "name : metaluxo it security ltd\n",
      "addr : 24 holborn viaduct\n",
      "city : london\n",
      "ctry : uk\n",
      "code : ec1a 2bn\n",
      "\n",
      "name : arka associates limited\n",
      "addr : 24 international house holborn viaduct\n",
      "city : london\n",
      "ctry : africa\n",
      "code : ec1a 2bn\n",
      "\n",
      "26/10 positive, 46/10 negative\n",
      "Do these records refer to the same thing?\n",
      "(y)es / (n)o / (u)nsure / (f)inished / (p)revious\n"
     ]
    },
    {
     "name": "stdout",
     "output_type": "stream",
     "text": [
      "n\n"
     ]
    },
    {
     "name": "stderr",
     "output_type": "stream",
     "text": [
      "name : behind pixels ltd\n",
      "addr : 152 city road kemp house\n",
      "city : london\n",
      "ctry : uk\n",
      "code : ec1v 2nx\n",
      "\n",
      "name : 4 get mobile lim\n",
      "addr : 152 kemp house city road\n",
      "city : london\n",
      "ctry : uk\n",
      "code : ec1v 2nx\n",
      "\n",
      "26/10 positive, 47/10 negative\n",
      "Do these records refer to the same thing?\n",
      "(y)es / (n)o / (u)nsure / (f)inished / (p)revious\n"
     ]
    },
    {
     "name": "stdout",
     "output_type": "stream",
     "text": [
      "n\n"
     ]
    },
    {
     "name": "stderr",
     "output_type": "stream",
     "text": [
      "name : morse group limited\n",
      "addr : 200 aldersgate aldersgate street\n",
      "city : london\n",
      "ctry : uk\n",
      "code : ec1a 4hd\n",
      "\n",
      "name : 2e2 uk limited\n",
      "addr : 200 aldersgate aldersgate street\n",
      "city : london\n",
      "ctry : uk\n",
      "code : ec1a 4hd\n",
      "\n",
      "26/10 positive, 48/10 negative\n",
      "Do these records refer to the same thing?\n",
      "(y)es / (n)o / (u)nsure / (f)inished / (p)revious\n"
     ]
    },
    {
     "name": "stdout",
     "output_type": "stream",
     "text": [
      "n\n"
     ]
    },
    {
     "name": "stderr",
     "output_type": "stream",
     "text": [
      "name : argus intelligence limited\n",
      "addr : 152 kemp house city road\n",
      "city : london\n",
      "ctry : uk\n",
      "code : ec1v 2nx\n",
      "\n",
      "name : 4 get mobile lim\n",
      "addr : 152 kemp house city road\n",
      "city : london\n",
      "ctry : uk\n",
      "code : ec1v 2nx\n",
      "\n",
      "26/10 positive, 49/10 negative\n",
      "Do these records refer to the same thing?\n",
      "(y)es / (n)o / (u)nsure / (f)inished / (p)revious\n"
     ]
    },
    {
     "name": "stdout",
     "output_type": "stream",
     "text": [
      "n\n"
     ]
    },
    {
     "name": "stderr",
     "output_type": "stream",
     "text": [
      "name : glopay limited\n",
      "addr : 145157 st john street\n",
      "city : london\n",
      "ctry : uk\n",
      "code : ec1v 4pw\n",
      "\n",
      "name : 40 50 media inc\n",
      "addr : 145157 st john street\n",
      "city : london\n",
      "ctry : uk\n",
      "code : ec1v 4pw\n",
      "\n",
      "26/10 positive, 50/10 negative\n",
      "Do these records refer to the same thing?\n",
      "(y)es / (n)o / (u)nsure / (f)inished / (p)revious\n"
     ]
    },
    {
     "name": "stdout",
     "output_type": "stream",
     "text": [
      "n\n"
     ]
    },
    {
     "name": "stderr",
     "output_type": "stream",
     "text": [
      "name : bioscitex ltd.\n",
      "addr : 152 city rd\n",
      "city : london\n",
      "ctry : uk\n",
      "code : ec1v 2nx\n",
      "\n",
      "name : altiatech ltd\n",
      "addr : 152 city road\n",
      "city : london\n",
      "ctry : uk\n",
      "code : ec1v 2nx\n",
      "\n",
      "26/10 positive, 51/10 negative\n",
      "Do these records refer to the same thing?\n",
      "(y)es / (n)o / (u)nsure / (f)inished / (p)revious\n"
     ]
    },
    {
     "name": "stdout",
     "output_type": "stream",
     "text": [
      "n\n"
     ]
    },
    {
     "name": "stderr",
     "output_type": "stream",
     "text": [
      "name : clickuni ltd\n",
      "addr : 145157 st. john street\n",
      "city : london\n",
      "ctry : uk\n",
      "code : ec1v 4pw\n",
      "\n",
      "name : almara ltd\n",
      "addr : 145157 st john street\n",
      "city : london\n",
      "ctry : uk\n",
      "code : ec1v 4pw\n",
      "\n",
      "26/10 positive, 52/10 negative\n",
      "Do these records refer to the same thing?\n",
      "(y)es / (n)o / (u)nsure / (f)inished / (p)revious\n"
     ]
    },
    {
     "name": "stdout",
     "output_type": "stream",
     "text": [
      "n\n"
     ]
    },
    {
     "name": "stderr",
     "output_type": "stream",
     "text": [
      "name : bowater data services limited\n",
      "addr : 200 aldersgate\n",
      "city : london\n",
      "ctry : uk\n",
      "code : ec1a 4hd\n",
      "\n",
      "name : services limited\n",
      "addr : 200 200 aldersgate aldersgate street\n",
      "city : london\n",
      "ctry : uk\n",
      "code : ec1a 4hd\n",
      "\n",
      "26/10 positive, 53/10 negative\n",
      "Do these records refer to the same thing?\n",
      "(y)es / (n)o / (u)nsure / (f)inished / (p)revious\n"
     ]
    },
    {
     "name": "stdout",
     "output_type": "stream",
     "text": [
      "n\n"
     ]
    },
    {
     "name": "stderr",
     "output_type": "stream",
     "text": [
      "name : enro solutions limited\n",
      "addr : 145157 st john street\n",
      "city : london\n",
      "ctry : uk\n",
      "code : ec1v 4pw\n",
      "\n",
      "name : almara ltd\n",
      "addr : 145157 st john street\n",
      "city : london\n",
      "ctry : uk\n",
      "code : ec1v 4pw\n",
      "\n",
      "26/10 positive, 54/10 negative\n",
      "Do these records refer to the same thing?\n",
      "(y)es / (n)o / (u)nsure / (f)inished / (p)revious\n"
     ]
    },
    {
     "name": "stdout",
     "output_type": "stream",
     "text": [
      "n\n"
     ]
    },
    {
     "name": "stderr",
     "output_type": "stream",
     "text": [
      "name : search magnet marketing ltd\n",
      "addr : 145157 st john street\n",
      "city : london\n",
      "ctry : uk\n",
      "code : ec1v 4pw\n",
      "\n",
      "name : 40 50 media inc\n",
      "addr : 145157 st john street\n",
      "city : london\n",
      "ctry : uk\n",
      "code : ec1v 4pw\n",
      "\n",
      "26/10 positive, 55/10 negative\n",
      "Do these records refer to the same thing?\n",
      "(y)es / (n)o / (u)nsure / (f)inished / (p)revious\n"
     ]
    },
    {
     "name": "stdout",
     "output_type": "stream",
     "text": [
      "n\n"
     ]
    },
    {
     "name": "stderr",
     "output_type": "stream",
     "text": [
      "name : vero solutions limited\n",
      "addr : 15 bowling green lane\n",
      "city : london\n",
      "ctry : uk\n",
      "code : ec1r 0bd\n",
      "\n",
      "name : bedroom london limited\n",
      "addr : 15 bowling green lane\n",
      "city : london\n",
      "ctry : uk\n",
      "code : ec1r 0bd\n",
      "\n",
      "26/10 positive, 56/10 negative\n",
      "Do these records refer to the same thing?\n",
      "(y)es / (n)o / (u)nsure / (f)inished / (p)revious\n"
     ]
    },
    {
     "name": "stdout",
     "output_type": "stream",
     "text": [
      "n\n"
     ]
    },
    {
     "name": "stderr",
     "output_type": "stream",
     "text": [
      "name : simple digital ltd\n",
      "addr : 152 city road\n",
      "city : london\n",
      "ctry : uk\n",
      "code : ec1v 2nx\n",
      "\n",
      "name : altiatech ltd\n",
      "addr : 152 city road\n",
      "city : london\n",
      "ctry : uk\n",
      "code : ec1v 2nx\n",
      "\n",
      "26/10 positive, 57/10 negative\n",
      "Do these records refer to the same thing?\n",
      "(y)es / (n)o / (u)nsure / (f)inished / (p)revious\n"
     ]
    },
    {
     "name": "stdout",
     "output_type": "stream",
     "text": [
      "n\n"
     ]
    },
    {
     "name": "stderr",
     "output_type": "stream",
     "text": [
      "name : nerdability ltd\n",
      "addr : 145157 st john street\n",
      "city : london\n",
      "ctry : uk\n",
      "code : ec1v 4pw\n",
      "\n",
      "name : almara ltd\n",
      "addr : 145157 st john street\n",
      "city : london\n",
      "ctry : uk\n",
      "code : ec1v 4pw\n",
      "\n",
      "26/10 positive, 58/10 negative\n",
      "Do these records refer to the same thing?\n",
      "(y)es / (n)o / (u)nsure / (f)inished / (p)revious\n"
     ]
    },
    {
     "name": "stdout",
     "output_type": "stream",
     "text": [
      "n\n"
     ]
    },
    {
     "name": "stderr",
     "output_type": "stream",
     "text": [
      "name : mcleod enterprises ltd\n",
      "addr : 145157 st. john street\n",
      "city : london\n",
      "ctry : uk\n",
      "code : ec1v 4pw\n",
      "\n",
      "name : 40 50 media inc\n",
      "addr : 145157 st john street\n",
      "city : london\n",
      "ctry : uk\n",
      "code : ec1v 4pw\n",
      "\n",
      "26/10 positive, 59/10 negative\n",
      "Do these records refer to the same thing?\n",
      "(y)es / (n)o / (u)nsure / (f)inished / (p)revious\n"
     ]
    },
    {
     "name": "stdout",
     "output_type": "stream",
     "text": [
      "n\n"
     ]
    },
    {
     "name": "stderr",
     "output_type": "stream",
     "text": [
      "name : irateu ltd\n",
      "addr : 152 city road\n",
      "city : london\n",
      "ctry : uk\n",
      "code : ec1v 2nx\n",
      "\n",
      "name : 4 get mobile lim\n",
      "addr : 152 kemp house city road\n",
      "city : london\n",
      "ctry : uk\n",
      "code : ec1v 2nx\n",
      "\n",
      "26/10 positive, 60/10 negative\n",
      "Do these records refer to the same thing?\n",
      "(y)es / (n)o / (u)nsure / (f)inished / (p)revious\n"
     ]
    },
    {
     "name": "stdout",
     "output_type": "stream",
     "text": [
      "n\n"
     ]
    },
    {
     "name": "stderr",
     "output_type": "stream",
     "text": [
      "name : procyon studios limited\n",
      "addr : 15 bowling green lane\n",
      "city : london\n",
      "ctry : uk\n",
      "code : ec1r 0bd\n",
      "\n",
      "name : bedroom london limited\n",
      "addr : 15 bowling green lane\n",
      "city : london\n",
      "ctry : uk\n",
      "code : ec1r 0bd\n",
      "\n",
      "26/10 positive, 61/10 negative\n",
      "Do these records refer to the same thing?\n",
      "(y)es / (n)o / (u)nsure / (f)inished / (p)revious\n"
     ]
    },
    {
     "name": "stdout",
     "output_type": "stream",
     "text": [
      "n\n"
     ]
    },
    {
     "name": "stderr",
     "output_type": "stream",
     "text": [
      "name : crogtech ltd\n",
      "addr : 145157 st john street\n",
      "city : london\n",
      "ctry : uk\n",
      "code : ec1v 4pw\n",
      "\n",
      "name : almara ltd\n",
      "addr : 145157 st john street\n",
      "city : london\n",
      "ctry : uk\n",
      "code : ec1v 4pw\n",
      "\n",
      "26/10 positive, 62/10 negative\n",
      "Do these records refer to the same thing?\n",
      "(y)es / (n)o / (u)nsure / (f)inished / (p)revious\n"
     ]
    },
    {
     "name": "stdout",
     "output_type": "stream",
     "text": [
      "n\n"
     ]
    },
    {
     "name": "stderr",
     "output_type": "stream",
     "text": [
      "name : fan domains ltd\n",
      "addr : 145157 st john street\n",
      "city : london\n",
      "ctry : uk\n",
      "code : ec1v 4pw\n",
      "\n",
      "name : 40 50 media inc\n",
      "addr : 145157 st john street\n",
      "city : london\n",
      "ctry : uk\n",
      "code : ec1v 4pw\n",
      "\n",
      "26/10 positive, 63/10 negative\n",
      "Do these records refer to the same thing?\n",
      "(y)es / (n)o / (u)nsure / (f)inished / (p)revious\n"
     ]
    },
    {
     "name": "stdout",
     "output_type": "stream",
     "text": [
      "n\n"
     ]
    },
    {
     "name": "stderr",
     "output_type": "stream",
     "text": [
      "name : ektbly ltd\n",
      "addr : 145157 st john street\n",
      "city : london\n",
      "ctry : uk\n",
      "code : ec1v 4pw\n",
      "\n",
      "name : almara ltd\n",
      "addr : 145157 st john street\n",
      "city : london\n",
      "ctry : uk\n",
      "code : ec1v 4pw\n",
      "\n",
      "26/10 positive, 64/10 negative\n",
      "Do these records refer to the same thing?\n",
      "(y)es / (n)o / (u)nsure / (f)inished / (p)revious\n"
     ]
    },
    {
     "name": "stdout",
     "output_type": "stream",
     "text": [
      "n\n"
     ]
    },
    {
     "name": "stderr",
     "output_type": "stream",
     "text": [
      "name : smartlogic schemaserver limited\n",
      "addr : 200 aldersgate street\n",
      "city : london\n",
      "ctry : uk\n",
      "code : ec1a 4hd\n",
      "\n",
      "name : 2e2 services limited\n",
      "addr : 200 aldersgate aldersgate street\n",
      "city : london\n",
      "ctry : None\n",
      "code : ec1a 4hd\n",
      "\n",
      "26/10 positive, 65/10 negative\n",
      "Do these records refer to the same thing?\n",
      "(y)es / (n)o / (u)nsure / (f)inished / (p)revious\n"
     ]
    },
    {
     "name": "stdout",
     "output_type": "stream",
     "text": [
      "n\n"
     ]
    },
    {
     "name": "stderr",
     "output_type": "stream",
     "text": [
      "name : gioass domains limited\n",
      "addr : 1 charterhouse mews\n",
      "city : london\n",
      "ctry : uk\n",
      "code : ec1m 6bb\n",
      "\n",
      "name : bedbug studio ltd\n",
      "addr : 1 charterhouse mews\n",
      "city : london\n",
      "ctry : uk\n",
      "code : ec1m 6bb\n",
      "\n",
      "26/10 positive, 66/10 negative\n",
      "Do these records refer to the same thing?\n",
      "(y)es / (n)o / (u)nsure / (f)inished / (p)revious\n"
     ]
    },
    {
     "name": "stdout",
     "output_type": "stream",
     "text": [
      "n\n"
     ]
    },
    {
     "name": "stderr",
     "output_type": "stream",
     "text": [
      "name : import.io limited\n",
      "addr : 30 city road\n",
      "city : london\n",
      "ctry : uk\n",
      "code : ec1y 2ab\n",
      "\n",
      "name : 1 mob lim\n",
      "addr : 30 cty road\n",
      "city : london\n",
      "ctry : None\n",
      "code : ec1y 2ab\n",
      "\n",
      "26/10 positive, 67/10 negative\n",
      "Do these records refer to the same thing?\n",
      "(y)es / (n)o / (u)nsure / (f)inished / (p)revious\n"
     ]
    },
    {
     "name": "stdout",
     "output_type": "stream",
     "text": [
      "n\n"
     ]
    },
    {
     "name": "stderr",
     "output_type": "stream",
     "text": [
      "name : digipolis limited\n",
      "addr : 15 bowling green lane\n",
      "city : london\n",
      "ctry : uk\n",
      "code : ec1r 0bd\n",
      "\n",
      "name : bedroom london limited\n",
      "addr : 15 bowling green lane\n",
      "city : london\n",
      "ctry : uk\n",
      "code : ec1r 0bd\n",
      "\n",
      "26/10 positive, 68/10 negative\n",
      "Do these records refer to the same thing?\n",
      "(y)es / (n)o / (u)nsure / (f)inished / (p)revious\n"
     ]
    },
    {
     "name": "stdout",
     "output_type": "stream",
     "text": [
      "n\n"
     ]
    },
    {
     "name": "stderr",
     "output_type": "stream",
     "text": [
      "name : diligence consulting limited\n",
      "addr : 145157 st. john street\n",
      "city : london\n",
      "ctry : uk\n",
      "code : ec1v 4pw\n",
      "\n",
      "name : almara ltd\n",
      "addr : 145157 st john street\n",
      "city : london\n",
      "ctry : uk\n",
      "code : ec1v 4pw\n",
      "\n",
      "26/10 positive, 69/10 negative\n",
      "Do these records refer to the same thing?\n",
      "(y)es / (n)o / (u)nsure / (f)inished / (p)revious\n"
     ]
    },
    {
     "name": "stdout",
     "output_type": "stream",
     "text": [
      "n\n"
     ]
    },
    {
     "name": "stderr",
     "output_type": "stream",
     "text": [
      "name : activon projects limited\n",
      "addr : international house 24 holborn viaduct\n",
      "city : city of london|london\n",
      "ctry : uk\n",
      "code : ec1a 2bn\n",
      "\n",
      "name : active think limited\n",
      "addr : kemp house 152 city road\n",
      "city : london\n",
      "ctry : uk\n",
      "code : ec1v 2nx\n",
      "\n",
      "26/10 positive, 70/10 negative\n",
      "Do these records refer to the same thing?\n",
      "(y)es / (n)o / (u)nsure / (f)inished / (p)revious\n"
     ]
    },
    {
     "name": "stdout",
     "output_type": "stream",
     "text": [
      "n\n"
     ]
    },
    {
     "name": "stderr",
     "output_type": "stream",
     "text": [
      "name : transglobe trading corporation limited\n",
      "addr : 145157 st. john street\n",
      "city : london\n",
      "ctry : uk\n",
      "code : ec1v 4py\n",
      "\n",
      "name : aaa consult ltd\n",
      "addr : 145157 st. john street\n",
      "city : london\n",
      "ctry : uk\n",
      "code : ec1v 4py\n",
      "\n",
      "26/10 positive, 71/10 negative\n",
      "Do these records refer to the same thing?\n",
      "(y)es / (n)o / (u)nsure / (f)inished / (p)revious\n"
     ]
    },
    {
     "name": "stdout",
     "output_type": "stream",
     "text": [
      "n\n"
     ]
    },
    {
     "name": "stderr",
     "output_type": "stream",
     "text": [
      "name : areza limited\n",
      "addr : 24 holborn viaduct\n",
      "city : london\n",
      "ctry : uk\n",
      "code : ec1a 2bn\n",
      "\n",
      "name : alchera tech limited\n",
      "addr : 24 holborn viaduct\n",
      "city : london\n",
      "ctry : uk\n",
      "code : ec1a 2bn\n",
      "\n",
      "26/10 positive, 72/10 negative\n",
      "Do these records refer to the same thing?\n",
      "(y)es / (n)o / (u)nsure / (f)inished / (p)revious\n"
     ]
    },
    {
     "name": "stdout",
     "output_type": "stream",
     "text": [
      "n\n"
     ]
    },
    {
     "name": "stderr",
     "output_type": "stream",
     "text": [
      "name : goldfish digital media limited\n",
      "addr : 145157 st john street\n",
      "city : london\n",
      "ctry : uk\n",
      "code : ec1v 4pw\n",
      "\n",
      "name : almara ltd\n",
      "addr : 145157 st john street\n",
      "city : london\n",
      "ctry : uk\n",
      "code : ec1v 4pw\n",
      "\n",
      "26/10 positive, 73/10 negative\n",
      "Do these records refer to the same thing?\n",
      "(y)es / (n)o / (u)nsure / (f)inished / (p)revious\n"
     ]
    },
    {
     "name": "stdout",
     "output_type": "stream",
     "text": [
      "n\n"
     ]
    },
    {
     "name": "stderr",
     "output_type": "stream",
     "text": [
      "name : decimal factor software limited\n",
      "addr : 145157 st john street\n",
      "city : london\n",
      "ctry : uk\n",
      "code : ec1v 4pw\n",
      "\n",
      "name : almara ltd\n",
      "addr : 145157 st john street\n",
      "city : london\n",
      "ctry : uk\n",
      "code : ec1v 4pw\n",
      "\n",
      "26/10 positive, 74/10 negative\n",
      "Do these records refer to the same thing?\n",
      "(y)es / (n)o / (u)nsure / (f)inished / (p)revious\n"
     ]
    },
    {
     "name": "stdout",
     "output_type": "stream",
     "text": [
      "n\n"
     ]
    },
    {
     "name": "stderr",
     "output_type": "stream",
     "text": [
      "name : arka associates limited\n",
      "addr : 24 international house holborn viaduct\n",
      "city : london\n",
      "ctry : uk\n",
      "code : ec1a 2bn\n",
      "\n",
      "name : agile methods alliance ltd\n",
      "addr : 24 international house holborn viaduct\n",
      "city : london\n",
      "ctry : uk\n",
      "code : ec1a 2bn\n",
      "\n",
      "26/10 positive, 75/10 negative\n",
      "Do these records refer to the same thing?\n",
      "(y)es / (n)o / (u)nsure / (f)inished / (p)revious\n"
     ]
    },
    {
     "name": "stdout",
     "output_type": "stream",
     "text": [
      "n\n"
     ]
    },
    {
     "name": "stderr",
     "output_type": "stream",
     "text": [
      "name : fenergo uk limited\n",
      "addr : 200 aldersgate\n",
      "city : london\n",
      "ctry : uk\n",
      "code : ec1a 4hd\n",
      "\n",
      "name : 2e2 services limited\n",
      "addr : 200 aldersgate aldersgate street\n",
      "city : london\n",
      "ctry : None\n",
      "code : ec1a 4hd\n",
      "\n",
      "26/10 positive, 76/10 negative\n",
      "Do these records refer to the same thing?\n",
      "(y)es / (n)o / (u)nsure / (f)inished / (p)revious\n"
     ]
    },
    {
     "name": "stdout",
     "output_type": "stream",
     "text": [
      "n\n"
     ]
    },
    {
     "name": "stderr",
     "output_type": "stream",
     "text": [
      "name : ayscio ltd\n",
      "addr : 145157 st john street\n",
      "city : london\n",
      "ctry : uk\n",
      "code : ec1v 4pw\n",
      "\n",
      "name : almara ltd\n",
      "addr : 145157 st john street\n",
      "city : london\n",
      "ctry : uk\n",
      "code : ec1v 4pw\n",
      "\n",
      "26/10 positive, 77/10 negative\n",
      "Do these records refer to the same thing?\n",
      "(y)es / (n)o / (u)nsure / (f)inished / (p)revious\n"
     ]
    },
    {
     "name": "stdout",
     "output_type": "stream",
     "text": [
      "n\n"
     ]
    },
    {
     "name": "stderr",
     "output_type": "stream",
     "text": [
      "name : total media marketing ltd\n",
      "addr : 145157 st john street\n",
      "city : london\n",
      "ctry : uk\n",
      "code : ec1v 4pw\n",
      "\n",
      "name : 40 50 media inc\n",
      "addr : 145157 st john street\n",
      "city : london\n",
      "ctry : uk\n",
      "code : ec1v 4pw\n",
      "\n",
      "26/10 positive, 78/10 negative\n",
      "Do these records refer to the same thing?\n",
      "(y)es / (n)o / (u)nsure / (f)inished / (p)revious\n"
     ]
    },
    {
     "name": "stdout",
     "output_type": "stream",
     "text": [
      "n\n"
     ]
    },
    {
     "name": "stderr",
     "output_type": "stream",
     "text": [
      "name : add to cart ltd\n",
      "addr : 145157 st john street\n",
      "city : london\n",
      "ctry : uk\n",
      "code : ec1v 4pw\n",
      "\n",
      "name : almara ltd\n",
      "addr : 145157 st john street\n",
      "city : london\n",
      "ctry : uk\n",
      "code : ec1v 4pw\n",
      "\n",
      "26/10 positive, 79/10 negative\n",
      "Do these records refer to the same thing?\n",
      "(y)es / (n)o / (u)nsure / (f)inished / (p)revious\n"
     ]
    },
    {
     "name": "stdout",
     "output_type": "stream",
     "text": [
      "n\n"
     ]
    },
    {
     "name": "stderr",
     "output_type": "stream",
     "text": [
      "name : evori limited\n",
      "addr : 16 bowling green lane\n",
      "city : london\n",
      "ctry : uk\n",
      "code : ec1r 0bd\n",
      "\n",
      "name : 23 snapshot limited\n",
      "addr : 16 bowling green lane\n",
      "city : london\n",
      "ctry : uk\n",
      "code : ec1r 0bd\n",
      "\n",
      "26/10 positive, 80/10 negative\n",
      "Do these records refer to the same thing?\n",
      "(y)es / (n)o / (u)nsure / (f)inished / (p)revious\n"
     ]
    },
    {
     "name": "stdout",
     "output_type": "stream",
     "text": [
      "n\n"
     ]
    },
    {
     "name": "stderr",
     "output_type": "stream",
     "text": [
      "name : import.io limited\n",
      "addr : 30 city road\n",
      "city : london\n",
      "ctry : uk\n",
      "code : ec1y 2ab\n",
      "\n",
      "name : 1 mobile limited\n",
      "addr : 30 city road\n",
      "city : london\n",
      "ctry : uk\n",
      "code : ec1y 2ab\n",
      "\n",
      "26/10 positive, 81/10 negative\n",
      "Do these records refer to the same thing?\n",
      "(y)es / (n)o / (u)nsure / (f)inished / (p)revious\n"
     ]
    },
    {
     "name": "stdout",
     "output_type": "stream",
     "text": [
      "n\n"
     ]
    },
    {
     "name": "stderr",
     "output_type": "stream",
     "text": [
      "name : brown paper consulting limited\n",
      "addr : 145157 st john street\n",
      "city : london\n",
      "ctry : uk\n",
      "code : ec1v 4pw\n",
      "\n",
      "name : almara ltd\n",
      "addr : 145157 st john street\n",
      "city : london\n",
      "ctry : uk\n",
      "code : ec1v 4pw\n",
      "\n",
      "26/10 positive, 82/10 negative\n",
      "Do these records refer to the same thing?\n",
      "(y)es / (n)o / (u)nsure / (f)inished / (p)revious\n"
     ]
    },
    {
     "name": "stdout",
     "output_type": "stream",
     "text": [
      "n\n"
     ]
    },
    {
     "name": "stderr",
     "output_type": "stream",
     "text": [
      "name : rank1 (south) limited\n",
      "addr : 30 city road\n",
      "city : london\n",
      "ctry : uk\n",
      "code : ec1y 2ab\n",
      "\n",
      "name : 1 mob lim\n",
      "addr : 30 cty road\n",
      "city : london\n",
      "ctry : None\n",
      "code : ec1y 2ab\n",
      "\n",
      "26/10 positive, 83/10 negative\n",
      "Do these records refer to the same thing?\n",
      "(y)es / (n)o / (u)nsure / (f)inished / (p)revious\n"
     ]
    },
    {
     "name": "stdout",
     "output_type": "stream",
     "text": [
      "n\n"
     ]
    },
    {
     "name": "stderr",
     "output_type": "stream",
     "text": [
      "name : irateu ltd\n",
      "addr : 152 city road\n",
      "city : london\n",
      "ctry : uk\n",
      "code : ec1v 2nx\n",
      "\n",
      "name : altiatech ltd\n",
      "addr : 152 city road\n",
      "city : london\n",
      "ctry : uk\n",
      "code : ec1v 2nx\n",
      "\n",
      "26/10 positive, 84/10 negative\n",
      "Do these records refer to the same thing?\n",
      "(y)es / (n)o / (u)nsure / (f)inished / (p)revious\n"
     ]
    },
    {
     "name": "stdout",
     "output_type": "stream",
     "text": [
      "n\n"
     ]
    },
    {
     "name": "stderr",
     "output_type": "stream",
     "text": [
      "name : lux repair ltd\n",
      "addr : 145157 st john street\n",
      "city : london\n",
      "ctry : uk\n",
      "code : ec1v 4pw\n",
      "\n",
      "name : almara ltd\n",
      "addr : 145157 st john street\n",
      "city : london\n",
      "ctry : uk\n",
      "code : ec1v 4pw\n",
      "\n",
      "26/10 positive, 85/10 negative\n",
      "Do these records refer to the same thing?\n",
      "(y)es / (n)o / (u)nsure / (f)inished / (p)revious\n"
     ]
    },
    {
     "name": "stdout",
     "output_type": "stream",
     "text": [
      "n\n"
     ]
    },
    {
     "name": "stderr",
     "output_type": "stream",
     "text": [
      "name : sun systems it services limited\n",
      "addr : 145157 st john street\n",
      "city : london\n",
      "ctry : uk\n",
      "code : ec1v 4pw\n",
      "\n",
      "name : 40 50 media inc\n",
      "addr : 145157 st john street\n",
      "city : london\n",
      "ctry : uk\n",
      "code : ec1v 4pw\n",
      "\n",
      "26/10 positive, 86/10 negative\n",
      "Do these records refer to the same thing?\n",
      "(y)es / (n)o / (u)nsure / (f)inished / (p)revious\n"
     ]
    },
    {
     "name": "stdout",
     "output_type": "stream",
     "text": [
      "n\n"
     ]
    },
    {
     "name": "stderr",
     "output_type": "stream",
     "text": [
      "name : anytime around ltd\n",
      "addr : 145157 st john street\n",
      "city : london\n",
      "ctry : uk\n",
      "code : ec1v 4pw\n",
      "\n",
      "name : almara ltd\n",
      "addr : 145157 st john street\n",
      "city : london\n",
      "ctry : uk\n",
      "code : ec1v 4pw\n",
      "\n",
      "26/10 positive, 87/10 negative\n",
      "Do these records refer to the same thing?\n",
      "(y)es / (n)o / (u)nsure / (f)inished / (p)revious\n"
     ]
    },
    {
     "name": "stdout",
     "output_type": "stream",
     "text": [
      "n\n"
     ]
    },
    {
     "name": "stderr",
     "output_type": "stream",
     "text": [
      "name : uk properties online limited\n",
      "addr : 145157 st. john street\n",
      "city : london\n",
      "ctry : uk\n",
      "code : ec1v 4py\n",
      "\n",
      "name : aaa consult ltd\n",
      "addr : 145157 st. john street\n",
      "city : london\n",
      "ctry : uk\n",
      "code : ec1v 4py\n",
      "\n",
      "26/10 positive, 88/10 negative\n",
      "Do these records refer to the same thing?\n",
      "(y)es / (n)o / (u)nsure / (f)inished / (p)revious\n"
     ]
    },
    {
     "name": "stdout",
     "output_type": "stream",
     "text": [
      "n\n"
     ]
    },
    {
     "name": "stderr",
     "output_type": "stream",
     "text": [
      "name : infyline limited\n",
      "addr : 145157 st john street\n",
      "city : london\n",
      "ctry : uk\n",
      "code : ec1v 4pw\n",
      "\n",
      "name : almara ltd\n",
      "addr : 145157 st john street\n",
      "city : london\n",
      "ctry : uk\n",
      "code : ec1v 4pw\n",
      "\n",
      "26/10 positive, 89/10 negative\n",
      "Do these records refer to the same thing?\n",
      "(y)es / (n)o / (u)nsure / (f)inished / (p)revious\n"
     ]
    },
    {
     "name": "stdout",
     "output_type": "stream",
     "text": [
      "n\n"
     ]
    },
    {
     "name": "stderr",
     "output_type": "stream",
     "text": [
      "name : yesql solutions limited\n",
      "addr : 145157 st. john street\n",
      "city : london\n",
      "ctry : uk\n",
      "code : ec1v 4pw\n",
      "\n",
      "name : almara ltd\n",
      "addr : 145157 st john street\n",
      "city : london\n",
      "ctry : uk\n",
      "code : ec1v 4pw\n",
      "\n",
      "26/10 positive, 90/10 negative\n",
      "Do these records refer to the same thing?\n",
      "(y)es / (n)o / (u)nsure / (f)inished / (p)revious\n"
     ]
    },
    {
     "name": "stdout",
     "output_type": "stream",
     "text": [
      "n\n"
     ]
    },
    {
     "name": "stderr",
     "output_type": "stream",
     "text": [
      "name : conserp limited\n",
      "addr : 30 city road\n",
      "city : london\n",
      "ctry : uk\n",
      "code : ec1y 2ab\n",
      "\n",
      "name : 1 mobile limited\n",
      "addr : 30 city road\n",
      "city : london\n",
      "ctry : uk\n",
      "code : ec1y 2ab\n",
      "\n",
      "26/10 positive, 91/10 negative\n",
      "Do these records refer to the same thing?\n",
      "(y)es / (n)o / (u)nsure / (f)inished / (p)revious\n"
     ]
    },
    {
     "name": "stdout",
     "output_type": "stream",
     "text": [
      "n\n"
     ]
    },
    {
     "name": "stderr",
     "output_type": "stream",
     "text": [
      "name : evori limited\n",
      "addr : 16 bowling green lane\n",
      "city : london\n",
      "ctry : uk\n",
      "code : ec1r 0bd\n",
      "\n",
      "name : 23 snaps lim\n",
      "addr : 16 bowling grn lane\n",
      "city : london\n",
      "ctry : uk\n",
      "code : ec1r 0bd\n",
      "\n",
      "26/10 positive, 92/10 negative\n",
      "Do these records refer to the same thing?\n",
      "(y)es / (n)o / (u)nsure / (f)inished / (p)revious\n"
     ]
    },
    {
     "name": "stdout",
     "output_type": "stream",
     "text": [
      "n\n"
     ]
    },
    {
     "name": "stderr",
     "output_type": "stream",
     "text": [
      "name : drp wickham consultancy limited\n",
      "addr : 145157 st. john st. john street\n",
      "city : london\n",
      "ctry : uk\n",
      "code : ec1v 4pw\n",
      "\n",
      "name : almara ltd\n",
      "addr : 145157 st john street\n",
      "city : london\n",
      "ctry : uk\n",
      "code : ec1v 4pw\n",
      "\n",
      "26/10 positive, 93/10 negative\n",
      "Do these records refer to the same thing?\n",
      "(y)es / (n)o / (u)nsure / (f)inished / (p)revious\n"
     ]
    },
    {
     "name": "stdout",
     "output_type": "stream",
     "text": [
      "n\n"
     ]
    },
    {
     "name": "stderr",
     "output_type": "stream",
     "text": [
      "name : united pixels ltd\n",
      "addr : 145157 st. john street\n",
      "city : london\n",
      "ctry : uk\n",
      "code : ec1v 4pw\n",
      "\n",
      "name : almara ltd\n",
      "addr : 145157 st john street\n",
      "city : london\n",
      "ctry : uk\n",
      "code : ec1v 4pw\n",
      "\n",
      "26/10 positive, 94/10 negative\n",
      "Do these records refer to the same thing?\n",
      "(y)es / (n)o / (u)nsure / (f)inished / (p)revious\n"
     ]
    },
    {
     "name": "stdout",
     "output_type": "stream",
     "text": [
      "n\n"
     ]
    },
    {
     "name": "stderr",
     "output_type": "stream",
     "text": [
      "name : online secure ltd\n",
      "addr : 145157 st john street\n",
      "city : london\n",
      "ctry : uk\n",
      "code : ec1v 4pw\n",
      "\n",
      "name : 40 50 media inc\n",
      "addr : 145157 st john street\n",
      "city : london\n",
      "ctry : uk\n",
      "code : ec1v 4pw\n",
      "\n",
      "26/10 positive, 95/10 negative\n",
      "Do these records refer to the same thing?\n",
      "(y)es / (n)o / (u)nsure / (f)inished / (p)revious\n"
     ]
    },
    {
     "name": "stdout",
     "output_type": "stream",
     "text": [
      "n\n"
     ]
    },
    {
     "name": "stderr",
     "output_type": "stream",
     "text": [
      "name : rosendahl conceptkiosk ltd\n",
      "addr : 1718 aylesbury street\n",
      "city : london\n",
      "ctry : uk\n",
      "code : ec1r 0db\n",
      "\n",
      "name : arubaclowwd limited...\n",
      "addr : 1718 aylesbury street\n",
      "city : london\n",
      "ctry : uk\n",
      "code : ec1r 0db\n",
      "\n",
      "26/10 positive, 96/10 negative\n",
      "Do these records refer to the same thing?\n",
      "(y)es / (n)o / (u)nsure / (f)inished / (p)revious\n"
     ]
    },
    {
     "name": "stdout",
     "output_type": "stream",
     "text": [
      "n\n"
     ]
    },
    {
     "name": "stderr",
     "output_type": "stream",
     "text": [
      "name : maxhill consulting ltd\n",
      "addr : 145157 st john street\n",
      "city : london\n",
      "ctry : uk\n",
      "code : ec1v 4pw\n",
      "\n",
      "name : 40 50 media inc\n",
      "addr : 145157 st john street\n",
      "city : london\n",
      "ctry : uk\n",
      "code : ec1v 4pw\n",
      "\n",
      "26/10 positive, 97/10 negative\n",
      "Do these records refer to the same thing?\n",
      "(y)es / (n)o / (u)nsure / (f)inished / (p)revious\n"
     ]
    },
    {
     "name": "stdout",
     "output_type": "stream",
     "text": [
      "n\n"
     ]
    },
    {
     "name": "stderr",
     "output_type": "stream",
     "text": [
      "name : web kingdom limited\n",
      "addr : 160 city road\n",
      "city : london\n",
      "ctry : uk\n",
      "code : ec1v 2nx\n",
      "\n",
      "name : agoc digi prvt limited\n",
      "addr : 160 city road\n",
      "city : london\n",
      "ctry : uk\n",
      "code : ec1v 2nx\n",
      "\n",
      "26/10 positive, 98/10 negative\n",
      "Do these records refer to the same thing?\n",
      "(y)es / (n)o / (u)nsure / (f)inished / (p)revious\n"
     ]
    },
    {
     "name": "stdout",
     "output_type": "stream",
     "text": [
      "n\n"
     ]
    },
    {
     "name": "stderr",
     "output_type": "stream",
     "text": [
      "name : brainshowcase ltd\n",
      "addr : 145157 st john street\n",
      "city : london\n",
      "ctry : uk\n",
      "code : ec1v 4pw\n",
      "\n",
      "name : almara ltd\n",
      "addr : 145157 st john street\n",
      "city : london\n",
      "ctry : uk\n",
      "code : ec1v 4pw\n",
      "\n",
      "26/10 positive, 99/10 negative\n",
      "Do these records refer to the same thing?\n",
      "(y)es / (n)o / (u)nsure / (f)inished / (p)revious\n"
     ]
    },
    {
     "name": "stdout",
     "output_type": "stream",
     "text": [
      "n\n"
     ]
    },
    {
     "name": "stderr",
     "output_type": "stream",
     "text": [
      "name : choice wheel ltd\n",
      "addr : 145157 st john street\n",
      "city : london\n",
      "ctry : uk\n",
      "code : ec1v 4pw\n",
      "\n",
      "name : almara ltd\n",
      "addr : 145157 st john street\n",
      "city : london\n",
      "ctry : uk\n",
      "code : ec1v 4pw\n",
      "\n",
      "26/10 positive, 100/10 negative\n",
      "Do these records refer to the same thing?\n",
      "(y)es / (n)o / (u)nsure / (f)inished / (p)revious\n"
     ]
    },
    {
     "name": "stdout",
     "output_type": "stream",
     "text": [
      "n\n"
     ]
    },
    {
     "name": "stderr",
     "output_type": "stream",
     "text": [
      "name : search magnet marketing ltd\n",
      "addr : 145157 st john street\n",
      "city : london\n",
      "ctry : uk\n",
      "code : ec1v 4pw\n",
      "\n",
      "name : almara ltd\n",
      "addr : 145157 st john street\n",
      "city : london\n",
      "ctry : uk\n",
      "code : ec1v 4pw\n",
      "\n",
      "26/10 positive, 101/10 negative\n",
      "Do these records refer to the same thing?\n",
      "(y)es / (n)o / (u)nsure / (f)inished / (p)revious\n"
     ]
    },
    {
     "name": "stdout",
     "output_type": "stream",
     "text": [
      "n\n"
     ]
    },
    {
     "name": "stderr",
     "output_type": "stream",
     "text": [
      "name : pc it solutions limited\n",
      "addr : 2nd floor 145157 st john street\n",
      "city : london\n",
      "ctry : uk\n",
      "code : ec1v 4py\n",
      "\n",
      "name : a consult ltd\n",
      "addr : 2nd floor 145157 saint john st\n",
      "city : london\n",
      "ctry : uk\n",
      "code : ec1v 4py\n",
      "\n",
      "26/10 positive, 102/10 negative\n",
      "Do these records refer to the same thing?\n",
      "(y)es / (n)o / (u)nsure / (f)inished / (p)revious\n"
     ]
    },
    {
     "name": "stdout",
     "output_type": "stream",
     "text": [
      "n\n"
     ]
    },
    {
     "name": "stderr",
     "output_type": "stream",
     "text": [
      "name : almaradix ltd\n",
      "addr : 145157 st john street\n",
      "city : london\n",
      "ctry : uk\n",
      "code : ec1v 4pw\n",
      "\n",
      "name : 40 50 media inc\n",
      "addr : 145157 st john street\n",
      "city : london\n",
      "ctry : uk\n",
      "code : ec1v 4pw\n",
      "\n",
      "26/10 positive, 103/10 negative\n",
      "Do these records refer to the same thing?\n",
      "(y)es / (n)o / (u)nsure / (f)inished / (p)revious\n"
     ]
    },
    {
     "name": "stdout",
     "output_type": "stream",
     "text": [
      "f\n"
     ]
    },
    {
     "name": "stderr",
     "output_type": "stream",
     "text": [
      "Finished labeling\n",
      "INFO:rlr.crossvalidation:using cross validation to find optimum alpha...\n",
      "INFO:rlr.crossvalidation:optimum alpha: 1.000000, score 0.723743871716687\n",
      "INFO:dedupe.training:Final predicate set:\n",
      "INFO:dedupe.training:(SimplePredicate: (sameFiveCharStartPredicate, name), SimplePredicate: (tokenFieldPredicate, ctry))\n",
      "INFO:dedupe.training:(SimplePredicate: (firstTokenPredicate, addr), SimplePredicate: (hundredIntegerPredicate, name))\n",
      "INFO:dedupe.training:(LevenshteinSearchPredicate: (4, name), SimplePredicate: (alphaNumericPredicate, addr))\n",
      "INFO:dedupe.training:(SimplePredicate: (commonThreeTokens, name), SimplePredicate: (tokenFieldPredicate, ctry))\n"
     ]
    }
   ],
   "source": [
    "# if there already exists a settings_file (with the data model),\n",
    "# create a Dedupe object (linker) that will load the saved settings\n",
    "if os.path.exists(settings_file):\n",
    "    print('reading from', settings_file)\n",
    "    with open(settings_file, 'rb') as sf :\n",
    "        # create a record link object for saved settings- pass the data model to it\n",
    "        linker = dedupe.StaticRecordLink(sf)\n",
    "\n",
    "# if there is no previously saved settings data, create it\n",
    "else:\n",
    "    # Define the fields the linker will pay attention to\n",
    "    # Specifying fields refines the comparison methods so not each part of the record are compared equally\n",
    "    # for example, dedupe will learn which of these fields have higher weights (more important in determining matches) by using regularized logistic regression\n",
    "    # String types compared using affine gap string distance\n",
    "    # Note- the address field is only for US addresses (uses usaddress package to split into components)\n",
    "        # must have dedupe-variable-address installed to use this\n",
    "    fields = [\n",
    "        {'field' : 'name', 'type': 'String'},\n",
    "        {'field' : 'addr', 'type': 'String'},\n",
    "        {'field' : 'city', 'type': 'String'},\n",
    "        {'field' : 'ctry', 'type': 'String'},\n",
    "        {'field' : 'code', 'type': 'String'}\n",
    "    ]\n",
    "    \n",
    "    # Create a new linker object\n",
    "    linker = dedupe.RecordLink(fields)\n",
    "    # To train the linker, feed it a sample of records.\n",
    "    linker.sample(data_1, data_2, 15000)\n",
    "\n",
    "    \n",
    "    # If we have training data saved from a previous run of linker,\n",
    "    # look for it and load it in.\n",
    "    if os.path.exists(training_file):\n",
    "        print('reading labeled examples from ', training_file)\n",
    "        with open(training_file) as tf :\n",
    "            linker.readTraining(tf)\n",
    "\n",
    "    # ## Active learning\n",
    "    # Dedupe will find the next pair of records\n",
    "    # it is least certain about and ask for them to be labelled as matches\n",
    "    # or not.\n",
    "    print('starting active labeling...')\n",
    "\n",
    "    # Label examples, add them to the training data, and update the mathcing model\n",
    "    dedupe.consoleLabel(linker)\n",
    "\n",
    "    linker.train()\n",
    "\n",
    "    # When finished, save training data as labeled examples in the training_file\n",
    "    with open(training_file, 'w') as tf :\n",
    "        linker.writeTraining(tf)\n",
    "\n",
    "    # Save weights and predicates.  If the settings file\n",
    "    # exists, skip all the training and learning next time we run\n",
    "    # this file.\n",
    "    with open(settings_file, 'wb') as sf :\n",
    "        linker.writeSettings(sf)"
   ]
  },
  {
   "cell_type": "markdown",
   "metadata": {},
   "source": [
    "Blocking"
   ]
  },
  {
   "cell_type": "code",
   "execution_count": 43,
   "metadata": {
    "collapsed": true
   },
   "outputs": [],
   "source": [
    "import itertools\n",
    "\n",
    "# Split the data up into groups of records with some feature in common\n",
    "# Only comparing the entries in these blocks reduces number of comparisons\n",
    "# This is more useful with larger datasets- where we would use a representative sample rather than all the data\n",
    "# 2 blocking methods- predicate blocks and index (using inverted index)\n",
    "blocks = linker._blockData(data_1,data_2)"
   ]
  },
  {
   "cell_type": "markdown",
   "metadata": {},
   "source": [
    "Calculate precision, recall, threshold"
   ]
  },
  {
   "cell_type": "code",
   "execution_count": 44,
   "metadata": {},
   "outputs": [
    {
     "name": "stderr",
     "output_type": "stream",
     "text": [
      "INFO:dedupe.api:0 records\n",
      "INFO:dedupe.api:100 records\n",
      "INFO:dedupe.api:200 records\n",
      "INFO:dedupe.api:300 records\n",
      "INFO:dedupe.api:400 records\n",
      "INFO:dedupe.api:500 records\n",
      "INFO:dedupe.api:600 records\n",
      "INFO:dedupe.api:700 records\n",
      "INFO:dedupe.api:800 records\n",
      "INFO:dedupe.api:900 records\n"
     ]
    }
   ],
   "source": [
    "# the records will be duplicates\n",
    "candidate_records = itertools.chain.from_iterable(linker._blockedPairs(blocks))\n",
    "\n",
    "# Calculate the probability that pair of records are duplicates\n",
    "probability = dedupe.core.scoreDuplicates(candidate_records,\n",
    "                                           linker.data_model,\n",
    "                                           linker.classifier,\n",
    "                                           linker.num_cores)['score']\n",
    "\n",
    "probability = probability.copy()\n",
    "probability.sort()\n",
    "probability = probability[::-1]\n",
    "\n",
    "expected_dupes = numpy.cumsum(probability)\n",
    "\n",
    "# Recall- TP/(TP + FN) - ability to find all interesting data points\n",
    "recall = expected_dupes / expected_dupes[-1]\n",
    "# Precision- TP/(TP + FP) - take the probability that the pairs are duplicates divided by the total number of duplicates\n",
    "precision = expected_dupes / numpy.arange(1, len(expected_dupes) + 1)"
   ]
  },
  {
   "cell_type": "code",
   "execution_count": 45,
   "metadata": {},
   "outputs": [
    {
     "name": "stdout",
     "output_type": "stream",
     "text": [
      "probability: [0.9948251  0.9948251  0.9931765  0.99304485 0.99173063 0.9883905\n",
      " 0.9883905  0.9883905  0.9883905  0.9883905  0.9883905  0.9883905\n",
      " 0.9883905  0.98804003 0.9873788  0.98647034 0.98646885 0.9862508\n",
      " 0.9860561  0.9809557  0.97925377 0.9778507  0.97741115 0.9770269\n",
      " 0.9757093  0.9754329  0.9728984  0.97285366 0.97269785 0.970473\n",
      " 0.9681892  0.96528304 0.9606316  0.9603413  0.95893055 0.9577851\n",
      " 0.95322657 0.95036256 0.949613   0.9490687  0.9473373  0.9459979\n",
      " 0.94593084 0.9447019  0.9401474  0.9348475  0.93411744 0.9314679\n",
      " 0.9250924  0.91552705 0.89935493 0.89715654 0.89547694 0.8953674\n",
      " 0.8932752  0.8916884  0.87481594 0.8622452  0.85622835 0.8544338\n",
      " 0.8544338  0.8452613  0.8315724  0.82122225 0.8159416  0.78728104\n",
      " 0.78452414 0.77142525 0.7444748  0.7337996  0.7161845  0.6967714\n",
      " 0.68585706 0.6801169  0.6609481  0.6601646  0.6524902  0.64252216\n",
      " 0.6396925  0.6064909  0.5617057  0.5453662  0.49507254 0.42704228\n",
      " 0.39925498 0.37743506 0.37225065 0.3306864  0.32770517 0.2757944\n",
      " 0.21571161 0.20651008 0.18712848 0.17156538 0.13164437 0.10496471\n",
      " 0.09634529 0.0773574  0.0773574  0.04904715 0.03375684 0.02127536\n",
      " 0.01756336 0.01737098 0.01612505 0.01598214 0.00852996 0.00742704\n",
      " 0.00222466 0.0018414  0.00183595]\n",
      "expected duplicates: [ 0.9948251  1.9896502  2.9828267  3.9758716  4.9676023  5.9559927\n",
      "  6.944383   7.9327736  8.9211645  9.909555  10.897946  11.886337\n",
      " 12.874728  13.862768  14.850147  15.836617  16.823086  17.809336\n",
      " 18.795391  19.776346  20.7556    21.73345   22.710861  23.687887\n",
      " 24.663597  25.63903   26.611929  27.584782  28.55748   29.527952\n",
      " 30.496141  31.461424  32.422054  33.382397  34.341328  35.299114\n",
      " 36.252342  37.202705  38.152317  39.101387  40.048725  40.994724\n",
      " 41.940655  42.885357  43.825504  44.760353  45.69447   46.62594\n",
      " 47.55103   48.466557  49.365913  50.26307   51.158546  52.053913\n",
      " 52.94719   53.83888   54.713696  55.57594   56.432167  57.286602\n",
      " 58.141037  58.986298  59.81787   60.63909   61.455032  62.242313\n",
      " 63.026836  63.798264  64.54274   65.27654   65.99273   66.6895\n",
      " 67.37536   68.05547   68.71642   69.37659   70.029076  70.6716\n",
      " 71.311295  71.917786  72.47949   73.02486   73.51993   73.94697\n",
      " 74.34622   74.723656  75.09591   75.4266    75.7543    76.0301\n",
      " 76.24581   76.452324  76.63945   76.81101   76.94266   77.04762\n",
      " 77.14397   77.22132   77.298676  77.347725  77.381485  77.40276\n",
      " 77.42033   77.4377    77.45383   77.46981   77.47834   77.48576\n",
      " 77.48799   77.48983   77.49167  ]\n",
      "recall: [0.01283783 0.02567567 0.03849223 0.05130709 0.06410498 0.07685978\n",
      " 0.08961458 0.10236938 0.11512417 0.12787898 0.14063378 0.15338859\n",
      " 0.16614339 0.17889366 0.1916354  0.20436542 0.21709542 0.22982259\n",
      " 0.24254724 0.2552061  0.26784298 0.28046176 0.29307488 0.30568302\n",
      " 0.31827417 0.33086178 0.34341663 0.35597092 0.36852324 0.3810468\n",
      " 0.39354092 0.4059975  0.41839406 0.4307869  0.44316155 0.4555214\n",
      " 0.46782246 0.4800865  0.4923409  0.50458825 0.5168133  0.529021\n",
      " 0.54122794 0.55341893 0.56555116 0.577615   0.58966947 0.6016897\n",
      " 0.6136276  0.62544215 0.637048   0.64862543 0.6601812  0.6717356\n",
      " 0.683263   0.6947699  0.7060591  0.717186   0.7282353  0.73926145\n",
      " 0.7502876  0.76119536 0.77192646 0.782524   0.7930534  0.80321294\n",
      " 0.8133369  0.8232919  0.8328991  0.84236854 0.85161066 0.8606022\n",
      " 0.86945295 0.87822956 0.88675886 0.89527804 0.90369815 0.9119896\n",
      " 0.92024463 0.9280712  0.9353198  0.94235754 0.9487462  0.954257\n",
      " 0.95940924 0.9642799  0.96908367 0.97335106 0.97757995 0.981139\n",
      " 0.9839227  0.98658764 0.98900247 0.9912164  0.9929152  0.9942697\n",
      " 0.995513   0.9965113  0.9975095  0.9981425  0.99857813 0.9988527\n",
      " 0.99907935 0.9993035  0.99951166 0.99971795 0.999828   0.9999238\n",
      " 0.99995255 0.9999763  1.        ]\n",
      "precision: [0.99482512 0.99482512 0.99427557 0.99396789 0.99352045 0.99266545\n",
      " 0.99205473 0.9915967  0.9912405  0.99095554 0.9907224  0.99052811\n",
      " 0.99036371 0.99019773 0.99000982 0.98978859 0.98959328 0.98940754\n",
      " 0.98923111 0.98881731 0.9883619  0.98788409 0.98742875 0.9869953\n",
      " 0.98654388 0.98611656 0.985627   0.98517077 0.98474068 0.98426507\n",
      " 0.9837465  0.9831695  0.98248649 0.9818352  0.98118079 0.98053095\n",
      " 0.97979303 0.97901856 0.97826454 0.97753468 0.97679817 0.97606486\n",
      " 0.97536406 0.9746672  0.9739001  0.97305115 0.97222275 0.97137372\n",
      " 0.97042917 0.96933113 0.96795909 0.96659748 0.96525559 0.96396135\n",
      " 0.96267617 0.96140855 0.9598894  0.95820585 0.95647741 0.9547767\n",
      " 0.95313175 0.9513919  0.94949002 0.9474858  0.94546204 0.94306535\n",
      " 0.94069905 0.93820976 0.93540203 0.93252204 0.92947506 0.92624304\n",
      " 0.92295012 0.91966856 0.91621897 0.91284983 0.90946851 0.90604616\n",
      " 0.90267461 0.89897232 0.89480855 0.89054703 0.88578226 0.88032105\n",
      " 0.87466143 0.86887972 0.86317137 0.85712043 0.85117194 0.84477887\n",
      " 0.83786606 0.83100352 0.82408011 0.81713843 0.80992271 0.8025794\n",
      " 0.79529863 0.78797266 0.7807947  0.77347725 0.76615332 0.75885062\n",
      " 0.75165365 0.74459325 0.73765549 0.73084727 0.72409664 0.71746077\n",
      " 0.710899   0.704453   0.69812314]\n"
     ]
    }
   ],
   "source": [
    "print(\"probability:\", probability)\n",
    "print(\"expected duplicates:\", expected_dupes)\n",
    "print(\"recall:\",recall)\n",
    "print(\"precision:\",precision)"
   ]
  },
  {
   "cell_type": "code",
   "execution_count": 46,
   "metadata": {},
   "outputs": [
    {
     "data": {
      "image/png": "[encoded data removed]",
      "text/plain": [
       "<matplotlib.figure.Figure at 0x10c28bf98>"
      ]
     },
     "metadata": {},
     "output_type": "display_data"
    }
   ],
   "source": [
    "# Display the predicted precision-recall plot\n",
    "\n",
    "from sklearn.metrics import precision_recall_curve\n",
    "import matplotlib.pyplot as plt\n",
    "\n",
    "\n",
    "plt.step(recall, precision, color='b', alpha=.2, where='post')\n",
    "plt.fill_between(recall, precision, step='post', alpha=0.2,\n",
    "                 color='b')\n",
    "\n",
    "plt.xlabel('Recall')\n",
    "plt.ylabel('Precision')\n",
    "plt.ylim([0.0, 1.05])\n",
    "plt.xlim([0.0, 1.0])\n",
    "plt.title('Precision-Recall curve')\n",
    "plt.show()\n",
    "\n",
    "# PR curve looks nearly perfect due to small amounts of data"
   ]
  },
  {
   "cell_type": "markdown",
   "metadata": {},
   "source": [
    "Clustering"
   ]
  },
  {
   "cell_type": "code",
   "execution_count": 47,
   "metadata": {},
   "outputs": [
    {
     "name": "stderr",
     "output_type": "stream",
     "text": [
      "INFO:dedupe.api:0 records\n",
      "INFO:dedupe.api:100 records\n",
      "INFO:dedupe.api:200 records\n",
      "INFO:dedupe.api:300 records\n",
      "INFO:dedupe.api:400 records\n",
      "INFO:dedupe.api:500 records\n",
      "INFO:dedupe.api:600 records\n",
      "INFO:dedupe.api:700 records\n",
      "INFO:dedupe.api:800 records\n",
      "INFO:dedupe.api:900 records\n"
     ]
    },
    {
     "name": "stdout",
     "output_type": "stream",
     "text": [
      "Maximum expected recall and precision\n",
      "recall: %2.3f 0.94235754\n",
      "precision: %2.3f 0.8905470313095465\n",
      "With threshold: %2.3f 0.5453662\n",
      "Threshold to maximize expected F score = 0.5453662\n",
      "clustering...\n"
     ]
    }
   ],
   "source": [
    "# Find the threshold that will maximize a weighted average of our\n",
    "# precision and recall (F Score) for a sample of data.  When we set the recall weight to 2, we are\n",
    "# saying we care twice as much about recall as we do precision.\n",
    "#\n",
    "# The weighted avg, or F-score = 2tp/(2tp + fp + fn)\n",
    "# \n",
    "# In this case, set the recall_weight to .5- saying we care twice as much about precision\n",
    "# as we do recall. When matching the data, set the threshold closer to 1 to raise precision\n",
    "# \n",
    "# This is called hierarchical clustering with centroid linkage\n",
    "# Example- A is related to B, C is related to B, so those would all be clustered with B as centroid\n",
    "# The threshold determines the minimum probability for a record to be related to the centroid\n",
    "\n",
    "recall_weight = .9\n",
    "\n",
    "score = recall * precision / (recall + recall_weight ** 2 * precision)\n",
    "\n",
    "i = numpy.argmax(score)\n",
    "\n",
    "print('Maximum expected recall and precision')\n",
    "print('recall: %2.3f', recall[i])\n",
    "print('precision: %2.3f', precision[i])\n",
    "print('With threshold: %2.3f', probability[i])\n",
    "\n",
    "calcThreshold= probability[i]\n",
    "\n",
    "print(\"Threshold to maximize expected F score =\", calcThreshold )\n",
    "\n",
    "\n",
    "print('clustering...')\n",
    "linked_records = linker.match(data_1, data_2, threshold=calcThreshold)"
   ]
  },
  {
   "cell_type": "code",
   "execution_count": 48,
   "metadata": {},
   "outputs": [
    {
     "name": "stdout",
     "output_type": "stream",
     "text": [
      "# duplicate sets 60\n"
     ]
    }
   ],
   "source": [
    "print('# duplicate sets', len(linked_records))"
   ]
  },
  {
   "cell_type": "markdown",
   "metadata": {},
   "source": [
    "Write results"
   ]
  },
  {
   "cell_type": "code",
   "execution_count": 49,
   "metadata": {
    "collapsed": true
   },
   "outputs": [],
   "source": [
    "# Write our original data back out to a CSV with a new column called \n",
    "# 'Cluster ID' which indicates which records refer to each other.\n",
    "\n",
    "cluster_membership = {}\n",
    "cluster_id = None\n",
    "for cluster_id, (cluster, score) in enumerate(linked_records):\n",
    "    for record_id in cluster:\n",
    "        cluster_membership[record_id] = (cluster_id, score)\n",
    "\n",
    "if cluster_id :\n",
    "    unique_id = cluster_id + 1\n",
    "else :\n",
    "    unique_id =0"
   ]
  },
  {
   "cell_type": "code",
   "execution_count": 50,
   "metadata": {
    "collapsed": true
   },
   "outputs": [],
   "source": [
    "with open(output_file, 'w') as f:\n",
    "    writer = csv.writer(f)\n",
    "    \n",
    "    header_unwritten = True\n",
    "\n",
    "    for fileno, filename in enumerate(('company_addresses.csv', 'company_addresses_users.csv')) :\n",
    "        with open(filename) as f_input :\n",
    "            reader = csv.reader(f_input)\n",
    "\n",
    "            if header_unwritten :\n",
    "                heading_row = next(reader)\n",
    "                heading_row.insert(0, 'source file')\n",
    "                heading_row.insert(0, 'Link Score')\n",
    "                heading_row.insert(0, 'Cluster ID')\n",
    "                writer.writerow(heading_row)\n",
    "                header_unwritten = False\n",
    "            else :\n",
    "                next(reader)\n",
    "\n",
    "            for row_id, row in enumerate(reader):\n",
    "                cluster_details = cluster_membership.get(filename + str(row_id))\n",
    "                if cluster_details is None :\n",
    "                    cluster_id = unique_id\n",
    "                    unique_id += 1\n",
    "                    score = None\n",
    "                else :\n",
    "                    cluster_id, score = cluster_details\n",
    "                row.insert(0, fileno)\n",
    "                row.insert(0, score)\n",
    "                row.insert(0, cluster_id)\n",
    "                writer.writerow(row)"
   ]
  },
  {
   "cell_type": "code",
   "execution_count": 94,
   "metadata": {},
   "outputs": [
    {
     "name": "stdout",
     "output_type": "stream",
     "text": [
      "Enter the company name: ab tech\n",
      "Enter the address: internation house\n",
      "Enter the city name: london\n",
      "Enter the country: \n",
      "Enter the zip code: \n"
     ]
    }
   ],
   "source": [
    "name = input('Enter the company name: ')\n",
    "addr = input('Enter the address: ')\n",
    "city = input('Enter the city name: ')\n",
    "ctry = input('Enter the country: ')\n",
    "code = input('Enter the zip code: ')\n",
    "\n",
    "# create a new file that will contain the user's entry\n",
    "user_input_file = 'user_input_file.csv'\n",
    "with open (user_input_file, 'w', newline='') as csvfile:\n",
    "    fieldnames = ['id', 'name', 'addr', 'city', 'ctry', 'code']\n",
    "    writer = csv.DictWriter(csvfile, fieldnames=fieldnames)\n",
    "    writer.writeheader()\n",
    "    writer.writerow({'id' : \"1\", 'name':name, 'addr': addr, 'city':city, 'ctry':ctry, 'code':code})\n",
    "csvfile.close()\n",
    "\n",
    "#AB TECHSYS LTD \t INTERNATIONAL HOUSE 24 HOLBORN VIADUCT LONDON EC1A 2BN"
   ]
  },
  {
   "cell_type": "code",
   "execution_count": 95,
   "metadata": {
    "collapsed": true
   },
   "outputs": [],
   "source": [
    "data_entry = readData('user_input_file.csv')"
   ]
  },
  {
   "cell_type": "code",
   "execution_count": 96,
   "metadata": {
    "collapsed": true
   },
   "outputs": [],
   "source": [
    "# now, need to update the settings file and training file when user enters a new address"
   ]
  },
  {
   "cell_type": "code",
   "execution_count": 108,
   "metadata": {},
   "outputs": [
    {
     "name": "stderr",
     "output_type": "stream",
     "text": [
      "INFO:dedupe.api:0 records\n",
      "INFO:dedupe.api:100 records\n",
      "INFO:dedupe.api:200 records\n",
      "INFO:dedupe.api:300 records\n",
      "INFO:dedupe.api:400 records\n",
      "INFO:dedupe.api:500 records\n",
      "INFO:dedupe.api:600 records\n",
      "INFO:dedupe.api:700 records\n",
      "INFO:dedupe.api:800 records\n",
      "INFO:dedupe.api:900 records\n"
     ]
    },
    {
     "name": "stdout",
     "output_type": "stream",
     "text": [
      "error!\n"
     ]
    }
   ],
   "source": [
    "try:\n",
    "    match = linker.match(data_1, data_entry)\n",
    "except dedupe.core.BlockingError:\n",
    "     print(\"error!\")\n",
    "    "
   ]
  },
  {
   "cell_type": "code",
   "execution_count": 88,
   "metadata": {
    "collapsed": true
   },
   "outputs": [],
   "source": [
    "# import pickle\n",
    "# pickle.dump(readData, open(\"read_data_obj\", 'wb'))"
   ]
  },
  {
   "cell_type": "code",
   "execution_count": 89,
   "metadata": {
    "collapsed": true
   },
   "outputs": [],
   "source": [
    "# x = pickle.load(open(\"read_data_obj\",'rb'))"
   ]
  },
  {
   "cell_type": "code",
   "execution_count": 90,
   "metadata": {
    "collapsed": true,
    "scrolled": true
   },
   "outputs": [],
   "source": [
    "# x(\"company_addresses.csv\")"
   ]
  },
  {
   "cell_type": "code",
   "execution_count": null,
   "metadata": {},
   "outputs": [],
   "source": []
  },
  {
   "cell_type": "code",
   "execution_count": 98,
   "metadata": {},
   "outputs": [],
   "source": [
    "id = int(data_1[match[0][0][0]]['id'])"
   ]
  },
  {
   "cell_type": "code",
   "execution_count": 99,
   "metadata": {},
   "outputs": [
    {
     "name": "stdout",
     "output_type": "stream",
     "text": [
      "AB TECHSYS LTD INTERNATIONAL HOUSE 24 HOLBORN VIADUCT\n"
     ]
    }
   ],
   "source": [
    "with open('companies_final.csv', 'r') as my_file:\n",
    "    reader = csv.reader(my_file)\n",
    "    rows = list(reader)\n",
    "    print (rows[id][1] + \" \" + rows[id][2])"
   ]
  },
  {
   "cell_type": "code",
   "execution_count": null,
   "metadata": {
    "collapsed": true
   },
   "outputs": [],
   "source": []
  }
 ],
 "metadata": {
  "kernelspec": {
   "display_name": "Python 3",
   "language": "python",
   "name": "python3"
  },
  "language_info": {
   "codemirror_mode": {
    "name": "ipython",
    "version": 3
   },
   "file_extension": ".py",
   "mimetype": "text/x-python",
   "name": "python",
   "nbconvert_exporter": "python",
   "pygments_lexer": "ipython3",
   "version": "3.6.1"
  }
 },
 "nbformat": 4,
 "nbformat_minor": 2
}
