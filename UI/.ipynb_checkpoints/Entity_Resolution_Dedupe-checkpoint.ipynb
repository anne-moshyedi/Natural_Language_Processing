{
 "cells": [
  {
   "cell_type": "markdown",
   "metadata": {},
   "source": [
    "# Entity Resolution- Dedupe Model"
   ]
  },
  {
   "cell_type": "code",
   "execution_count": 1,
   "metadata": {
    "collapsed": true
   },
   "outputs": [],
   "source": [
    "# Import Statements\n",
    "from __future__ import print_function\n",
    "from future.builtins import next\n",
    "\n",
    "import os\n",
    "import csv\n",
    "import re\n",
    "import collections\n",
    "import numpy\n",
    "\n",
    "import dedupe\n",
    "from unidecode import unidecode"
   ]
  },
  {
   "cell_type": "markdown",
   "metadata": {},
   "source": [
    "Setup"
   ]
  },
  {
   "cell_type": "code",
   "execution_count": 2,
   "metadata": {
    "collapsed": true
   },
   "outputs": [],
   "source": [
    "# the output_file will store the results of the record linkage deduplication\n",
    "output_file = 'data_matching_output.csv'\n",
    "\n",
    "# the settings file will contain the data model and predicates that determine matches\n",
    "settings_file = 'data_matching_learned_settings'\n",
    "\n",
    "# the training_file will contain the pairs of labeled examples that the model was trained on\n",
    "training_file = 'data_matching_training.json'\n"
   ]
  },
  {
   "cell_type": "code",
   "execution_count": 3,
   "metadata": {
    "collapsed": true
   },
   "outputs": [],
   "source": [
    "# method to clean the data using Unidecode and Regex\n",
    "\n",
    "def preProcess(column):\n",
    "    # convert any unicode data into ASCII characters\n",
    "    column = unidecode(column)\n",
    "    # ignore new lines\n",
    "    column = re.sub('\\n', ' ', column)\n",
    "    # ignore special characters\n",
    "    column = re.sub('-', '', column)\n",
    "    column = re.sub('/', ' ', column)\n",
    "    column = re.sub(\"'\", '', column)\n",
    "    column = re.sub(\",\", '', column)\n",
    "    column = re.sub(\":\", ' ', column)\n",
    "    # ignore extra white space\n",
    "    column = re.sub('  +', ' ', column)\n",
    "    # ignore casing\n",
    "    column = column.strip().strip('\"').strip(\"'\").lower().strip()\n",
    "    if not column :\n",
    "        column = None\n",
    "    return column\n"
   ]
  },
  {
   "cell_type": "code",
   "execution_count": 4,
   "metadata": {
    "collapsed": true
   },
   "outputs": [],
   "source": [
    "# Read the data from the CSV and create a dictionary of addresses\n",
    "\n",
    "def readData(filename):\n",
    "    \n",
    "    # initialize the dictionary\n",
    "    data_d = {}\n",
    "\n",
    "    # read each row in the CSV, clean the data, and it to a dictionary\n",
    "    with open(filename) as f:\n",
    "        reader = csv.DictReader(f)\n",
    "        for i, row in enumerate(reader):\n",
    "            clean_row = dict([(k, preProcess(v)) for (k, v) in row.items()])\n",
    "            # each address will have a unique ID consisting of the file name and a unique number\n",
    "            data_d[filename + str(i)] = dict(clean_row)\n",
    "\n",
    "    return data_d"
   ]
  },
  {
   "cell_type": "code",
   "execution_count": 5,
   "metadata": {
    "collapsed": true
   },
   "outputs": [],
   "source": [
    "# Import the data\n",
    "data_1 = readData('addresses.csv')\n",
    "data_2 = readData('user_entries.csv')"
   ]
  },
  {
   "cell_type": "markdown",
   "metadata": {},
   "source": [
    "Train the model"
   ]
  },
  {
   "cell_type": "code",
   "execution_count": 6,
   "metadata": {},
   "outputs": [
    {
     "name": "stderr",
     "output_type": "stream",
     "text": [
      "title : 425 route 31\n",
      "description : macedon ny 14502\n",
      "\n",
      "title : 506 state road\n",
      "description : None\n",
      "\n",
      "0/10 positive, 0/10 negative\n",
      "Do these records refer to the same thing?\n",
      "(y)es / (n)o / (u)nsure / (f)inished\n"
     ]
    },
    {
     "name": "stdout",
     "output_type": "stream",
     "text": [
      "starting active labeling...\n",
      "N\n"
     ]
    },
    {
     "name": "stderr",
     "output_type": "stream",
     "text": [
      "(y)es / (n)o / (u)nsure / (f)inished\n"
     ]
    },
    {
     "name": "stdout",
     "output_type": "stream",
     "text": [
      "n\n"
     ]
    },
    {
     "name": "stderr",
     "output_type": "stream",
     "text": [
      "title : 969 us hwy 80 west\n",
      "description : demopolis al 36732\n",
      "\n",
      "title : quincy ma 2169\n",
      "description : 301 falls blvd\n",
      "\n",
      "0/10 positive, 1/10 negative\n",
      "Do these records refer to the same thing?\n",
      "(y)es / (n)o / (u)nsure / (f)inished / (p)revious\n"
     ]
    },
    {
     "name": "stdout",
     "output_type": "stream",
     "text": [
      "n\n"
     ]
    },
    {
     "name": "stderr",
     "output_type": "stream",
     "text": [
      "title : 555 hubbard avesuite 12\n",
      "description : pittsfield ma 1201\n",
      "\n",
      "title : 555 hubbard avenue 12\n",
      "description : pittsfield ma 1201\n",
      "\n",
      "0/10 positive, 2/10 negative\n",
      "Do these records refer to the same thing?\n",
      "(y)es / (n)o / (u)nsure / (f)inished / (p)revious\n"
     ]
    },
    {
     "name": "stdout",
     "output_type": "stream",
     "text": [
      "yn\n"
     ]
    },
    {
     "name": "stderr",
     "output_type": "stream",
     "text": [
      "(y)es / (n)o / (u)nsure / (f)inished / (p)revious\n"
     ]
    },
    {
     "name": "stdout",
     "output_type": "stream",
     "text": [
      "y\n"
     ]
    },
    {
     "name": "stderr",
     "output_type": "stream",
     "text": [
      "title : 555 hubbard avesuite 12\n",
      "description : pittsfield ma 1201\n",
      "\n",
      "title : 555 hubbard ave\n",
      "description : pittsfield ma 1201\n",
      "\n",
      "1/10 positive, 2/10 negative\n",
      "Do these records refer to the same thing?\n",
      "(y)es / (n)o / (u)nsure / (f)inished / (p)revious\n"
     ]
    },
    {
     "name": "stdout",
     "output_type": "stream",
     "text": [
      "y\n"
     ]
    },
    {
     "name": "stderr",
     "output_type": "stream",
     "text": [
      "INFO:dedupe.training:Final predicate set:\n",
      "INFO:dedupe.training:(LevenshteinSearchPredicate: (3, title), SimplePredicate: (fingerprint, description))\n",
      "title : 101 sanford farm shpg center\n",
      "description : amsterdam ny 12010\n",
      "\n",
      "title : 101 stanford farm shopping center\n",
      "description : amsterdam ny 12010\n",
      "\n",
      "2/10 positive, 2/10 negative\n",
      "Do these records refer to the same thing?\n",
      "(y)es / (n)o / (u)nsure / (f)inished / (p)revious\n"
     ]
    },
    {
     "name": "stdout",
     "output_type": "stream",
     "text": [
      "y\n"
     ]
    },
    {
     "name": "stderr",
     "output_type": "stream",
     "text": [
      "INFO:dedupe.training:Final predicate set:\n",
      "INFO:dedupe.training:(SimplePredicate: (fingerprint, description), SimplePredicate: (sameSevenCharStartPredicate, title))\n",
      "title : 280 washington street\n",
      "description : hudson ma 1749\n",
      "\n",
      "title : 200 otis street northborough ma 1532\n",
      "description : None\n",
      "\n",
      "3/10 positive, 2/10 negative\n",
      "Do these records refer to the same thing?\n",
      "(y)es / (n)o / (u)nsure / (f)inished / (p)revious\n"
     ]
    },
    {
     "name": "stdout",
     "output_type": "stream",
     "text": [
      "n\n"
     ]
    },
    {
     "name": "stderr",
     "output_type": "stream",
     "text": [
      "INFO:dedupe.training:Final predicate set:\n",
      "INFO:dedupe.training:(SimplePredicate: (fingerprint, description), TfidfTextSearchPredicate: (0.4, title))\n",
      "title : 579 troyschenectady road\n",
      "description : latham ny 12110\n",
      "\n",
      "title : 570 schenectady road\n",
      "description : latham ny 12110\n",
      "\n",
      "3/10 positive, 3/10 negative\n",
      "Do these records refer to the same thing?\n",
      "(y)es / (n)o / (u)nsure / (f)inished / (p)revious\n"
     ]
    },
    {
     "name": "stdout",
     "output_type": "stream",
     "text": [
      "y\n"
     ]
    },
    {
     "name": "stderr",
     "output_type": "stream",
     "text": [
      "title : 579 troyschenectady road\n",
      "description : latham ny 12110\n",
      "\n",
      "title : 579 troy schenectady street\n",
      "description : latham ny 12110\n",
      "\n",
      "4/10 positive, 3/10 negative\n",
      "Do these records refer to the same thing?\n",
      "(y)es / (n)o / (u)nsure / (f)inished / (p)revious\n"
     ]
    },
    {
     "name": "stdout",
     "output_type": "stream",
     "text": [
      "y\n"
     ]
    },
    {
     "name": "stderr",
     "output_type": "stream",
     "text": [
      "INFO:dedupe.training:Final predicate set:\n",
      "INFO:dedupe.training:(SimplePredicate: (fingerprint, description), TfidfNGramSearchPredicate: (0.6, title))\n",
      "title : 11610 memorial pkwy south\n",
      "description : huntsville al 35803\n",
      "\n",
      "title : lynwy\n",
      "description : lynnway ma\n",
      "\n",
      "5/10 positive, 3/10 negative\n",
      "Do these records refer to the same thing?\n",
      "(y)es / (n)o / (u)nsure / (f)inished / (p)revious\n"
     ]
    },
    {
     "name": "stdout",
     "output_type": "stream",
     "text": [
      "n\n"
     ]
    },
    {
     "name": "stderr",
     "output_type": "stream",
     "text": [
      "title : 2 gannett dr\n",
      "description : johnson city ny 13790\n",
      "\n",
      "title : 2 gannetttt driveeee\n",
      "description : johnson city new york! 13790\n",
      "\n",
      "5/10 positive, 4/10 negative\n",
      "Do these records refer to the same thing?\n",
      "(y)es / (n)o / (u)nsure / (f)inished / (p)revious\n"
     ]
    },
    {
     "name": "stdout",
     "output_type": "stream",
     "text": [
      "y\n"
     ]
    },
    {
     "name": "stderr",
     "output_type": "stream",
     "text": [
      "title : 2575 us hwy 43\n",
      "description : winfield al 35594\n",
      "\n",
      "title : 2575 us hwy 43\n",
      "description : winfield al 35589\n",
      "\n",
      "6/10 positive, 4/10 negative\n",
      "Do these records refer to the same thing?\n",
      "(y)es / (n)o / (u)nsure / (f)inished / (p)revious\n"
     ]
    },
    {
     "name": "stdout",
     "output_type": "stream",
     "text": [
      "y\n"
     ]
    },
    {
     "name": "stderr",
     "output_type": "stream",
     "text": [
      "INFO:dedupe.training:Final predicate set:\n",
      "INFO:dedupe.training:(TfidfNGramSearchPredicate: (0.6, title), TfidfNGramSearchPredicate: (0.8, description))\n",
      "title : 625 school street\n",
      "description : putnam ct 6260\n",
      "\n",
      "title : 000 school st\n",
      "description : putnam ct 6260\n",
      "\n",
      "7/10 positive, 4/10 negative\n",
      "Do these records refer to the same thing?\n",
      "(y)es / (n)o / (u)nsure / (f)inished / (p)revious\n"
     ]
    },
    {
     "name": "stdout",
     "output_type": "stream",
     "text": [
      "y\n"
     ]
    },
    {
     "name": "stderr",
     "output_type": "stream",
     "text": [
      "INFO:dedupe.training:Final predicate set:\n",
      "INFO:dedupe.training:(TfidfNGramSearchPredicate: (0.6, title), TfidfNGramSearchPredicate: (0.8, description))\n",
      "INFO:dedupe.training:(PartialPredicate: (alphaNumericPredicate, title, StreetName), SimplePredicate: (wholeFieldPredicate, title))\n",
      "title : 145 kelley blvd\n",
      "description : millbrook al 36054\n",
      "\n",
      "title : 1450 kelly boulevard\n",
      "description : millbrook al 36609\n",
      "\n",
      "8/10 positive, 4/10 negative\n",
      "Do these records refer to the same thing?\n",
      "(y)es / (n)o / (u)nsure / (f)inished / (p)revious\n"
     ]
    },
    {
     "name": "stdout",
     "output_type": "stream",
     "text": [
      "y\n"
     ]
    },
    {
     "name": "stderr",
     "output_type": "stream",
     "text": [
      "title : 2001 glenn bldv sw\n",
      "description : fort payne al 35968\n",
      "\n",
      "title : 2000 glenn boulevard south west\n",
      "description : fort payne al 35968\n",
      "\n",
      "9/10 positive, 4/10 negative\n",
      "Do these records refer to the same thing?\n",
      "(y)es / (n)o / (u)nsure / (f)inished / (p)revious\n"
     ]
    },
    {
     "name": "stdout",
     "output_type": "stream",
     "text": [
      "y\n"
     ]
    },
    {
     "name": "stderr",
     "output_type": "stream",
     "text": [
      "INFO:dedupe.training:Final predicate set:\n",
      "INFO:dedupe.training:(TfidfNGramSearchPredicate: (0.4, title), TfidfNGramSearchPredicate: (0.8, description))\n",
      "INFO:dedupe.training:(PartialPredicate: (alphaNumericPredicate, title, StreetName), SimplePredicate: (wholeFieldPredicate, title))\n",
      "title : 555 hubbard avesuite 12\n",
      "description : pittsfield ma 1201\n",
      "\n",
      "title : 555 hubbrd ave\n",
      "description : pittsfield massachusetts 2001\n",
      "\n",
      "10/10 positive, 4/10 negative\n",
      "Do these records refer to the same thing?\n",
      "(y)es / (n)o / (u)nsure / (f)inished / (p)revious\n"
     ]
    },
    {
     "name": "stdout",
     "output_type": "stream",
     "text": [
      "y\n"
     ]
    },
    {
     "name": "stderr",
     "output_type": "stream",
     "text": [
      "title : 4206 n college ave\n",
      "description : jackson al 36545\n",
      "\n",
      "title : 4260 north college avenue\n",
      "description : jackson atlanta 36545\n",
      "\n",
      "11/10 positive, 4/10 negative\n",
      "Do these records refer to the same thing?\n",
      "(y)es / (n)o / (u)nsure / (f)inished / (p)revious\n"
     ]
    },
    {
     "name": "stdout",
     "output_type": "stream",
     "text": [
      "y\n"
     ]
    },
    {
     "name": "stderr",
     "output_type": "stream",
     "text": [
      "INFO:dedupe.training:Final predicate set:\n",
      "INFO:dedupe.training:(SimplePredicate: (firstTokenPredicate, description), TfidfNGramSearchPredicate: (0.4, title))\n",
      "title : 279 troy road\n",
      "description : east greenbush ny 12061\n",
      "\n",
      "title : 579 troy schednectady rd\n",
      "description : latham ny 12110\n",
      "\n",
      "12/10 positive, 4/10 negative\n",
      "Do these records refer to the same thing?\n",
      "(y)es / (n)o / (u)nsure / (f)inished / (p)revious\n"
     ]
    },
    {
     "name": "stdout",
     "output_type": "stream",
     "text": [
      "y\n"
     ]
    },
    {
     "name": "stderr",
     "output_type": "stream",
     "text": [
      "title : 2575 us hwy 43\n",
      "description : winfield al 35594\n",
      "\n",
      "title : 2575 us hwy 43\n",
      "description : winston al 35594\n",
      "\n",
      "13/10 positive, 4/10 negative\n",
      "Do these records refer to the same thing?\n",
      "(y)es / (n)o / (u)nsure / (f)inished / (p)revious\n"
     ]
    },
    {
     "name": "stdout",
     "output_type": "stream",
     "text": [
      "y\n"
     ]
    },
    {
     "name": "stderr",
     "output_type": "stream",
     "text": [
      "INFO:dedupe.training:Final predicate set:\n",
      "INFO:dedupe.training:(PartialPredicate: (commonFourGram, title, StreetName), TfidfNGramSearchPredicate: (0.4, title))\n",
      "INFO:dedupe.training:(LevenshteinSearchPredicate: (3, title), SimplePredicate: (firstTokenPredicate, description))\n",
      "title : 11697 us hwy 431\n",
      "description : guntersville al 35976\n",
      "\n",
      "title : 2575 us hwy 43\n",
      "description : winston al 35594\n",
      "\n",
      "14/10 positive, 4/10 negative\n",
      "Do these records refer to the same thing?\n",
      "(y)es / (n)o / (u)nsure / (f)inished / (p)revious\n"
     ]
    },
    {
     "name": "stdout",
     "output_type": "stream",
     "text": [
      "y\n"
     ]
    },
    {
     "name": "stderr",
     "output_type": "stream",
     "text": [
      "INFO:dedupe.training:Final predicate set:\n",
      "INFO:dedupe.training:(PartialPredicate: (commonFourGram, title, StreetName), TfidfNGramSearchPredicate: (0.4, title))\n",
      "INFO:dedupe.training:(PartialPredicate: (alphaNumericPredicate, title, StreetName), SimplePredicate: (wholeFieldPredicate, title))\n",
      "INFO:dedupe.training:(LevenshteinSearchPredicate: (3, title), SimplePredicate: (fingerprint, description))\n",
      "title : 2200 south mckenzie st\n",
      "description : foley al 36535\n",
      "\n",
      "title : 310 route 9 west\n",
      "description : glenmont ny 12077\n",
      "\n",
      "15/10 positive, 4/10 negative\n",
      "Do these records refer to the same thing?\n",
      "(y)es / (n)o / (u)nsure / (f)inished / (p)revious\n"
     ]
    },
    {
     "name": "stdout",
     "output_type": "stream",
     "text": [
      "n\n"
     ]
    },
    {
     "name": "stderr",
     "output_type": "stream",
     "text": [
      "INFO:dedupe.training:Final predicate set:\n",
      "INFO:dedupe.training:(PartialPredicate: (commonFourGram, title, StreetName), TfidfNGramSearchPredicate: (0.4, title))\n",
      "INFO:dedupe.training:(PartialPredicate: (alphaNumericPredicate, title, StreetName), SimplePredicate: (wholeFieldPredicate, title))\n",
      "INFO:dedupe.training:(TfidfNGramSearchPredicate: (0.2, description), TfidfTextSearchPredicate: (0.6, title))\n",
      "title : 235 queen st\n",
      "description : southington ct 6489\n",
      "\n",
      "title : 200 hynes strt\n",
      "description : talladega al\n",
      "\n",
      "15/10 positive, 5/10 negative\n",
      "Do these records refer to the same thing?\n",
      "(y)es / (n)o / (u)nsure / (f)inished / (p)revious\n"
     ]
    },
    {
     "name": "stdout",
     "output_type": "stream",
     "text": [
      "n\n"
     ]
    },
    {
     "name": "stderr",
     "output_type": "stream",
     "text": [
      "title : 1300 montgomery highway\n",
      "description : vestavia hills al 35216\n",
      "\n",
      "title : 1300 highway\n",
      "description : vestaviahills al 352160000\n",
      "\n",
      "15/10 positive, 6/10 negative\n",
      "Do these records refer to the same thing?\n",
      "(y)es / (n)o / (u)nsure / (f)inished / (p)revious\n"
     ]
    },
    {
     "name": "stdout",
     "output_type": "stream",
     "text": [
      "y\n"
     ]
    },
    {
     "name": "stderr",
     "output_type": "stream",
     "text": [
      "title : 1450 no brindlee mtn pkwy\n",
      "description : arab al 35016\n",
      "\n",
      "title : 1300 highway\n",
      "description : vestaviahills al 352160000\n",
      "\n",
      "16/10 positive, 6/10 negative\n",
      "Do these records refer to the same thing?\n",
      "(y)es / (n)o / (u)nsure / (f)inished / (p)revious\n"
     ]
    },
    {
     "name": "stdout",
     "output_type": "stream",
     "text": [
      "n\n"
     ]
    },
    {
     "name": "stderr",
     "output_type": "stream",
     "text": [
      "INFO:dedupe.training:Final predicate set:\n",
      "INFO:dedupe.training:(SimplePredicate: (commonFourGram, description), SimplePredicate: (commonSixGram, title))\n",
      "INFO:dedupe.training:(PartialPredicate: (doubleMetaphone, title, StreetName), SimplePredicate: (sameThreeCharStartPredicate, title))\n",
      "title : 16077 highway 280\n",
      "description : chelsea al 35043\n",
      "\n",
      "title : montgomery highway\n",
      "description : vestavia hills al 35216\n",
      "\n",
      "16/10 positive, 7/10 negative\n",
      "Do these records refer to the same thing?\n",
      "(y)es / (n)o / (u)nsure / (f)inished / (p)revious\n"
     ]
    },
    {
     "name": "stdout",
     "output_type": "stream",
     "text": [
      "n\n"
     ]
    },
    {
     "name": "stderr",
     "output_type": "stream",
     "text": [
      "title : 333 main street\n",
      "description : tewksbury ma 1876\n",
      "\n",
      "title : mn street 333\n",
      "description : twekberry ma\n",
      "\n",
      "16/10 positive, 8/10 negative\n",
      "Do these records refer to the same thing?\n",
      "(y)es / (n)o / (u)nsure / (f)inished / (p)revious\n"
     ]
    },
    {
     "name": "stdout",
     "output_type": "stream",
     "text": [
      "y\n"
     ]
    },
    {
     "name": "stderr",
     "output_type": "stream",
     "text": [
      "title : 1105 boston road\n",
      "description : springfield ma 1119\n",
      "\n",
      "title : boston road 1105\n",
      "description : spring mass 2771\n",
      "\n",
      "17/10 positive, 8/10 negative\n",
      "Do these records refer to the same thing?\n",
      "(y)es / (n)o / (u)nsure / (f)inished / (p)revious\n"
     ]
    },
    {
     "name": "stdout",
     "output_type": "stream",
     "text": [
      "y\n"
     ]
    },
    {
     "name": "stderr",
     "output_type": "stream",
     "text": [
      "title : 555 hubbard avesuite 12\n",
      "description : pittsfield ma 1201\n",
      "\n",
      "title : lynwy\n",
      "description : lynnway ma\n",
      "\n",
      "18/10 positive, 8/10 negative\n",
      "Do these records refer to the same thing?\n",
      "(y)es / (n)o / (u)nsure / (f)inished / (p)revious\n"
     ]
    },
    {
     "name": "stdout",
     "output_type": "stream",
     "text": [
      "n\n"
     ]
    },
    {
     "name": "stderr",
     "output_type": "stream",
     "text": [
      "title : 4538 us hwy 231\n",
      "description : wetumpka al 36092\n",
      "\n",
      "title : 2575 united states hwy 43\n",
      "description : winfield al 35594\n",
      "\n",
      "18/10 positive, 9/10 negative\n",
      "Do these records refer to the same thing?\n",
      "(y)es / (n)o / (u)nsure / (f)inished / (p)revious\n"
     ]
    },
    {
     "name": "stdout",
     "output_type": "stream",
     "text": [
      "n\n"
     ]
    },
    {
     "name": "stderr",
     "output_type": "stream",
     "text": [
      "title : 1201 rt 300\n",
      "description : newburgh ny 12550\n",
      "\n",
      "title : 100 sanford farm shopping center\n",
      "description : amsterdam ny 12010\n",
      "\n",
      "18/10 positive, 10/10 negative\n",
      "Do these records refer to the same thing?\n",
      "(y)es / (n)o / (u)nsure / (f)inished / (p)revious\n"
     ]
    },
    {
     "name": "stdout",
     "output_type": "stream",
     "text": [
      "n\n"
     ]
    },
    {
     "name": "stderr",
     "output_type": "stream",
     "text": [
      "title : 280 washington street\n",
      "description : hudson ma 1749\n",
      "\n",
      "title : fussell\n",
      "description : hadley ma\n",
      "\n",
      "18/10 positive, 11/10 negative\n",
      "Do these records refer to the same thing?\n",
      "(y)es / (n)o / (u)nsure / (f)inished / (p)revious\n"
     ]
    },
    {
     "name": "stdout",
     "output_type": "stream",
     "text": [
      "n\n"
     ]
    },
    {
     "name": "stderr",
     "output_type": "stream",
     "text": [
      "title : 279 troy road\n",
      "description : east greenbush ny 12061\n",
      "\n",
      "title : 579 troy schenectady street\n",
      "description : latham ny 12110\n",
      "\n",
      "18/10 positive, 12/10 negative\n",
      "Do these records refer to the same thing?\n",
      "(y)es / (n)o / (u)nsure / (f)inished / (p)revious\n"
     ]
    },
    {
     "name": "stdout",
     "output_type": "stream",
     "text": [
      "n\n"
     ]
    },
    {
     "name": "stderr",
     "output_type": "stream",
     "text": [
      "title : 1000 state route 36\n",
      "description : hornell ny 14843\n",
      "\n",
      "title : #506 state\n",
      "description : north dartmouth ma 2747\n",
      "\n",
      "18/10 positive, 13/10 negative\n",
      "Do these records refer to the same thing?\n",
      "(y)es / (n)o / (u)nsure / (f)inished / (p)revious\n"
     ]
    },
    {
     "name": "stdout",
     "output_type": "stream",
     "text": [
      "n\n"
     ]
    },
    {
     "name": "stderr",
     "output_type": "stream",
     "text": [
      "title : 311 rt 9w\n",
      "description : glenmont ny 12077\n",
      "\n",
      "title : 310 route 9 west\n",
      "description : glenmont ny 12077\n",
      "\n",
      "18/10 positive, 14/10 negative\n",
      "Do these records refer to the same thing?\n",
      "(y)es / (n)o / (u)nsure / (f)inished / (p)revious\n"
     ]
    },
    {
     "name": "stdout",
     "output_type": "stream",
     "text": [
      "y\n"
     ]
    },
    {
     "name": "stderr",
     "output_type": "stream",
     "text": [
      "title : 3176 south eufaula avenue\n",
      "description : eufaula al 36027\n",
      "\n",
      "title : 4206 south college avenue\n",
      "description : jachsonville al 36545\n",
      "\n",
      "19/10 positive, 14/10 negative\n",
      "Do these records refer to the same thing?\n",
      "(y)es / (n)o / (u)nsure / (f)inished / (p)revious\n"
     ]
    },
    {
     "name": "stdout",
     "output_type": "stream",
     "text": [
      "n\n"
     ]
    },
    {
     "name": "stderr",
     "output_type": "stream",
     "text": [
      "INFO:dedupe.training:Final predicate set:\n",
      "INFO:dedupe.training:(SimplePredicate: (commonFourGram, description), SimplePredicate: (commonSixGram, title))\n",
      "INFO:dedupe.training:(PartialIndexLevenshteinSearchPredicate: (1, title, StreetName), TfidfNGramSearchPredicate: (0.8, description))\n",
      "title : 200 otis street\n",
      "description : northborough ma 1532\n",
      "\n",
      "title : 200 otis street northborough ma 1532\n",
      "description : None\n",
      "\n",
      "19/10 positive, 15/10 negative\n",
      "Do these records refer to the same thing?\n",
      "(y)es / (n)o / (u)nsure / (f)inished / (p)revious\n"
     ]
    },
    {
     "name": "stdout",
     "output_type": "stream",
     "text": [
      "y\n"
     ]
    },
    {
     "name": "stderr",
     "output_type": "stream",
     "text": [
      "title : 6265 brockport spencerport rd\n",
      "description : brockport ny 14420\n",
      "\n",
      "title : 506 state road\n",
      "description : None\n",
      "\n",
      "20/10 positive, 15/10 negative\n",
      "Do these records refer to the same thing?\n",
      "(y)es / (n)o / (u)nsure / (f)inished / (p)revious\n"
     ]
    },
    {
     "name": "stdout",
     "output_type": "stream",
     "text": [
      "n\n"
     ]
    },
    {
     "name": "stderr",
     "output_type": "stream",
     "text": [
      "INFO:dedupe.training:Final predicate set:\n",
      "INFO:dedupe.training:(SimplePredicate: (commonFourGram, description), SimplePredicate: (commonSixGram, title))\n",
      "INFO:dedupe.training:(PartialIndexLevenshteinSearchPredicate: (1, title, StreetName), TfidfNGramSearchPredicate: (0.8, description))\n",
      "INFO:dedupe.training:(PartialPredicate: (metaphoneToken, title, StreetName), SimplePredicate: (commonThreeTokens, title))\n",
      "title : 1818 state route 3\n",
      "description : fulton ny 13069\n",
      "\n",
      "title : 506 state road\n",
      "description : None\n",
      "\n",
      "20/10 positive, 16/10 negative\n",
      "Do these records refer to the same thing?\n",
      "(y)es / (n)o / (u)nsure / (f)inished / (p)revious\n"
     ]
    },
    {
     "name": "stdout",
     "output_type": "stream",
     "text": [
      "n\n"
     ]
    },
    {
     "name": "stderr",
     "output_type": "stream",
     "text": [
      "title : 4180 us hwy 431\n",
      "description : roanoke al 36274\n",
      "\n",
      "title : 2575 us hwy 43\n",
      "description : winfield al 355944590\n",
      "\n",
      "20/10 positive, 17/10 negative\n",
      "Do these records refer to the same thing?\n",
      "(y)es / (n)o / (u)nsure / (f)inished / (p)revious\n"
     ]
    },
    {
     "name": "stdout",
     "output_type": "stream",
     "text": [
      "n\n"
     ]
    },
    {
     "name": "stderr",
     "output_type": "stream",
     "text": [
      "title : 3176 south eufaula avenue\n",
      "description : eufaula al 36027\n",
      "\n",
      "title : 3371 southern alabam ave\n",
      "description : monroeville al 36460\n",
      "\n",
      "20/10 positive, 18/10 negative\n",
      "Do these records refer to the same thing?\n",
      "(y)es / (n)o / (u)nsure / (f)inished / (p)revious\n"
     ]
    },
    {
     "name": "stdout",
     "output_type": "stream",
     "text": [
      "n\n"
     ]
    },
    {
     "name": "stderr",
     "output_type": "stream",
     "text": [
      "title : 311 rt 9w\n",
      "description : glenmont ny 12077\n",
      "\n",
      "title : 310 route 9\n",
      "description : glen ny 12077\n",
      "\n",
      "20/10 positive, 19/10 negative\n",
      "Do these records refer to the same thing?\n",
      "(y)es / (n)o / (u)nsure / (f)inished / (p)revious\n"
     ]
    },
    {
     "name": "stdout",
     "output_type": "stream",
     "text": [
      "y\n"
     ]
    },
    {
     "name": "stderr",
     "output_type": "stream",
     "text": [
      "title : 4180 us hwy 431\n",
      "description : roanoke al 36274\n",
      "\n",
      "title : 2470 us hwy 43\n",
      "description : winfield al 35594\n",
      "\n",
      "21/10 positive, 19/10 negative\n",
      "Do these records refer to the same thing?\n",
      "(y)es / (n)o / (u)nsure / (f)inished / (p)revious\n"
     ]
    },
    {
     "name": "stdout",
     "output_type": "stream",
     "text": [
      "n\n"
     ]
    },
    {
     "name": "stderr",
     "output_type": "stream",
     "text": [
      "INFO:dedupe.training:Final predicate set:\n",
      "INFO:dedupe.training:(SimplePredicate: (commonFourGram, description), SimplePredicate: (commonSixGram, title))\n",
      "INFO:dedupe.training:(PartialIndexLevenshteinSearchPredicate: (1, title, StreetName), SimplePredicate: (commonTwoTokens, description))\n",
      "INFO:dedupe.training:(PartialPredicate: (metaphoneToken, title, StreetName), SimplePredicate: (commonThreeTokens, title))\n",
      "title : 555 hubbard avesuite 12\n",
      "description : pittsfield ma 1201\n",
      "\n",
      "title : 300 hubbrd ave12\n",
      "description : pittsfield ma 1201\n",
      "\n",
      "21/10 positive, 20/10 negative\n",
      "Do these records refer to the same thing?\n",
      "(y)es / (n)o / (u)nsure / (f)inished / (p)revious\n"
     ]
    },
    {
     "name": "stdout",
     "output_type": "stream",
     "text": [
      "y\n"
     ]
    },
    {
     "name": "stderr",
     "output_type": "stream",
     "text": [
      "title : 2400 route 9\n",
      "description : fishkill ny 12524\n",
      "\n",
      "title : 310 route 9\n",
      "description : glen ny 12077\n",
      "\n",
      "22/10 positive, 20/10 negative\n",
      "Do these records refer to the same thing?\n",
      "(y)es / (n)o / (u)nsure / (f)inished / (p)revious\n"
     ]
    },
    {
     "name": "stdout",
     "output_type": "stream",
     "text": [
      "n\n"
     ]
    },
    {
     "name": "stderr",
     "output_type": "stream",
     "text": [
      "INFO:dedupe.training:Final predicate set:\n",
      "INFO:dedupe.training:(SimplePredicate: (sameSevenCharStartPredicate, description), TfidfNGramSearchPredicate: (0.2, title))\n",
      "INFO:dedupe.training:(SimplePredicate: (commonFourGram, description), SimplePredicate: (doubleMetaphone, title))\n",
      "INFO:dedupe.training:(PartialPredicate: (commonFourGram, title, StreetName), PartialPredicate: (firstTokenPredicate, title, StreetName))\n",
      "title : 279 troy road\n",
      "description : east greenbush ny 12061\n",
      "\n",
      "title : 579 troy rd\n",
      "description : latham ny 12110\n",
      "\n",
      "22/10 positive, 21/10 negative\n",
      "Do these records refer to the same thing?\n",
      "(y)es / (n)o / (u)nsure / (f)inished / (p)revious\n"
     ]
    },
    {
     "name": "stdout",
     "output_type": "stream",
     "text": [
      "y\n"
     ]
    },
    {
     "name": "stderr",
     "output_type": "stream",
     "text": [
      "title : 4975 transit rd\n",
      "description : lancaster ny 14086\n",
      "\n",
      "title : 579 south transit road\n",
      "description : lockport ny 14094\n",
      "\n",
      "23/10 positive, 21/10 negative\n",
      "Do these records refer to the same thing?\n",
      "(y)es / (n)o / (u)nsure / (f)inished / (p)revious\n"
     ]
    },
    {
     "name": "stdout",
     "output_type": "stream",
     "text": [
      "y\n"
     ]
    },
    {
     "name": "stderr",
     "output_type": "stream",
     "text": [
      "title : 4310 montgomery hwy\n",
      "description : dothan al 36303\n",
      "\n",
      "title : montgomery highway\n",
      "description : vestavia hills al 35216\n",
      "\n",
      "24/10 positive, 21/10 negative\n",
      "Do these records refer to the same thing?\n",
      "(y)es / (n)o / (u)nsure / (f)inished / (p)revious\n"
     ]
    },
    {
     "name": "stdout",
     "output_type": "stream",
     "text": [
      "n\n"
     ]
    },
    {
     "name": "stderr",
     "output_type": "stream",
     "text": [
      "title : 1717 south college street\n",
      "description : auburn al 36830\n",
      "\n",
      "title : 4206 south college avenue\n",
      "description : jachsonville al 36545\n",
      "\n",
      "24/10 positive, 22/10 negative\n",
      "Do these records refer to the same thing?\n",
      "(y)es / (n)o / (u)nsure / (f)inished / (p)revious\n"
     ]
    },
    {
     "name": "stdout",
     "output_type": "stream",
     "text": [
      "n\n"
     ]
    },
    {
     "name": "stderr",
     "output_type": "stream",
     "text": [
      "title : 11697 us hwy 431\n",
      "description : guntersville al 35976\n",
      "\n",
      "title : 2575 us highway 43\n",
      "description : winfield al 35594\n",
      "\n",
      "24/10 positive, 23/10 negative\n",
      "Do these records refer to the same thing?\n",
      "(y)es / (n)o / (u)nsure / (f)inished / (p)revious\n"
     ]
    },
    {
     "name": "stdout",
     "output_type": "stream",
     "text": [
      "n\n"
     ]
    },
    {
     "name": "stderr",
     "output_type": "stream",
     "text": [
      "title : 780 lynnway\n",
      "description : lynn ma 1905\n",
      "\n",
      "title : lynwy\n",
      "description : lynnway ma\n",
      "\n",
      "24/10 positive, 24/10 negative\n",
      "Do these records refer to the same thing?\n",
      "(y)es / (n)o / (u)nsure / (f)inished / (p)revious\n"
     ]
    },
    {
     "name": "stdout",
     "output_type": "stream",
     "text": [
      "y\n"
     ]
    },
    {
     "name": "stderr",
     "output_type": "stream",
     "text": [
      "title : 11610 memorial pkwy south\n",
      "description : huntsville al 35803\n",
      "\n",
      "title : 591 memorial dr\n",
      "description : chicopee ma 1020\n",
      "\n",
      "25/10 positive, 24/10 negative\n",
      "Do these records refer to the same thing?\n",
      "(y)es / (n)o / (u)nsure / (f)inished / (p)revious\n"
     ]
    },
    {
     "name": "stdout",
     "output_type": "stream",
     "text": [
      "f\n"
     ]
    },
    {
     "name": "stderr",
     "output_type": "stream",
     "text": [
      "Finished labeling\n",
      "INFO:rlr.crossvalidation:using cross validation to find optimum alpha...\n",
      "INFO:rlr.crossvalidation:optimum alpha: 0.010000, score 0.6197656486307632\n",
      "INFO:dedupe.training:Final predicate set:\n",
      "INFO:dedupe.training:(SimplePredicate: (sameThreeCharStartPredicate, description), TfidfNGramSearchPredicate: (0.2, title))\n",
      "INFO:dedupe.training:(PartialPredicate: (metaphoneToken, title, StreetName), TfidfNGramSearchPredicate: (0.2, description))\n",
      "INFO:dedupe.training:(PartialPredicate: (metaphoneToken, title, StreetName), SimplePredicate: (commonThreeTokens, title))\n"
     ]
    }
   ],
   "source": [
    "# if there already exists a settings_file (with the data model),\n",
    "# create a Dedupe object (linker) that will load the saved settings\n",
    "if os.path.exists(settings_file):\n",
    "    print('reading from', settings_file)\n",
    "    with open(settings_file, 'rb') as sf :\n",
    "        # create a record link object for saved settings- pass the data model to it\n",
    "        linker = dedupe.StaticRecordLink(sf)\n",
    "\n",
    "# if there is no previously saved settings data, create it\n",
    "else:\n",
    "    # Define the fields the linker will pay attention to\n",
    "    # Specifying fields refines the comparison methods so not each part of the record are compared equally\n",
    "    # for example, dedupe will learn which of these fields have higher weights (more important in determining matches) by using regularized logistic regression\n",
    "    # String types compared using affine gap string distance\n",
    "    # Note- the address field is only for US addresses (uses usaddress package to split into components)\n",
    "        # must have dedupe-variable-address installed to use this\n",
    "    fields = [\n",
    "        {'field' : 'title', 'type': 'String'},\n",
    "        {'field' : 'title', 'type': 'Address'},\n",
    "        {'field' : 'description', 'type': 'String'},\n",
    "        {'field' : 'description', 'type': 'Address'}]\n",
    "    \n",
    "    # Create a new linker object\n",
    "    linker = dedupe.RecordLink(fields)\n",
    "    # To train the linker, feed it a sample of records.\n",
    "    linker.sample(data_1, data_2, 15000)\n",
    "\n",
    "    \n",
    "    # If we have training data saved from a previous run of linker,\n",
    "    # look for it and load it in.\n",
    "    if os.path.exists(training_file):\n",
    "        print('reading labeled examples from ', training_file)\n",
    "        with open(training_file) as tf :\n",
    "            linker.readTraining(tf)\n",
    "\n",
    "    # ## Active learning\n",
    "    # Dedupe will find the next pair of records\n",
    "    # it is least certain about and ask for them to be labelled as matches\n",
    "    # or not.\n",
    "    print('starting active labeling...')\n",
    "\n",
    "    # Label examples, add them to the training data, and update the mathcing model\n",
    "    dedupe.consoleLabel(linker)\n",
    "\n",
    "    linker.train()\n",
    "\n",
    "    # When finished, save training data as labeled examples in the training_file\n",
    "    with open(training_file, 'w') as tf :\n",
    "        linker.writeTraining(tf)\n",
    "\n",
    "    # Save weights and predicates.  If the settings file\n",
    "    # exists, skip all the training and learning next time we run\n",
    "    # this file.\n",
    "    with open(settings_file, 'wb') as sf :\n",
    "        linker.writeSettings(sf)"
   ]
  },
  {
   "cell_type": "markdown",
   "metadata": {},
   "source": [
    "Blocking"
   ]
  },
  {
   "cell_type": "code",
   "execution_count": 8,
   "metadata": {
    "collapsed": true
   },
   "outputs": [],
   "source": [
    "import itertools\n",
    "\n",
    "# Split the data up into groups of records with some feature in common\n",
    "# Only comparing the entries in these blocks reduces number of comparisons\n",
    "# This is more useful with larger datasets- where we would use a representative sample rather than all the data\n",
    "# 2 blocking methods- predicate blocks and index (using inverted index)\n",
    "blocks = linker._blockData(data_1,data_2)"
   ]
  },
  {
   "cell_type": "markdown",
   "metadata": {},
   "source": [
    "Calculate precision, recall, threshold"
   ]
  },
  {
   "cell_type": "code",
   "execution_count": 9,
   "metadata": {},
   "outputs": [
    {
     "name": "stderr",
     "output_type": "stream",
     "text": [
      "INFO:dedupe.api:0 records\n",
      "/anaconda/lib/python3.6/site-packages/dedupe/backport.py:20: UserWarning: NumPy linked against 'Accelerate.framework'. Multiprocessing will be disabled. http://mail.scipy.org/pipermail/numpy-discussion/2012-August/063589.html\n",
      "  warnings.warn(\"NumPy linked against 'Accelerate.framework'. \"\n",
      "INFO:dedupe.api:100 records\n",
      "INFO:dedupe.api:200 records\n"
     ]
    }
   ],
   "source": [
    "# the records will be duplicates\n",
    "candidate_records = itertools.chain.from_iterable(linker._blockedPairs(blocks))\n",
    "\n",
    "# Calculate the probability that pair of records are duplicates\n",
    "probability = dedupe.core.scoreDuplicates(candidate_records,\n",
    "                                           linker.data_model,\n",
    "                                           linker.classifier,\n",
    "                                           linker.num_cores)['score']\n",
    "\n",
    "probability = probability.copy()\n",
    "probability.sort()\n",
    "probability = probability[::-1]\n",
    "\n",
    "expected_dupes = numpy.cumsum(probability)\n",
    "\n",
    "# Recall- TP/(TP + FN) - ability to find all interesting data points\n",
    "recall = expected_dupes / expected_dupes[-1]\n",
    "# Precision- TP/(TP + FP) - take the probability that the pairs are duplicates divided by the total number of duplicates\n",
    "precision = expected_dupes / numpy.arange(1, len(expected_dupes) + 1)"
   ]
  },
  {
   "cell_type": "code",
   "execution_count": 10,
   "metadata": {},
   "outputs": [
    {
     "name": "stdout",
     "output_type": "stream",
     "text": [
      "probability: [9.9999678e-01 9.9999678e-01 9.9999678e-01 9.9999678e-01 9.9999678e-01\n",
      " 9.9999678e-01 9.9999678e-01 9.9999654e-01 9.9999613e-01 9.9999541e-01\n",
      " 9.9999529e-01 9.9999315e-01 9.9999213e-01 9.9999034e-01 9.9998856e-01\n",
      " 9.9998468e-01 9.9997830e-01 9.9997461e-01 9.9996018e-01 9.9994999e-01\n",
      " 9.9994898e-01 9.9994260e-01 9.9994248e-01 9.9993414e-01 9.9993271e-01\n",
      " 9.9993044e-01 9.9988478e-01 9.9988425e-01 9.9986899e-01 9.9984628e-01\n",
      " 9.9984193e-01 9.9982285e-01 9.9981815e-01 9.9975628e-01 9.9969292e-01\n",
      " 9.9967510e-01 9.9966443e-01 9.9966043e-01 9.9962455e-01 9.9961346e-01\n",
      " 9.9939525e-01 9.9918050e-01 9.9914211e-01 9.9912804e-01 9.9900293e-01\n",
      " 9.9860072e-01 9.9859989e-01 9.9834120e-01 9.9830270e-01 9.9828058e-01\n",
      " 9.9824435e-01 9.9811625e-01 9.9797779e-01 9.9788743e-01 9.9710727e-01\n",
      " 9.9660027e-01 9.9534625e-01 9.9454069e-01 9.9242800e-01 9.9193501e-01\n",
      " 9.9143577e-01 9.8709077e-01 9.8643100e-01 9.6498561e-01 9.5814884e-01\n",
      " 8.7067372e-01 7.6535785e-01 7.0547503e-01 6.1362571e-01 5.4559320e-01\n",
      " 4.7085747e-01 4.7051996e-01 3.8545513e-01 6.1636142e-02 4.0203150e-02\n",
      " 1.4922452e-02 1.4090022e-02 9.7226892e-03 9.6218549e-03 4.0904656e-03\n",
      " 5.2538293e-04 1.0675468e-05]\n",
      "expected duplicates: [ 0.9999968  1.9999936  2.9999905  3.9999871  4.999984   5.9999804\n",
      "  6.999977   7.999974   8.9999695  9.999965  10.99996   11.999953\n",
      " 12.999946  13.999936  14.999925  15.999909  16.999887  17.999863\n",
      " 18.999823  19.999773  20.999722  21.999664  22.999607  23.99954\n",
      " 24.999474  25.999405  26.99929   27.999174  28.999043  29.998888\n",
      " 30.99873   31.998552  32.99837   33.998127  34.997818  35.997494\n",
      " 36.997158  37.99682   38.996445  39.99606   40.995453  41.994633\n",
      " 42.993774  43.9929    44.991905  45.990505  46.989105  47.987446\n",
      " 48.98575   49.984028  50.982273  51.98039   52.978367  53.976254\n",
      " 54.973362  55.969963  56.96531   57.95985   58.95228   59.944214\n",
      " 60.93565   61.92274   62.909172  63.874157  64.832306  65.70298\n",
      " 66.46834   67.17381   67.78744   68.33303   68.80389   69.27441\n",
      " 69.65986   69.7215    69.7617    69.77663   69.79072   69.80044\n",
      " 69.81006   69.81415   69.814674  69.81468  ]\n",
      "recall: [0.01432359 0.02864718 0.04297077 0.05729435 0.07161794 0.08594153\n",
      " 0.10026512 0.1145887  0.12891227 0.14323585 0.15755941 0.17188294\n",
      " 0.18620647 0.20052996 0.21485344 0.22917686 0.24350017 0.25782347\n",
      " 0.27214652 0.28646943 0.30079234 0.31511515 0.32943797 0.34376064\n",
      " 0.35808334 0.37240598 0.38672796 0.40104994 0.4153717  0.4296931\n",
      " 0.4440145  0.45833558 0.4726566  0.48697674 0.501296   0.5156149\n",
      " 0.52993375 0.5442526  0.5585708  0.572889   0.5872039  0.60151577\n",
      " 0.61582714 0.6301382  0.6444476  0.6587512  0.67305475 0.6873546\n",
      " 0.70165396 0.71595293 0.73025143 0.7445481  0.75884277 0.77313614\n",
      " 0.78741837 0.8016933  0.8159503  0.8301957  0.8444109  0.85861903\n",
      " 0.87281996 0.8869587  0.901088   0.9149101  0.9286343  0.9411055\n",
      " 0.9520682  0.96217316 0.97096246 0.97877735 0.98552173 0.9922613\n",
      " 0.99778235 0.9986653  0.9992412  0.9994549  0.99965674 0.999796\n",
      " 0.9999338  0.9999924  0.9999999  1.        ]\n",
      "precision: [0.99999678 0.99999678 0.99999682 0.99999678 0.99999676 0.99999674\n",
      " 0.99999673 0.99999672 0.99999661 0.99999647 0.99999636 0.99999611\n",
      " 0.99999582 0.99999544 0.99999498 0.99999434 0.99999338 0.99999237\n",
      " 0.99999066 0.99998865 0.99998674 0.99998474 0.99998292 0.99998085\n",
      " 0.99997894 0.99997711 0.99997372 0.9999705  0.99996698 0.99996293\n",
      " 0.99995902 0.99995476 0.99995064 0.99994491 0.99993766 0.99993038\n",
      " 0.99992319 0.99991628 0.99990884 0.99990149 0.99988909 0.99987221\n",
      " 0.99985522 0.99983866 0.99982012 0.99979359 0.9997682  0.99973845\n",
      " 0.99970915 0.99968056 0.99965241 0.99962286 0.99959183 0.99956025\n",
      " 0.99951567 0.99946363 0.99939139 0.99930776 0.99919115 0.99907023\n",
      " 0.99894508 0.99875389 0.99855829 0.9980337  0.99742009 0.9954997\n",
      " 0.99206475 0.98785019 0.98242663 0.97618615 0.96906882 0.96214453\n",
      " 0.95424464 0.94218239 0.93015605 0.91811351 0.90637296 0.89487741\n",
      " 0.88367163 0.87267685 0.86190956 0.85139856]\n"
     ]
    }
   ],
   "source": [
    "print(\"probability:\", probability)\n",
    "print(\"expected duplicates:\", expected_dupes)\n",
    "print(\"recall:\",recall)\n",
    "print(\"precision:\",precision)"
   ]
  },
  {
   "cell_type": "code",
   "execution_count": 11,
   "metadata": {},
   "outputs": [
    {
     "data": {
      "image/png": "[encoded data removed]",
      "text/plain": [
       "<matplotlib.figure.Figure at 0x1143919b0>"
      ]
     },
     "metadata": {},
     "output_type": "display_data"
    }
   ],
   "source": [
    "# Display the predicted precision-recall plot\n",
    "\n",
    "from sklearn.metrics import precision_recall_curve\n",
    "import matplotlib.pyplot as plt\n",
    "\n",
    "\n",
    "plt.step(recall, precision, color='b', alpha=.2, where='post')\n",
    "plt.fill_between(recall, precision, step='post', alpha=0.2,\n",
    "                 color='b')\n",
    "\n",
    "plt.xlabel('Recall')\n",
    "plt.ylabel('Precision')\n",
    "plt.ylim([0.0, 1.05])\n",
    "plt.xlim([0.0, 1.0])\n",
    "plt.title('Precision-Recall curve')\n",
    "plt.show()\n",
    "\n",
    "# PR curve looks nearly perfect due to small amounts of data"
   ]
  },
  {
   "cell_type": "markdown",
   "metadata": {},
   "source": [
    "Clustering"
   ]
  },
  {
   "cell_type": "code",
   "execution_count": 12,
   "metadata": {},
   "outputs": [
    {
     "name": "stderr",
     "output_type": "stream",
     "text": [
      "INFO:dedupe.api:0 records\n",
      "INFO:dedupe.api:100 records\n",
      "INFO:dedupe.api:200 records\n"
     ]
    },
    {
     "name": "stdout",
     "output_type": "stream",
     "text": [
      "Maximum expected recall and precision\n",
      "recall: %2.3f 0.9411055\n",
      "precision: %2.3f 0.9954996975985441\n",
      "With threshold: %2.3f 0.8706737\n",
      "Threshold to maximize expected F score = 0.8706737\n",
      "clustering...\n"
     ]
    }
   ],
   "source": [
    "# Find the threshold that will maximize a weighted average of our\n",
    "# precision and recall (F Score) for a sample of data.  When we set the recall weight to 2, we are\n",
    "# saying we care twice as much about recall as we do precision.\n",
    "#\n",
    "# The weighted avg, or F-score = 2tp/(2tp + fp + fn)\n",
    "# \n",
    "# In this case, set the recall_weight to .5- saying we care twice as much about precision\n",
    "# as we do recall. When matching the data, set the threshold closer to 1 to raise precision\n",
    "# \n",
    "# This is called hierarchical clustering with centroid linkage\n",
    "# Example- A is related to B, C is related to B, so those would all be clustered with B as centroid\n",
    "# The threshold determines the minimum probability for a record to be related to the centroid\n",
    "\n",
    "recall_weight = .5\n",
    "\n",
    "score = recall * precision / (recall + recall_weight ** 2 * precision)\n",
    "\n",
    "i = numpy.argmax(score)\n",
    "\n",
    "print('Maximum expected recall and precision')\n",
    "print('recall: %2.3f', recall[i])\n",
    "print('precision: %2.3f', precision[i])\n",
    "print('With threshold: %2.3f', probability[i])\n",
    "\n",
    "calcThreshold= probability[i]\n",
    "\n",
    "print(\"Threshold to maximize expected F score =\", calcThreshold )\n",
    "\n",
    "\n",
    "print('clustering...')\n",
    "linked_records = linker.match(data_1, data_2, threshold=calcThreshold)"
   ]
  },
  {
   "cell_type": "code",
   "execution_count": 13,
   "metadata": {},
   "outputs": [
    {
     "name": "stdout",
     "output_type": "stream",
     "text": [
      "# duplicate sets 36\n"
     ]
    }
   ],
   "source": [
    "print('# duplicate sets', len(linked_records))"
   ]
  },
  {
   "cell_type": "markdown",
   "metadata": {},
   "source": [
    "Write results"
   ]
  },
  {
   "cell_type": "code",
   "execution_count": 14,
   "metadata": {
    "collapsed": true
   },
   "outputs": [],
   "source": [
    "# Write our original data back out to a CSV with a new column called \n",
    "# 'Cluster ID' which indicates which records refer to each other.\n",
    "\n",
    "cluster_membership = {}\n",
    "cluster_id = None\n",
    "for cluster_id, (cluster, score) in enumerate(linked_records):\n",
    "    for record_id in cluster:\n",
    "        cluster_membership[record_id] = (cluster_id, score)\n",
    "\n",
    "if cluster_id :\n",
    "    unique_id = cluster_id + 1\n",
    "else :\n",
    "    unique_id =0"
   ]
  },
  {
   "cell_type": "code",
   "execution_count": 15,
   "metadata": {
    "collapsed": true
   },
   "outputs": [],
   "source": [
    "with open(output_file, 'w') as f:\n",
    "    writer = csv.writer(f)\n",
    "    \n",
    "    header_unwritten = True\n",
    "\n",
    "    for fileno, filename in enumerate(('addresses.csv', 'user_entries.csv')) :\n",
    "        with open(filename) as f_input :\n",
    "            reader = csv.reader(f_input)\n",
    "\n",
    "            if header_unwritten :\n",
    "                heading_row = next(reader)\n",
    "                heading_row.insert(0, 'source file')\n",
    "                heading_row.insert(0, 'Link Score')\n",
    "                heading_row.insert(0, 'Cluster ID')\n",
    "                writer.writerow(heading_row)\n",
    "                header_unwritten = False\n",
    "            else :\n",
    "                next(reader)\n",
    "\n",
    "            for row_id, row in enumerate(reader):\n",
    "                cluster_details = cluster_membership.get(filename + str(row_id))\n",
    "                if cluster_details is None :\n",
    "                    cluster_id = unique_id\n",
    "                    unique_id += 1\n",
    "                    score = None\n",
    "                else :\n",
    "                    cluster_id, score = cluster_details\n",
    "                row.insert(0, fileno)\n",
    "                row.insert(0, score)\n",
    "                row.insert(0, cluster_id)\n",
    "                writer.writerow(row)"
   ]
  },
  {
   "cell_type": "code",
   "execution_count": 33,
   "metadata": {},
   "outputs": [
    {
     "name": "stdout",
     "output_type": "stream",
     "text": [
      "Enter the street address: 700 Brockton Ave\n",
      "Enter the city: Abington\n",
      "Enter the state: MA\n",
      "Enter the zip code: 2351\n"
     ]
    }
   ],
   "source": [
    "addr = input('Enter the street address: ')\n",
    "city = input('Enter the city: ')\n",
    "state = input('Enter the state: ')\n",
    "zip_code = input('Enter the zip code: ')\n",
    "\n",
    "# create a new file that will contain the user's entry\n",
    "user_input_file = 'user_input_file.csv'\n",
    "with open (user_input_file, 'w', newline='') as csvfile:\n",
    "    fieldnames = ['unique_id','title', 'description']\n",
    "    writer = csv.DictWriter(csvfile, fieldnames=fieldnames)\n",
    "    writer.writeheader()\n",
    "    writer.writerow({'unique_id' : \"1\", 'title': addr, 'description': city +\" \" + state + \" \" + \" \" + zip_code})\n",
    "csvfile.close()\n",
    "   \n",
    "# Actual address is 777 Brockton Avenue Abington MA 2351"
   ]
  },
  {
   "cell_type": "code",
   "execution_count": 24,
   "metadata": {
    "collapsed": true
   },
   "outputs": [],
   "source": [
    "# fields = [{'field' : 'title', 'type': 'String'},\n",
    "#         {'field' : 'title', 'type': 'Address'},{'field':'description', 'type':'String'},{'field':'description', 'type':'Address'}]\n",
    "    \n",
    "# duper = dedupe.RecordLink(fields)"
   ]
  },
  {
   "cell_type": "code",
   "execution_count": 34,
   "metadata": {
    "collapsed": true
   },
   "outputs": [],
   "source": [
    "data_entry = readData('user_input_file.csv')"
   ]
  },
  {
   "cell_type": "code",
   "execution_count": 35,
   "metadata": {
    "collapsed": true
   },
   "outputs": [],
   "source": [
    "# duper.sample(data_1,data_entry)"
   ]
  },
  {
   "cell_type": "code",
   "execution_count": 36,
   "metadata": {
    "collapsed": true,
    "scrolled": false
   },
   "outputs": [],
   "source": [
    "# dedupe.consoleLabel(duper)"
   ]
  },
  {
   "cell_type": "code",
   "execution_count": 37,
   "metadata": {
    "collapsed": true
   },
   "outputs": [],
   "source": [
    "# now, need to update the settings file and training file when user enters a new address"
   ]
  },
  {
   "cell_type": "code",
   "execution_count": 38,
   "metadata": {},
   "outputs": [
    {
     "name": "stderr",
     "output_type": "stream",
     "text": [
      "INFO:dedupe.api:0 records\n",
      "INFO:dedupe.api:100 records\n",
      "INFO:dedupe.api:200 records\n"
     ]
    },
    {
     "data": {
      "text/plain": [
       "[(('addresses.csv0', 'user_input_file.csv0'), 0.9999227)]"
      ]
     },
     "execution_count": 38,
     "metadata": {},
     "output_type": "execute_result"
    }
   ],
   "source": [
    "linker.match(data_1, data_entry)"
   ]
  },
  {
   "cell_type": "code",
   "execution_count": 45,
   "metadata": {},
   "outputs": [
    {
     "name": "stdout",
     "output_type": "stream",
     "text": [
      "Enter the street address: 700 Brockton\n",
      "Enter the city: Abington\n",
      "Enter the state: MA\n",
      "Enter the zip code: 2351\n"
     ]
    }
   ],
   "source": [
    "addr = input('Enter the street address: ')\n",
    "city = input('Enter the city: ')\n",
    "state = input('Enter the state: ')\n",
    "zip_code = input('Enter the zip code: ')\n",
    "\n",
    "# create a new file that will contain the user's entry\n",
    "user_input_file = 'user_input_file2.csv'\n",
    "with open (user_input_file, 'w', newline='') as csvfile:\n",
    "    fieldnames = ['unique_id','title', 'description']\n",
    "    writer = csv.DictWriter(csvfile, fieldnames=fieldnames)\n",
    "    writer.writeheader()\n",
    "    writer.writerow({'unique_id' : \"1\", 'title': addr, 'description': city +\" \" + state + \" \" + \" \" + zip_code})\n",
    "csvfile.close()\n",
    "   \n",
    "# Actual address is 777 Brockton Avenue Abington MA 2351"
   ]
  },
  {
   "cell_type": "code",
   "execution_count": 46,
   "metadata": {
    "collapsed": true
   },
   "outputs": [],
   "source": [
    "data_entry = readData('user_input_file2.csv')"
   ]
  },
  {
   "cell_type": "code",
   "execution_count": 47,
   "metadata": {},
   "outputs": [
    {
     "name": "stderr",
     "output_type": "stream",
     "text": [
      "INFO:dedupe.api:0 records\n",
      "INFO:dedupe.api:100 records\n",
      "INFO:dedupe.api:200 records\n"
     ]
    },
    {
     "data": {
      "text/plain": [
       "[(('addresses.csv0', 'user_input_file2.csv0'), 0.99990386)]"
      ]
     },
     "execution_count": 47,
     "metadata": {},
     "output_type": "execute_result"
    }
   ],
   "source": [
    "linker.match(data_1, data_entry)"
   ]
  },
  {
   "cell_type": "code",
   "execution_count": 48,
   "metadata": {},
   "outputs": [
    {
     "name": "stdout",
     "output_type": "stream",
     "text": [
      "Enter the street address: 777 Brockton Avenue\n",
      "Enter the city: Abing\n",
      "Enter the state: MA\n",
      "Enter the zip code: 2351\n"
     ]
    },
    {
     "name": "stderr",
     "output_type": "stream",
     "text": [
      "INFO:dedupe.api:0 records\n",
      "INFO:dedupe.api:100 records\n",
      "INFO:dedupe.api:200 records\n"
     ]
    },
    {
     "data": {
      "text/plain": [
       "[(('addresses.csv0', 'user_input_file3.csv0'), 0.99995184)]"
      ]
     },
     "execution_count": 48,
     "metadata": {},
     "output_type": "execute_result"
    }
   ],
   "source": [
    "addr = input('Enter the street address: ')\n",
    "city = input('Enter the city: ')\n",
    "state = input('Enter the state: ')\n",
    "zip_code = input('Enter the zip code: ')\n",
    "\n",
    "# create a new file that will contain the user's entry\n",
    "user_input_file = 'user_input_file3.csv'\n",
    "with open (user_input_file, 'w', newline='') as csvfile:\n",
    "    fieldnames = ['unique_id','title', 'description']\n",
    "    writer = csv.DictWriter(csvfile, fieldnames=fieldnames)\n",
    "    writer.writeheader()\n",
    "    writer.writerow({'unique_id' : \"1\", 'title': addr, 'description': city +\" \" + state + \" \" + \" \" + zip_code})\n",
    "csvfile.close()\n",
    "   \n",
    "# Actual address is 777 Brockton Avenue Abington MA 2351\n",
    "\n",
    "data_entry = readData('user_input_file3.csv')\n",
    "\n",
    "linker.match(data_1, data_entry)"
   ]
  },
  {
   "cell_type": "code",
   "execution_count": 52,
   "metadata": {},
   "outputs": [
    {
     "name": "stdout",
     "output_type": "stream",
     "text": [
      "Enter the street address: 777 Brockton Avenue\n",
      "Enter the city: Abingto\n",
      "Enter the state: massachusetts\n",
      "Enter the zip code: 2350\n"
     ]
    },
    {
     "name": "stderr",
     "output_type": "stream",
     "text": [
      "INFO:dedupe.api:0 records\n",
      "INFO:dedupe.api:100 records\n",
      "INFO:dedupe.api:200 records\n"
     ]
    },
    {
     "data": {
      "text/plain": [
       "[(('addresses.csv0', 'user_input_file4.csv0'), 0.99956554)]"
      ]
     },
     "execution_count": 52,
     "metadata": {},
     "output_type": "execute_result"
    }
   ],
   "source": [
    "addr = input('Enter the street address: ')\n",
    "city = input('Enter the city: ')\n",
    "state = input('Enter the state: ')\n",
    "zip_code = input('Enter the zip code: ')\n",
    "\n",
    "# create a new file that will contain the user's entry\n",
    "user_input_file = 'user_input_file4.csv'\n",
    "with open (user_input_file, 'w', newline='') as csvfile:\n",
    "    fieldnames = ['unique_id','title', 'description']\n",
    "    writer = csv.DictWriter(csvfile, fieldnames=fieldnames)\n",
    "    writer.writeheader()\n",
    "    writer.writerow({'unique_id' : \"1\", 'title': addr, 'description': city +\" \" + state + \" \" + \" \" + zip_code})\n",
    "csvfile.close()\n",
    "   \n",
    "# Actual address is 777 Brockton Avenue Abington MA 2351\n",
    "\n",
    "data_entry = readData('user_input_file4.csv')\n",
    "\n",
    "linker.match(data_1, data_entry)"
   ]
  },
  {
   "cell_type": "code",
   "execution_count": null,
   "metadata": {
    "collapsed": true
   },
   "outputs": [],
   "source": [
    "# Save the record linkage object to a pickle\n",
    "import pickle\n",
    "pickle.dump()"
   ]
  },
  {
   "cell_type": "code",
   "execution_count": null,
   "metadata": {
    "collapsed": true
   },
   "outputs": [],
   "source": []
  }
 ],
 "metadata": {
  "kernelspec": {
   "display_name": "Python 3",
   "language": "python",
   "name": "python3"
  },
  "language_info": {
   "codemirror_mode": {
    "name": "ipython",
    "version": 3
   },
   "file_extension": ".py",
   "mimetype": "text/x-python",
   "name": "python",
   "nbconvert_exporter": "python",
   "pygments_lexer": "ipython3",
   "version": "3.6.1"
  }
 },
 "nbformat": 4,
 "nbformat_minor": 2
}
