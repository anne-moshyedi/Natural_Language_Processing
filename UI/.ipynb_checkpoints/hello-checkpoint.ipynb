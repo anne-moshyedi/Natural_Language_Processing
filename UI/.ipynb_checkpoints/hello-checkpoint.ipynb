{
 "cells": [
  {
   "cell_type": "code",
   "execution_count": 1,
   "metadata": {
    "collapsed": true
   },
   "outputs": [],
   "source": [
    "from flask import Flask, request, redirect, url_for, render_template\n",
    "import os\n",
    "from werkzeug.utils import secure_filename\n",
    "\n",
    "UPLOAD_FOLDER = '/path/to/the/uploads'\n",
    "ALLOWED_EXTENSIONS = set(['txt', 'pdf', 'png', 'jpg', 'jpeg', 'gif'])\n",
    "\n",
    "app = Flask(__name__)\n",
    "app.config['UPLOAD_FOLDER'] = UPLOAD_FOLDER\n",
    "\n",
    "def allowed_file(filename):\n",
    "    return '.' in filename and \\\n",
    "           filename.rsplit('.', 1)[1].lower() in ALLOWED_EXTENSIONS\n",
    "\n",
    "@app.route('/')\n",
    "\n",
    "@app.route('/login.html')\n",
    "def login(name=None):\n",
    "    return render_template('login.html', name=name)\n",
    "\n",
    "@app.route('/index.html')\n",
    "def index(name=None):\n",
    "    return render_template('index.html', name=name)\n",
    "\n",
    "@app.route('/charts.html')\n",
    "def charts(name=None):\n",
    "    return render_template('charts.html', name=name)\n",
    "\n",
    "@app.route('/register.html')\n",
    "def register(name=None):\n",
    "    return render_template('register.html', name=name)\n",
    "\n",
    "@app.route('/blank.html')\n",
    "def blank(name=None):\n",
    "    return render_template('blank.html', name=name)\n",
    "\n",
    "@app.route('/tables.html')\n",
    "def tables(name=None):\n",
    "    return render_template('tables.html', name=name)\n",
    "\n",
    "@app.route('/forgot-password.html')\n",
    "def forgot(name=None):\n",
    "    return render_template('forgot-password.html', name=name)\n",
    "\n",
    "@app.route('/navbar.html')\n",
    "def navbar(name=None):\n",
    "    return render_template('navbar.html', name=name)\n",
    "\n",
    "@app.route('/cards.html')\n",
    "def cards(name=None):\n",
    "    return render_template('cards.html', name=name)\n"
   ]
  },
  {
   "cell_type": "code",
   "execution_count": null,
   "metadata": {},
   "outputs": [
    {
     "name": "stderr",
     "output_type": "stream",
     "text": [
      " * Running on http://127.0.0.1:5000/ (Press CTRL+C to quit)\n",
      "127.0.0.1 - - [12/Jul/2018 09:16:36] \"GET / HTTP/1.1\" 200 -\n"
     ]
    }
   ],
   "source": [
    "if __name__ == \"__main__\":\n",
    "    app.run()"
   ]
  },
  {
   "cell_type": "code",
   "execution_count": null,
   "metadata": {
    "collapsed": true
   },
   "outputs": [],
   "source": []
  },
  {
   "cell_type": "code",
   "execution_count": null,
   "metadata": {
    "collapsed": true
   },
   "outputs": [],
   "source": []
  },
  {
   "cell_type": "code",
   "execution_count": null,
   "metadata": {},
   "outputs": [],
   "source": []
  },
  {
   "cell_type": "code",
   "execution_count": null,
   "metadata": {
    "collapsed": true
   },
   "outputs": [],
   "source": []
  }
 ],
 "metadata": {
  "kernelspec": {
   "display_name": "Python 3",
   "language": "python",
   "name": "python3"
  },
  "language_info": {
   "codemirror_mode": {
    "name": "ipython",
    "version": 3
   },
   "file_extension": ".py",
   "mimetype": "text/x-python",
   "name": "python",
   "nbconvert_exporter": "python",
   "pygments_lexer": "ipython3",
   "version": "3.6.1"
  }
 },
 "nbformat": 4,
 "nbformat_minor": 2
}
